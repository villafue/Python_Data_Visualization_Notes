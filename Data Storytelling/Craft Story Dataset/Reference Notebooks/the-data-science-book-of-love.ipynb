{
  "nbformat": 4,
  "nbformat_minor": 0,
  "metadata": {
    "kernelspec": {
      "display_name": "Python 3",
      "language": "python",
      "name": "python3"
    },
    "language_info": {
      "name": "python",
      "version": "3.6.6",
      "mimetype": "text/x-python",
      "codemirror_mode": {
        "name": "ipython",
        "version": 3
      },
      "pygments_lexer": "ipython3",
      "nbconvert_exporter": "python",
      "file_extension": ".py"
    },
    "colab": {
      "name": "the-data-science-book-of-love.ipynb",
      "provenance": [],
      "include_colab_link": true
    }
  },
  "cells": [
    {
      "cell_type": "markdown",
      "metadata": {
        "id": "view-in-github",
        "colab_type": "text"
      },
      "source": [
        "<a href=\"https://colab.research.google.com/github/villafue/Python_Data_Visualization_Notes/blob/master/Data%20Storytelling/Craft%20Story%20Dataset/Reference%20Notebooks/the-data-science-book-of-love.ipynb\" target=\"_parent\"><img src=\"https://colab.research.google.com/assets/colab-badge.svg\" alt=\"Open In Colab\"/></a>"
      ]
    },
    {
      "cell_type": "markdown",
      "metadata": {
        "_uuid": "ce958a59d7b3b81335e5a60ecab217222cdf9b28",
        "id": "21kyEwho2Fl9"
      },
      "source": [
        "# Introduction\n",
        "\n",
        "What is the trigger that makes us think *hey, I like this person*? \n",
        "\n",
        "How do we see ourselves in appealing the interest of people of the opposite gender?\n",
        "\n",
        "What makes us say *yes* to someone we met 4 minutes ago?\n",
        "\n",
        "This notebook will use the data from the speed dating experiment to explore various ways of answering these questions. In doing so, we will observe how participants behaved and thought differently in relation with their gender or their race. We will see how different was the perception they had about themselves with respect to the one they had of the others. We will see how they, consciously or not, lie about their thoughts.\n",
        "\n",
        "The journey to get to these answers will go through the following steps:\n",
        "* **Who are the participants?** Age, gender, race, field of study, and more will be explored here, finding some unexpected differences in various segments of this sample of people.\n",
        "* **Breaking the Waves**. The experimental settings (rules of the dating, rating system) changed across various sessions, can we spot differences in how people rated their partners or simply decided to say *yes* when the rules changes? (This section will be expanded further separately since it can be of interest in terms of questionnaire preparation issues)\n",
        "* **Rating and deciding**. After 4 minutes talking with a stranger, each participant graded their experience and took a decision, what patterns were hiding in there?\n",
        "* **Machines can love too**. Giving who you are and who you have in front, can a dumb heartless machine predict your decision? What do machines get right? What do they get wrong?\n",
        "\n",
        "***Note***: I have no way to prove that this group of people is in any way representative of the population and we should all assume it isn't. For how careful I want to be in expressing myself in a way that takes into account this fact, from time to time, either to make the sentence more fluent or because I am lazy, I might say things like *Males likes watching sports on the tv more than Females*. For how true this statement is for the 850 people here, there is no scientific reason to assume that this works for all the males and females. In other words, the words *in this sample* are very much implied every single time."
      ]
    },
    {
      "cell_type": "code",
      "metadata": {
        "trusted": true,
        "_uuid": "29a3dc4b32757f589fc149863a801840fb07c9f2",
        "_kg_hide-input": true,
        "id": "bd6L2UxP2FmA"
      },
      "source": [
        "# standard\n",
        "import pandas as pd\n",
        "import numpy as np\n",
        "\n",
        "#visualization\n",
        "import seaborn as sns\n",
        "import matplotlib.pyplot as plt\n",
        "%matplotlib inline\n",
        "\n",
        "pd.set_option('display.max_columns', None)"
      ],
      "execution_count": 1,
      "outputs": []
    },
    {
      "cell_type": "code",
      "metadata": {
        "trusted": true,
        "_uuid": "2f1d16a14f7c391f48ca7bb82da86608a418913e",
        "_kg_hide-input": true,
        "id": "h9RfXJP32FmB",
        "outputId": "8fe0eaaf-1735-4375-a6fb-4686b94d0659",
        "colab": {
          "base_uri": "https://localhost:8080/",
          "height": 215
        }
      },
      "source": [
        "df_full = pd.read_csv('https://raw.githubusercontent.com/villafue/Python_Data_Visualization_Notes/master/Data%20Storytelling/Craft%20Story%20Dataset/Data/Speed%20Dating%20Data.csv', encoding='ISO-8859-1')\n",
        "df_full.head()"
      ],
      "execution_count": 2,
      "outputs": [
        {
          "output_type": "execute_result",
          "data": {
            "text/html": [
              "<div>\n",
              "<style scoped>\n",
              "    .dataframe tbody tr th:only-of-type {\n",
              "        vertical-align: middle;\n",
              "    }\n",
              "\n",
              "    .dataframe tbody tr th {\n",
              "        vertical-align: top;\n",
              "    }\n",
              "\n",
              "    .dataframe thead th {\n",
              "        text-align: right;\n",
              "    }\n",
              "</style>\n",
              "<table border=\"1\" class=\"dataframe\">\n",
              "  <thead>\n",
              "    <tr style=\"text-align: right;\">\n",
              "      <th></th>\n",
              "      <th>iid</th>\n",
              "      <th>id</th>\n",
              "      <th>gender</th>\n",
              "      <th>idg</th>\n",
              "      <th>condtn</th>\n",
              "      <th>wave</th>\n",
              "      <th>round</th>\n",
              "      <th>position</th>\n",
              "      <th>positin1</th>\n",
              "      <th>order</th>\n",
              "      <th>partner</th>\n",
              "      <th>pid</th>\n",
              "      <th>match</th>\n",
              "      <th>int_corr</th>\n",
              "      <th>samerace</th>\n",
              "      <th>age_o</th>\n",
              "      <th>race_o</th>\n",
              "      <th>pf_o_att</th>\n",
              "      <th>pf_o_sin</th>\n",
              "      <th>pf_o_int</th>\n",
              "      <th>pf_o_fun</th>\n",
              "      <th>pf_o_amb</th>\n",
              "      <th>pf_o_sha</th>\n",
              "      <th>dec_o</th>\n",
              "      <th>attr_o</th>\n",
              "      <th>sinc_o</th>\n",
              "      <th>intel_o</th>\n",
              "      <th>fun_o</th>\n",
              "      <th>amb_o</th>\n",
              "      <th>shar_o</th>\n",
              "      <th>like_o</th>\n",
              "      <th>prob_o</th>\n",
              "      <th>met_o</th>\n",
              "      <th>age</th>\n",
              "      <th>field</th>\n",
              "      <th>field_cd</th>\n",
              "      <th>undergra</th>\n",
              "      <th>mn_sat</th>\n",
              "      <th>tuition</th>\n",
              "      <th>race</th>\n",
              "      <th>imprace</th>\n",
              "      <th>imprelig</th>\n",
              "      <th>from</th>\n",
              "      <th>zipcode</th>\n",
              "      <th>income</th>\n",
              "      <th>goal</th>\n",
              "      <th>date</th>\n",
              "      <th>go_out</th>\n",
              "      <th>career</th>\n",
              "      <th>career_c</th>\n",
              "      <th>sports</th>\n",
              "      <th>tvsports</th>\n",
              "      <th>exercise</th>\n",
              "      <th>dining</th>\n",
              "      <th>museums</th>\n",
              "      <th>art</th>\n",
              "      <th>hiking</th>\n",
              "      <th>gaming</th>\n",
              "      <th>clubbing</th>\n",
              "      <th>reading</th>\n",
              "      <th>tv</th>\n",
              "      <th>theater</th>\n",
              "      <th>movies</th>\n",
              "      <th>concerts</th>\n",
              "      <th>music</th>\n",
              "      <th>shopping</th>\n",
              "      <th>yoga</th>\n",
              "      <th>exphappy</th>\n",
              "      <th>expnum</th>\n",
              "      <th>attr1_1</th>\n",
              "      <th>sinc1_1</th>\n",
              "      <th>intel1_1</th>\n",
              "      <th>fun1_1</th>\n",
              "      <th>amb1_1</th>\n",
              "      <th>shar1_1</th>\n",
              "      <th>attr4_1</th>\n",
              "      <th>sinc4_1</th>\n",
              "      <th>intel4_1</th>\n",
              "      <th>fun4_1</th>\n",
              "      <th>amb4_1</th>\n",
              "      <th>shar4_1</th>\n",
              "      <th>attr2_1</th>\n",
              "      <th>sinc2_1</th>\n",
              "      <th>intel2_1</th>\n",
              "      <th>fun2_1</th>\n",
              "      <th>amb2_1</th>\n",
              "      <th>shar2_1</th>\n",
              "      <th>attr3_1</th>\n",
              "      <th>sinc3_1</th>\n",
              "      <th>fun3_1</th>\n",
              "      <th>intel3_1</th>\n",
              "      <th>amb3_1</th>\n",
              "      <th>attr5_1</th>\n",
              "      <th>sinc5_1</th>\n",
              "      <th>intel5_1</th>\n",
              "      <th>fun5_1</th>\n",
              "      <th>amb5_1</th>\n",
              "      <th>dec</th>\n",
              "      <th>attr</th>\n",
              "      <th>sinc</th>\n",
              "      <th>intel</th>\n",
              "      <th>fun</th>\n",
              "      <th>amb</th>\n",
              "      <th>shar</th>\n",
              "      <th>like</th>\n",
              "      <th>prob</th>\n",
              "      <th>met</th>\n",
              "      <th>match_es</th>\n",
              "      <th>attr1_s</th>\n",
              "      <th>sinc1_s</th>\n",
              "      <th>intel1_s</th>\n",
              "      <th>fun1_s</th>\n",
              "      <th>amb1_s</th>\n",
              "      <th>shar1_s</th>\n",
              "      <th>attr3_s</th>\n",
              "      <th>sinc3_s</th>\n",
              "      <th>intel3_s</th>\n",
              "      <th>fun3_s</th>\n",
              "      <th>amb3_s</th>\n",
              "      <th>satis_2</th>\n",
              "      <th>length</th>\n",
              "      <th>numdat_2</th>\n",
              "      <th>attr7_2</th>\n",
              "      <th>sinc7_2</th>\n",
              "      <th>intel7_2</th>\n",
              "      <th>fun7_2</th>\n",
              "      <th>amb7_2</th>\n",
              "      <th>shar7_2</th>\n",
              "      <th>attr1_2</th>\n",
              "      <th>sinc1_2</th>\n",
              "      <th>intel1_2</th>\n",
              "      <th>fun1_2</th>\n",
              "      <th>amb1_2</th>\n",
              "      <th>shar1_2</th>\n",
              "      <th>attr4_2</th>\n",
              "      <th>sinc4_2</th>\n",
              "      <th>intel4_2</th>\n",
              "      <th>fun4_2</th>\n",
              "      <th>amb4_2</th>\n",
              "      <th>shar4_2</th>\n",
              "      <th>attr2_2</th>\n",
              "      <th>sinc2_2</th>\n",
              "      <th>intel2_2</th>\n",
              "      <th>fun2_2</th>\n",
              "      <th>amb2_2</th>\n",
              "      <th>shar2_2</th>\n",
              "      <th>attr3_2</th>\n",
              "      <th>sinc3_2</th>\n",
              "      <th>intel3_2</th>\n",
              "      <th>fun3_2</th>\n",
              "      <th>amb3_2</th>\n",
              "      <th>attr5_2</th>\n",
              "      <th>sinc5_2</th>\n",
              "      <th>intel5_2</th>\n",
              "      <th>fun5_2</th>\n",
              "      <th>amb5_2</th>\n",
              "      <th>you_call</th>\n",
              "      <th>them_cal</th>\n",
              "      <th>date_3</th>\n",
              "      <th>numdat_3</th>\n",
              "      <th>num_in_3</th>\n",
              "      <th>attr1_3</th>\n",
              "      <th>sinc1_3</th>\n",
              "      <th>intel1_3</th>\n",
              "      <th>fun1_3</th>\n",
              "      <th>amb1_3</th>\n",
              "      <th>shar1_3</th>\n",
              "      <th>attr7_3</th>\n",
              "      <th>sinc7_3</th>\n",
              "      <th>intel7_3</th>\n",
              "      <th>fun7_3</th>\n",
              "      <th>amb7_3</th>\n",
              "      <th>shar7_3</th>\n",
              "      <th>attr4_3</th>\n",
              "      <th>sinc4_3</th>\n",
              "      <th>intel4_3</th>\n",
              "      <th>fun4_3</th>\n",
              "      <th>amb4_3</th>\n",
              "      <th>shar4_3</th>\n",
              "      <th>attr2_3</th>\n",
              "      <th>sinc2_3</th>\n",
              "      <th>intel2_3</th>\n",
              "      <th>fun2_3</th>\n",
              "      <th>amb2_3</th>\n",
              "      <th>shar2_3</th>\n",
              "      <th>attr3_3</th>\n",
              "      <th>sinc3_3</th>\n",
              "      <th>intel3_3</th>\n",
              "      <th>fun3_3</th>\n",
              "      <th>amb3_3</th>\n",
              "      <th>attr5_3</th>\n",
              "      <th>sinc5_3</th>\n",
              "      <th>intel5_3</th>\n",
              "      <th>fun5_3</th>\n",
              "      <th>amb5_3</th>\n",
              "    </tr>\n",
              "  </thead>\n",
              "  <tbody>\n",
              "    <tr>\n",
              "      <th>0</th>\n",
              "      <td>1</td>\n",
              "      <td>1.0</td>\n",
              "      <td>0</td>\n",
              "      <td>1</td>\n",
              "      <td>1</td>\n",
              "      <td>1</td>\n",
              "      <td>10</td>\n",
              "      <td>7</td>\n",
              "      <td>NaN</td>\n",
              "      <td>4</td>\n",
              "      <td>1</td>\n",
              "      <td>11.0</td>\n",
              "      <td>0</td>\n",
              "      <td>0.14</td>\n",
              "      <td>0</td>\n",
              "      <td>27.0</td>\n",
              "      <td>2.0</td>\n",
              "      <td>35.0</td>\n",
              "      <td>20.0</td>\n",
              "      <td>20.0</td>\n",
              "      <td>20.0</td>\n",
              "      <td>0.0</td>\n",
              "      <td>5.0</td>\n",
              "      <td>0</td>\n",
              "      <td>6.0</td>\n",
              "      <td>8.0</td>\n",
              "      <td>8.0</td>\n",
              "      <td>8.0</td>\n",
              "      <td>8.0</td>\n",
              "      <td>6.0</td>\n",
              "      <td>7.0</td>\n",
              "      <td>4.0</td>\n",
              "      <td>2.0</td>\n",
              "      <td>21.0</td>\n",
              "      <td>Law</td>\n",
              "      <td>1.0</td>\n",
              "      <td>NaN</td>\n",
              "      <td>NaN</td>\n",
              "      <td>NaN</td>\n",
              "      <td>4.0</td>\n",
              "      <td>2.0</td>\n",
              "      <td>4.0</td>\n",
              "      <td>Chicago</td>\n",
              "      <td>60,521</td>\n",
              "      <td>69,487.00</td>\n",
              "      <td>2.0</td>\n",
              "      <td>7.0</td>\n",
              "      <td>1.0</td>\n",
              "      <td>lawyer</td>\n",
              "      <td>NaN</td>\n",
              "      <td>9.0</td>\n",
              "      <td>2.0</td>\n",
              "      <td>8.0</td>\n",
              "      <td>9.0</td>\n",
              "      <td>1.0</td>\n",
              "      <td>1.0</td>\n",
              "      <td>5.0</td>\n",
              "      <td>1.0</td>\n",
              "      <td>5.0</td>\n",
              "      <td>6.0</td>\n",
              "      <td>9.0</td>\n",
              "      <td>1.0</td>\n",
              "      <td>10.0</td>\n",
              "      <td>10.0</td>\n",
              "      <td>9.0</td>\n",
              "      <td>8.0</td>\n",
              "      <td>1.0</td>\n",
              "      <td>3.0</td>\n",
              "      <td>2.0</td>\n",
              "      <td>15.0</td>\n",
              "      <td>20.0</td>\n",
              "      <td>20.0</td>\n",
              "      <td>15.0</td>\n",
              "      <td>15.0</td>\n",
              "      <td>15.0</td>\n",
              "      <td>NaN</td>\n",
              "      <td>NaN</td>\n",
              "      <td>NaN</td>\n",
              "      <td>NaN</td>\n",
              "      <td>NaN</td>\n",
              "      <td>NaN</td>\n",
              "      <td>35.0</td>\n",
              "      <td>20.0</td>\n",
              "      <td>15.0</td>\n",
              "      <td>20.0</td>\n",
              "      <td>5.0</td>\n",
              "      <td>5.0</td>\n",
              "      <td>6.0</td>\n",
              "      <td>8.0</td>\n",
              "      <td>8.0</td>\n",
              "      <td>8.0</td>\n",
              "      <td>7.0</td>\n",
              "      <td>NaN</td>\n",
              "      <td>NaN</td>\n",
              "      <td>NaN</td>\n",
              "      <td>NaN</td>\n",
              "      <td>NaN</td>\n",
              "      <td>1</td>\n",
              "      <td>6.0</td>\n",
              "      <td>9.0</td>\n",
              "      <td>7.0</td>\n",
              "      <td>7.0</td>\n",
              "      <td>6.0</td>\n",
              "      <td>5.0</td>\n",
              "      <td>7.0</td>\n",
              "      <td>6.0</td>\n",
              "      <td>2.0</td>\n",
              "      <td>4.0</td>\n",
              "      <td>NaN</td>\n",
              "      <td>NaN</td>\n",
              "      <td>NaN</td>\n",
              "      <td>NaN</td>\n",
              "      <td>NaN</td>\n",
              "      <td>NaN</td>\n",
              "      <td>NaN</td>\n",
              "      <td>NaN</td>\n",
              "      <td>NaN</td>\n",
              "      <td>NaN</td>\n",
              "      <td>NaN</td>\n",
              "      <td>6.0</td>\n",
              "      <td>2.0</td>\n",
              "      <td>1.0</td>\n",
              "      <td>NaN</td>\n",
              "      <td>NaN</td>\n",
              "      <td>NaN</td>\n",
              "      <td>NaN</td>\n",
              "      <td>NaN</td>\n",
              "      <td>NaN</td>\n",
              "      <td>19.44</td>\n",
              "      <td>16.67</td>\n",
              "      <td>13.89</td>\n",
              "      <td>22.22</td>\n",
              "      <td>11.11</td>\n",
              "      <td>16.67</td>\n",
              "      <td>NaN</td>\n",
              "      <td>NaN</td>\n",
              "      <td>NaN</td>\n",
              "      <td>NaN</td>\n",
              "      <td>NaN</td>\n",
              "      <td>NaN</td>\n",
              "      <td>NaN</td>\n",
              "      <td>NaN</td>\n",
              "      <td>NaN</td>\n",
              "      <td>NaN</td>\n",
              "      <td>NaN</td>\n",
              "      <td>NaN</td>\n",
              "      <td>6.0</td>\n",
              "      <td>7.0</td>\n",
              "      <td>8.0</td>\n",
              "      <td>7.0</td>\n",
              "      <td>6.0</td>\n",
              "      <td>NaN</td>\n",
              "      <td>NaN</td>\n",
              "      <td>NaN</td>\n",
              "      <td>NaN</td>\n",
              "      <td>NaN</td>\n",
              "      <td>1.0</td>\n",
              "      <td>1.0</td>\n",
              "      <td>0.0</td>\n",
              "      <td>NaN</td>\n",
              "      <td>NaN</td>\n",
              "      <td>15.0</td>\n",
              "      <td>20.0</td>\n",
              "      <td>20.0</td>\n",
              "      <td>15.0</td>\n",
              "      <td>15.0</td>\n",
              "      <td>15.0</td>\n",
              "      <td>NaN</td>\n",
              "      <td>NaN</td>\n",
              "      <td>NaN</td>\n",
              "      <td>NaN</td>\n",
              "      <td>NaN</td>\n",
              "      <td>NaN</td>\n",
              "      <td>NaN</td>\n",
              "      <td>NaN</td>\n",
              "      <td>NaN</td>\n",
              "      <td>NaN</td>\n",
              "      <td>NaN</td>\n",
              "      <td>NaN</td>\n",
              "      <td>NaN</td>\n",
              "      <td>NaN</td>\n",
              "      <td>NaN</td>\n",
              "      <td>NaN</td>\n",
              "      <td>NaN</td>\n",
              "      <td>NaN</td>\n",
              "      <td>5.0</td>\n",
              "      <td>7.0</td>\n",
              "      <td>7.0</td>\n",
              "      <td>7.0</td>\n",
              "      <td>7.0</td>\n",
              "      <td>NaN</td>\n",
              "      <td>NaN</td>\n",
              "      <td>NaN</td>\n",
              "      <td>NaN</td>\n",
              "      <td>NaN</td>\n",
              "    </tr>\n",
              "    <tr>\n",
              "      <th>1</th>\n",
              "      <td>1</td>\n",
              "      <td>1.0</td>\n",
              "      <td>0</td>\n",
              "      <td>1</td>\n",
              "      <td>1</td>\n",
              "      <td>1</td>\n",
              "      <td>10</td>\n",
              "      <td>7</td>\n",
              "      <td>NaN</td>\n",
              "      <td>3</td>\n",
              "      <td>2</td>\n",
              "      <td>12.0</td>\n",
              "      <td>0</td>\n",
              "      <td>0.54</td>\n",
              "      <td>0</td>\n",
              "      <td>22.0</td>\n",
              "      <td>2.0</td>\n",
              "      <td>60.0</td>\n",
              "      <td>0.0</td>\n",
              "      <td>0.0</td>\n",
              "      <td>40.0</td>\n",
              "      <td>0.0</td>\n",
              "      <td>0.0</td>\n",
              "      <td>0</td>\n",
              "      <td>7.0</td>\n",
              "      <td>8.0</td>\n",
              "      <td>10.0</td>\n",
              "      <td>7.0</td>\n",
              "      <td>7.0</td>\n",
              "      <td>5.0</td>\n",
              "      <td>8.0</td>\n",
              "      <td>4.0</td>\n",
              "      <td>2.0</td>\n",
              "      <td>21.0</td>\n",
              "      <td>Law</td>\n",
              "      <td>1.0</td>\n",
              "      <td>NaN</td>\n",
              "      <td>NaN</td>\n",
              "      <td>NaN</td>\n",
              "      <td>4.0</td>\n",
              "      <td>2.0</td>\n",
              "      <td>4.0</td>\n",
              "      <td>Chicago</td>\n",
              "      <td>60,521</td>\n",
              "      <td>69,487.00</td>\n",
              "      <td>2.0</td>\n",
              "      <td>7.0</td>\n",
              "      <td>1.0</td>\n",
              "      <td>lawyer</td>\n",
              "      <td>NaN</td>\n",
              "      <td>9.0</td>\n",
              "      <td>2.0</td>\n",
              "      <td>8.0</td>\n",
              "      <td>9.0</td>\n",
              "      <td>1.0</td>\n",
              "      <td>1.0</td>\n",
              "      <td>5.0</td>\n",
              "      <td>1.0</td>\n",
              "      <td>5.0</td>\n",
              "      <td>6.0</td>\n",
              "      <td>9.0</td>\n",
              "      <td>1.0</td>\n",
              "      <td>10.0</td>\n",
              "      <td>10.0</td>\n",
              "      <td>9.0</td>\n",
              "      <td>8.0</td>\n",
              "      <td>1.0</td>\n",
              "      <td>3.0</td>\n",
              "      <td>2.0</td>\n",
              "      <td>15.0</td>\n",
              "      <td>20.0</td>\n",
              "      <td>20.0</td>\n",
              "      <td>15.0</td>\n",
              "      <td>15.0</td>\n",
              "      <td>15.0</td>\n",
              "      <td>NaN</td>\n",
              "      <td>NaN</td>\n",
              "      <td>NaN</td>\n",
              "      <td>NaN</td>\n",
              "      <td>NaN</td>\n",
              "      <td>NaN</td>\n",
              "      <td>35.0</td>\n",
              "      <td>20.0</td>\n",
              "      <td>15.0</td>\n",
              "      <td>20.0</td>\n",
              "      <td>5.0</td>\n",
              "      <td>5.0</td>\n",
              "      <td>6.0</td>\n",
              "      <td>8.0</td>\n",
              "      <td>8.0</td>\n",
              "      <td>8.0</td>\n",
              "      <td>7.0</td>\n",
              "      <td>NaN</td>\n",
              "      <td>NaN</td>\n",
              "      <td>NaN</td>\n",
              "      <td>NaN</td>\n",
              "      <td>NaN</td>\n",
              "      <td>1</td>\n",
              "      <td>7.0</td>\n",
              "      <td>8.0</td>\n",
              "      <td>7.0</td>\n",
              "      <td>8.0</td>\n",
              "      <td>5.0</td>\n",
              "      <td>6.0</td>\n",
              "      <td>7.0</td>\n",
              "      <td>5.0</td>\n",
              "      <td>1.0</td>\n",
              "      <td>4.0</td>\n",
              "      <td>NaN</td>\n",
              "      <td>NaN</td>\n",
              "      <td>NaN</td>\n",
              "      <td>NaN</td>\n",
              "      <td>NaN</td>\n",
              "      <td>NaN</td>\n",
              "      <td>NaN</td>\n",
              "      <td>NaN</td>\n",
              "      <td>NaN</td>\n",
              "      <td>NaN</td>\n",
              "      <td>NaN</td>\n",
              "      <td>6.0</td>\n",
              "      <td>2.0</td>\n",
              "      <td>1.0</td>\n",
              "      <td>NaN</td>\n",
              "      <td>NaN</td>\n",
              "      <td>NaN</td>\n",
              "      <td>NaN</td>\n",
              "      <td>NaN</td>\n",
              "      <td>NaN</td>\n",
              "      <td>19.44</td>\n",
              "      <td>16.67</td>\n",
              "      <td>13.89</td>\n",
              "      <td>22.22</td>\n",
              "      <td>11.11</td>\n",
              "      <td>16.67</td>\n",
              "      <td>NaN</td>\n",
              "      <td>NaN</td>\n",
              "      <td>NaN</td>\n",
              "      <td>NaN</td>\n",
              "      <td>NaN</td>\n",
              "      <td>NaN</td>\n",
              "      <td>NaN</td>\n",
              "      <td>NaN</td>\n",
              "      <td>NaN</td>\n",
              "      <td>NaN</td>\n",
              "      <td>NaN</td>\n",
              "      <td>NaN</td>\n",
              "      <td>6.0</td>\n",
              "      <td>7.0</td>\n",
              "      <td>8.0</td>\n",
              "      <td>7.0</td>\n",
              "      <td>6.0</td>\n",
              "      <td>NaN</td>\n",
              "      <td>NaN</td>\n",
              "      <td>NaN</td>\n",
              "      <td>NaN</td>\n",
              "      <td>NaN</td>\n",
              "      <td>1.0</td>\n",
              "      <td>1.0</td>\n",
              "      <td>0.0</td>\n",
              "      <td>NaN</td>\n",
              "      <td>NaN</td>\n",
              "      <td>15.0</td>\n",
              "      <td>20.0</td>\n",
              "      <td>20.0</td>\n",
              "      <td>15.0</td>\n",
              "      <td>15.0</td>\n",
              "      <td>15.0</td>\n",
              "      <td>NaN</td>\n",
              "      <td>NaN</td>\n",
              "      <td>NaN</td>\n",
              "      <td>NaN</td>\n",
              "      <td>NaN</td>\n",
              "      <td>NaN</td>\n",
              "      <td>NaN</td>\n",
              "      <td>NaN</td>\n",
              "      <td>NaN</td>\n",
              "      <td>NaN</td>\n",
              "      <td>NaN</td>\n",
              "      <td>NaN</td>\n",
              "      <td>NaN</td>\n",
              "      <td>NaN</td>\n",
              "      <td>NaN</td>\n",
              "      <td>NaN</td>\n",
              "      <td>NaN</td>\n",
              "      <td>NaN</td>\n",
              "      <td>5.0</td>\n",
              "      <td>7.0</td>\n",
              "      <td>7.0</td>\n",
              "      <td>7.0</td>\n",
              "      <td>7.0</td>\n",
              "      <td>NaN</td>\n",
              "      <td>NaN</td>\n",
              "      <td>NaN</td>\n",
              "      <td>NaN</td>\n",
              "      <td>NaN</td>\n",
              "    </tr>\n",
              "    <tr>\n",
              "      <th>2</th>\n",
              "      <td>1</td>\n",
              "      <td>1.0</td>\n",
              "      <td>0</td>\n",
              "      <td>1</td>\n",
              "      <td>1</td>\n",
              "      <td>1</td>\n",
              "      <td>10</td>\n",
              "      <td>7</td>\n",
              "      <td>NaN</td>\n",
              "      <td>10</td>\n",
              "      <td>3</td>\n",
              "      <td>13.0</td>\n",
              "      <td>1</td>\n",
              "      <td>0.16</td>\n",
              "      <td>1</td>\n",
              "      <td>22.0</td>\n",
              "      <td>4.0</td>\n",
              "      <td>19.0</td>\n",
              "      <td>18.0</td>\n",
              "      <td>19.0</td>\n",
              "      <td>18.0</td>\n",
              "      <td>14.0</td>\n",
              "      <td>12.0</td>\n",
              "      <td>1</td>\n",
              "      <td>10.0</td>\n",
              "      <td>10.0</td>\n",
              "      <td>10.0</td>\n",
              "      <td>10.0</td>\n",
              "      <td>10.0</td>\n",
              "      <td>10.0</td>\n",
              "      <td>10.0</td>\n",
              "      <td>10.0</td>\n",
              "      <td>1.0</td>\n",
              "      <td>21.0</td>\n",
              "      <td>Law</td>\n",
              "      <td>1.0</td>\n",
              "      <td>NaN</td>\n",
              "      <td>NaN</td>\n",
              "      <td>NaN</td>\n",
              "      <td>4.0</td>\n",
              "      <td>2.0</td>\n",
              "      <td>4.0</td>\n",
              "      <td>Chicago</td>\n",
              "      <td>60,521</td>\n",
              "      <td>69,487.00</td>\n",
              "      <td>2.0</td>\n",
              "      <td>7.0</td>\n",
              "      <td>1.0</td>\n",
              "      <td>lawyer</td>\n",
              "      <td>NaN</td>\n",
              "      <td>9.0</td>\n",
              "      <td>2.0</td>\n",
              "      <td>8.0</td>\n",
              "      <td>9.0</td>\n",
              "      <td>1.0</td>\n",
              "      <td>1.0</td>\n",
              "      <td>5.0</td>\n",
              "      <td>1.0</td>\n",
              "      <td>5.0</td>\n",
              "      <td>6.0</td>\n",
              "      <td>9.0</td>\n",
              "      <td>1.0</td>\n",
              "      <td>10.0</td>\n",
              "      <td>10.0</td>\n",
              "      <td>9.0</td>\n",
              "      <td>8.0</td>\n",
              "      <td>1.0</td>\n",
              "      <td>3.0</td>\n",
              "      <td>2.0</td>\n",
              "      <td>15.0</td>\n",
              "      <td>20.0</td>\n",
              "      <td>20.0</td>\n",
              "      <td>15.0</td>\n",
              "      <td>15.0</td>\n",
              "      <td>15.0</td>\n",
              "      <td>NaN</td>\n",
              "      <td>NaN</td>\n",
              "      <td>NaN</td>\n",
              "      <td>NaN</td>\n",
              "      <td>NaN</td>\n",
              "      <td>NaN</td>\n",
              "      <td>35.0</td>\n",
              "      <td>20.0</td>\n",
              "      <td>15.0</td>\n",
              "      <td>20.0</td>\n",
              "      <td>5.0</td>\n",
              "      <td>5.0</td>\n",
              "      <td>6.0</td>\n",
              "      <td>8.0</td>\n",
              "      <td>8.0</td>\n",
              "      <td>8.0</td>\n",
              "      <td>7.0</td>\n",
              "      <td>NaN</td>\n",
              "      <td>NaN</td>\n",
              "      <td>NaN</td>\n",
              "      <td>NaN</td>\n",
              "      <td>NaN</td>\n",
              "      <td>1</td>\n",
              "      <td>5.0</td>\n",
              "      <td>8.0</td>\n",
              "      <td>9.0</td>\n",
              "      <td>8.0</td>\n",
              "      <td>5.0</td>\n",
              "      <td>7.0</td>\n",
              "      <td>7.0</td>\n",
              "      <td>NaN</td>\n",
              "      <td>1.0</td>\n",
              "      <td>4.0</td>\n",
              "      <td>NaN</td>\n",
              "      <td>NaN</td>\n",
              "      <td>NaN</td>\n",
              "      <td>NaN</td>\n",
              "      <td>NaN</td>\n",
              "      <td>NaN</td>\n",
              "      <td>NaN</td>\n",
              "      <td>NaN</td>\n",
              "      <td>NaN</td>\n",
              "      <td>NaN</td>\n",
              "      <td>NaN</td>\n",
              "      <td>6.0</td>\n",
              "      <td>2.0</td>\n",
              "      <td>1.0</td>\n",
              "      <td>NaN</td>\n",
              "      <td>NaN</td>\n",
              "      <td>NaN</td>\n",
              "      <td>NaN</td>\n",
              "      <td>NaN</td>\n",
              "      <td>NaN</td>\n",
              "      <td>19.44</td>\n",
              "      <td>16.67</td>\n",
              "      <td>13.89</td>\n",
              "      <td>22.22</td>\n",
              "      <td>11.11</td>\n",
              "      <td>16.67</td>\n",
              "      <td>NaN</td>\n",
              "      <td>NaN</td>\n",
              "      <td>NaN</td>\n",
              "      <td>NaN</td>\n",
              "      <td>NaN</td>\n",
              "      <td>NaN</td>\n",
              "      <td>NaN</td>\n",
              "      <td>NaN</td>\n",
              "      <td>NaN</td>\n",
              "      <td>NaN</td>\n",
              "      <td>NaN</td>\n",
              "      <td>NaN</td>\n",
              "      <td>6.0</td>\n",
              "      <td>7.0</td>\n",
              "      <td>8.0</td>\n",
              "      <td>7.0</td>\n",
              "      <td>6.0</td>\n",
              "      <td>NaN</td>\n",
              "      <td>NaN</td>\n",
              "      <td>NaN</td>\n",
              "      <td>NaN</td>\n",
              "      <td>NaN</td>\n",
              "      <td>1.0</td>\n",
              "      <td>1.0</td>\n",
              "      <td>0.0</td>\n",
              "      <td>NaN</td>\n",
              "      <td>NaN</td>\n",
              "      <td>15.0</td>\n",
              "      <td>20.0</td>\n",
              "      <td>20.0</td>\n",
              "      <td>15.0</td>\n",
              "      <td>15.0</td>\n",
              "      <td>15.0</td>\n",
              "      <td>NaN</td>\n",
              "      <td>NaN</td>\n",
              "      <td>NaN</td>\n",
              "      <td>NaN</td>\n",
              "      <td>NaN</td>\n",
              "      <td>NaN</td>\n",
              "      <td>NaN</td>\n",
              "      <td>NaN</td>\n",
              "      <td>NaN</td>\n",
              "      <td>NaN</td>\n",
              "      <td>NaN</td>\n",
              "      <td>NaN</td>\n",
              "      <td>NaN</td>\n",
              "      <td>NaN</td>\n",
              "      <td>NaN</td>\n",
              "      <td>NaN</td>\n",
              "      <td>NaN</td>\n",
              "      <td>NaN</td>\n",
              "      <td>5.0</td>\n",
              "      <td>7.0</td>\n",
              "      <td>7.0</td>\n",
              "      <td>7.0</td>\n",
              "      <td>7.0</td>\n",
              "      <td>NaN</td>\n",
              "      <td>NaN</td>\n",
              "      <td>NaN</td>\n",
              "      <td>NaN</td>\n",
              "      <td>NaN</td>\n",
              "    </tr>\n",
              "    <tr>\n",
              "      <th>3</th>\n",
              "      <td>1</td>\n",
              "      <td>1.0</td>\n",
              "      <td>0</td>\n",
              "      <td>1</td>\n",
              "      <td>1</td>\n",
              "      <td>1</td>\n",
              "      <td>10</td>\n",
              "      <td>7</td>\n",
              "      <td>NaN</td>\n",
              "      <td>5</td>\n",
              "      <td>4</td>\n",
              "      <td>14.0</td>\n",
              "      <td>1</td>\n",
              "      <td>0.61</td>\n",
              "      <td>0</td>\n",
              "      <td>23.0</td>\n",
              "      <td>2.0</td>\n",
              "      <td>30.0</td>\n",
              "      <td>5.0</td>\n",
              "      <td>15.0</td>\n",
              "      <td>40.0</td>\n",
              "      <td>5.0</td>\n",
              "      <td>5.0</td>\n",
              "      <td>1</td>\n",
              "      <td>7.0</td>\n",
              "      <td>8.0</td>\n",
              "      <td>9.0</td>\n",
              "      <td>8.0</td>\n",
              "      <td>9.0</td>\n",
              "      <td>8.0</td>\n",
              "      <td>7.0</td>\n",
              "      <td>7.0</td>\n",
              "      <td>2.0</td>\n",
              "      <td>21.0</td>\n",
              "      <td>Law</td>\n",
              "      <td>1.0</td>\n",
              "      <td>NaN</td>\n",
              "      <td>NaN</td>\n",
              "      <td>NaN</td>\n",
              "      <td>4.0</td>\n",
              "      <td>2.0</td>\n",
              "      <td>4.0</td>\n",
              "      <td>Chicago</td>\n",
              "      <td>60,521</td>\n",
              "      <td>69,487.00</td>\n",
              "      <td>2.0</td>\n",
              "      <td>7.0</td>\n",
              "      <td>1.0</td>\n",
              "      <td>lawyer</td>\n",
              "      <td>NaN</td>\n",
              "      <td>9.0</td>\n",
              "      <td>2.0</td>\n",
              "      <td>8.0</td>\n",
              "      <td>9.0</td>\n",
              "      <td>1.0</td>\n",
              "      <td>1.0</td>\n",
              "      <td>5.0</td>\n",
              "      <td>1.0</td>\n",
              "      <td>5.0</td>\n",
              "      <td>6.0</td>\n",
              "      <td>9.0</td>\n",
              "      <td>1.0</td>\n",
              "      <td>10.0</td>\n",
              "      <td>10.0</td>\n",
              "      <td>9.0</td>\n",
              "      <td>8.0</td>\n",
              "      <td>1.0</td>\n",
              "      <td>3.0</td>\n",
              "      <td>2.0</td>\n",
              "      <td>15.0</td>\n",
              "      <td>20.0</td>\n",
              "      <td>20.0</td>\n",
              "      <td>15.0</td>\n",
              "      <td>15.0</td>\n",
              "      <td>15.0</td>\n",
              "      <td>NaN</td>\n",
              "      <td>NaN</td>\n",
              "      <td>NaN</td>\n",
              "      <td>NaN</td>\n",
              "      <td>NaN</td>\n",
              "      <td>NaN</td>\n",
              "      <td>35.0</td>\n",
              "      <td>20.0</td>\n",
              "      <td>15.0</td>\n",
              "      <td>20.0</td>\n",
              "      <td>5.0</td>\n",
              "      <td>5.0</td>\n",
              "      <td>6.0</td>\n",
              "      <td>8.0</td>\n",
              "      <td>8.0</td>\n",
              "      <td>8.0</td>\n",
              "      <td>7.0</td>\n",
              "      <td>NaN</td>\n",
              "      <td>NaN</td>\n",
              "      <td>NaN</td>\n",
              "      <td>NaN</td>\n",
              "      <td>NaN</td>\n",
              "      <td>1</td>\n",
              "      <td>7.0</td>\n",
              "      <td>6.0</td>\n",
              "      <td>8.0</td>\n",
              "      <td>7.0</td>\n",
              "      <td>6.0</td>\n",
              "      <td>8.0</td>\n",
              "      <td>7.0</td>\n",
              "      <td>6.0</td>\n",
              "      <td>2.0</td>\n",
              "      <td>4.0</td>\n",
              "      <td>NaN</td>\n",
              "      <td>NaN</td>\n",
              "      <td>NaN</td>\n",
              "      <td>NaN</td>\n",
              "      <td>NaN</td>\n",
              "      <td>NaN</td>\n",
              "      <td>NaN</td>\n",
              "      <td>NaN</td>\n",
              "      <td>NaN</td>\n",
              "      <td>NaN</td>\n",
              "      <td>NaN</td>\n",
              "      <td>6.0</td>\n",
              "      <td>2.0</td>\n",
              "      <td>1.0</td>\n",
              "      <td>NaN</td>\n",
              "      <td>NaN</td>\n",
              "      <td>NaN</td>\n",
              "      <td>NaN</td>\n",
              "      <td>NaN</td>\n",
              "      <td>NaN</td>\n",
              "      <td>19.44</td>\n",
              "      <td>16.67</td>\n",
              "      <td>13.89</td>\n",
              "      <td>22.22</td>\n",
              "      <td>11.11</td>\n",
              "      <td>16.67</td>\n",
              "      <td>NaN</td>\n",
              "      <td>NaN</td>\n",
              "      <td>NaN</td>\n",
              "      <td>NaN</td>\n",
              "      <td>NaN</td>\n",
              "      <td>NaN</td>\n",
              "      <td>NaN</td>\n",
              "      <td>NaN</td>\n",
              "      <td>NaN</td>\n",
              "      <td>NaN</td>\n",
              "      <td>NaN</td>\n",
              "      <td>NaN</td>\n",
              "      <td>6.0</td>\n",
              "      <td>7.0</td>\n",
              "      <td>8.0</td>\n",
              "      <td>7.0</td>\n",
              "      <td>6.0</td>\n",
              "      <td>NaN</td>\n",
              "      <td>NaN</td>\n",
              "      <td>NaN</td>\n",
              "      <td>NaN</td>\n",
              "      <td>NaN</td>\n",
              "      <td>1.0</td>\n",
              "      <td>1.0</td>\n",
              "      <td>0.0</td>\n",
              "      <td>NaN</td>\n",
              "      <td>NaN</td>\n",
              "      <td>15.0</td>\n",
              "      <td>20.0</td>\n",
              "      <td>20.0</td>\n",
              "      <td>15.0</td>\n",
              "      <td>15.0</td>\n",
              "      <td>15.0</td>\n",
              "      <td>NaN</td>\n",
              "      <td>NaN</td>\n",
              "      <td>NaN</td>\n",
              "      <td>NaN</td>\n",
              "      <td>NaN</td>\n",
              "      <td>NaN</td>\n",
              "      <td>NaN</td>\n",
              "      <td>NaN</td>\n",
              "      <td>NaN</td>\n",
              "      <td>NaN</td>\n",
              "      <td>NaN</td>\n",
              "      <td>NaN</td>\n",
              "      <td>NaN</td>\n",
              "      <td>NaN</td>\n",
              "      <td>NaN</td>\n",
              "      <td>NaN</td>\n",
              "      <td>NaN</td>\n",
              "      <td>NaN</td>\n",
              "      <td>5.0</td>\n",
              "      <td>7.0</td>\n",
              "      <td>7.0</td>\n",
              "      <td>7.0</td>\n",
              "      <td>7.0</td>\n",
              "      <td>NaN</td>\n",
              "      <td>NaN</td>\n",
              "      <td>NaN</td>\n",
              "      <td>NaN</td>\n",
              "      <td>NaN</td>\n",
              "    </tr>\n",
              "    <tr>\n",
              "      <th>4</th>\n",
              "      <td>1</td>\n",
              "      <td>1.0</td>\n",
              "      <td>0</td>\n",
              "      <td>1</td>\n",
              "      <td>1</td>\n",
              "      <td>1</td>\n",
              "      <td>10</td>\n",
              "      <td>7</td>\n",
              "      <td>NaN</td>\n",
              "      <td>7</td>\n",
              "      <td>5</td>\n",
              "      <td>15.0</td>\n",
              "      <td>1</td>\n",
              "      <td>0.21</td>\n",
              "      <td>0</td>\n",
              "      <td>24.0</td>\n",
              "      <td>3.0</td>\n",
              "      <td>30.0</td>\n",
              "      <td>10.0</td>\n",
              "      <td>20.0</td>\n",
              "      <td>10.0</td>\n",
              "      <td>10.0</td>\n",
              "      <td>20.0</td>\n",
              "      <td>1</td>\n",
              "      <td>8.0</td>\n",
              "      <td>7.0</td>\n",
              "      <td>9.0</td>\n",
              "      <td>6.0</td>\n",
              "      <td>9.0</td>\n",
              "      <td>7.0</td>\n",
              "      <td>8.0</td>\n",
              "      <td>6.0</td>\n",
              "      <td>2.0</td>\n",
              "      <td>21.0</td>\n",
              "      <td>Law</td>\n",
              "      <td>1.0</td>\n",
              "      <td>NaN</td>\n",
              "      <td>NaN</td>\n",
              "      <td>NaN</td>\n",
              "      <td>4.0</td>\n",
              "      <td>2.0</td>\n",
              "      <td>4.0</td>\n",
              "      <td>Chicago</td>\n",
              "      <td>60,521</td>\n",
              "      <td>69,487.00</td>\n",
              "      <td>2.0</td>\n",
              "      <td>7.0</td>\n",
              "      <td>1.0</td>\n",
              "      <td>lawyer</td>\n",
              "      <td>NaN</td>\n",
              "      <td>9.0</td>\n",
              "      <td>2.0</td>\n",
              "      <td>8.0</td>\n",
              "      <td>9.0</td>\n",
              "      <td>1.0</td>\n",
              "      <td>1.0</td>\n",
              "      <td>5.0</td>\n",
              "      <td>1.0</td>\n",
              "      <td>5.0</td>\n",
              "      <td>6.0</td>\n",
              "      <td>9.0</td>\n",
              "      <td>1.0</td>\n",
              "      <td>10.0</td>\n",
              "      <td>10.0</td>\n",
              "      <td>9.0</td>\n",
              "      <td>8.0</td>\n",
              "      <td>1.0</td>\n",
              "      <td>3.0</td>\n",
              "      <td>2.0</td>\n",
              "      <td>15.0</td>\n",
              "      <td>20.0</td>\n",
              "      <td>20.0</td>\n",
              "      <td>15.0</td>\n",
              "      <td>15.0</td>\n",
              "      <td>15.0</td>\n",
              "      <td>NaN</td>\n",
              "      <td>NaN</td>\n",
              "      <td>NaN</td>\n",
              "      <td>NaN</td>\n",
              "      <td>NaN</td>\n",
              "      <td>NaN</td>\n",
              "      <td>35.0</td>\n",
              "      <td>20.0</td>\n",
              "      <td>15.0</td>\n",
              "      <td>20.0</td>\n",
              "      <td>5.0</td>\n",
              "      <td>5.0</td>\n",
              "      <td>6.0</td>\n",
              "      <td>8.0</td>\n",
              "      <td>8.0</td>\n",
              "      <td>8.0</td>\n",
              "      <td>7.0</td>\n",
              "      <td>NaN</td>\n",
              "      <td>NaN</td>\n",
              "      <td>NaN</td>\n",
              "      <td>NaN</td>\n",
              "      <td>NaN</td>\n",
              "      <td>1</td>\n",
              "      <td>5.0</td>\n",
              "      <td>6.0</td>\n",
              "      <td>7.0</td>\n",
              "      <td>7.0</td>\n",
              "      <td>6.0</td>\n",
              "      <td>6.0</td>\n",
              "      <td>6.0</td>\n",
              "      <td>6.0</td>\n",
              "      <td>2.0</td>\n",
              "      <td>4.0</td>\n",
              "      <td>NaN</td>\n",
              "      <td>NaN</td>\n",
              "      <td>NaN</td>\n",
              "      <td>NaN</td>\n",
              "      <td>NaN</td>\n",
              "      <td>NaN</td>\n",
              "      <td>NaN</td>\n",
              "      <td>NaN</td>\n",
              "      <td>NaN</td>\n",
              "      <td>NaN</td>\n",
              "      <td>NaN</td>\n",
              "      <td>6.0</td>\n",
              "      <td>2.0</td>\n",
              "      <td>1.0</td>\n",
              "      <td>NaN</td>\n",
              "      <td>NaN</td>\n",
              "      <td>NaN</td>\n",
              "      <td>NaN</td>\n",
              "      <td>NaN</td>\n",
              "      <td>NaN</td>\n",
              "      <td>19.44</td>\n",
              "      <td>16.67</td>\n",
              "      <td>13.89</td>\n",
              "      <td>22.22</td>\n",
              "      <td>11.11</td>\n",
              "      <td>16.67</td>\n",
              "      <td>NaN</td>\n",
              "      <td>NaN</td>\n",
              "      <td>NaN</td>\n",
              "      <td>NaN</td>\n",
              "      <td>NaN</td>\n",
              "      <td>NaN</td>\n",
              "      <td>NaN</td>\n",
              "      <td>NaN</td>\n",
              "      <td>NaN</td>\n",
              "      <td>NaN</td>\n",
              "      <td>NaN</td>\n",
              "      <td>NaN</td>\n",
              "      <td>6.0</td>\n",
              "      <td>7.0</td>\n",
              "      <td>8.0</td>\n",
              "      <td>7.0</td>\n",
              "      <td>6.0</td>\n",
              "      <td>NaN</td>\n",
              "      <td>NaN</td>\n",
              "      <td>NaN</td>\n",
              "      <td>NaN</td>\n",
              "      <td>NaN</td>\n",
              "      <td>1.0</td>\n",
              "      <td>1.0</td>\n",
              "      <td>0.0</td>\n",
              "      <td>NaN</td>\n",
              "      <td>NaN</td>\n",
              "      <td>15.0</td>\n",
              "      <td>20.0</td>\n",
              "      <td>20.0</td>\n",
              "      <td>15.0</td>\n",
              "      <td>15.0</td>\n",
              "      <td>15.0</td>\n",
              "      <td>NaN</td>\n",
              "      <td>NaN</td>\n",
              "      <td>NaN</td>\n",
              "      <td>NaN</td>\n",
              "      <td>NaN</td>\n",
              "      <td>NaN</td>\n",
              "      <td>NaN</td>\n",
              "      <td>NaN</td>\n",
              "      <td>NaN</td>\n",
              "      <td>NaN</td>\n",
              "      <td>NaN</td>\n",
              "      <td>NaN</td>\n",
              "      <td>NaN</td>\n",
              "      <td>NaN</td>\n",
              "      <td>NaN</td>\n",
              "      <td>NaN</td>\n",
              "      <td>NaN</td>\n",
              "      <td>NaN</td>\n",
              "      <td>5.0</td>\n",
              "      <td>7.0</td>\n",
              "      <td>7.0</td>\n",
              "      <td>7.0</td>\n",
              "      <td>7.0</td>\n",
              "      <td>NaN</td>\n",
              "      <td>NaN</td>\n",
              "      <td>NaN</td>\n",
              "      <td>NaN</td>\n",
              "      <td>NaN</td>\n",
              "    </tr>\n",
              "  </tbody>\n",
              "</table>\n",
              "</div>"
            ],
            "text/plain": [
              "   iid   id  gender  idg  condtn  wave  round  position  positin1  order  \\\n",
              "0    1  1.0       0    1       1     1     10         7       NaN      4   \n",
              "1    1  1.0       0    1       1     1     10         7       NaN      3   \n",
              "2    1  1.0       0    1       1     1     10         7       NaN     10   \n",
              "3    1  1.0       0    1       1     1     10         7       NaN      5   \n",
              "4    1  1.0       0    1       1     1     10         7       NaN      7   \n",
              "\n",
              "   partner   pid  match  int_corr  samerace  age_o  race_o  pf_o_att  \\\n",
              "0        1  11.0      0      0.14         0   27.0     2.0      35.0   \n",
              "1        2  12.0      0      0.54         0   22.0     2.0      60.0   \n",
              "2        3  13.0      1      0.16         1   22.0     4.0      19.0   \n",
              "3        4  14.0      1      0.61         0   23.0     2.0      30.0   \n",
              "4        5  15.0      1      0.21         0   24.0     3.0      30.0   \n",
              "\n",
              "   pf_o_sin  pf_o_int  pf_o_fun  pf_o_amb  pf_o_sha  dec_o  attr_o  sinc_o  \\\n",
              "0      20.0      20.0      20.0       0.0       5.0      0     6.0     8.0   \n",
              "1       0.0       0.0      40.0       0.0       0.0      0     7.0     8.0   \n",
              "2      18.0      19.0      18.0      14.0      12.0      1    10.0    10.0   \n",
              "3       5.0      15.0      40.0       5.0       5.0      1     7.0     8.0   \n",
              "4      10.0      20.0      10.0      10.0      20.0      1     8.0     7.0   \n",
              "\n",
              "   intel_o  fun_o  amb_o  shar_o  like_o  prob_o  met_o   age field  field_cd  \\\n",
              "0      8.0    8.0    8.0     6.0     7.0     4.0    2.0  21.0   Law       1.0   \n",
              "1     10.0    7.0    7.0     5.0     8.0     4.0    2.0  21.0   Law       1.0   \n",
              "2     10.0   10.0   10.0    10.0    10.0    10.0    1.0  21.0   Law       1.0   \n",
              "3      9.0    8.0    9.0     8.0     7.0     7.0    2.0  21.0   Law       1.0   \n",
              "4      9.0    6.0    9.0     7.0     8.0     6.0    2.0  21.0   Law       1.0   \n",
              "\n",
              "  undergra mn_sat tuition  race  imprace  imprelig     from zipcode  \\\n",
              "0      NaN    NaN     NaN   4.0      2.0       4.0  Chicago  60,521   \n",
              "1      NaN    NaN     NaN   4.0      2.0       4.0  Chicago  60,521   \n",
              "2      NaN    NaN     NaN   4.0      2.0       4.0  Chicago  60,521   \n",
              "3      NaN    NaN     NaN   4.0      2.0       4.0  Chicago  60,521   \n",
              "4      NaN    NaN     NaN   4.0      2.0       4.0  Chicago  60,521   \n",
              "\n",
              "      income  goal  date  go_out  career  career_c  sports  tvsports  \\\n",
              "0  69,487.00   2.0   7.0     1.0  lawyer       NaN     9.0       2.0   \n",
              "1  69,487.00   2.0   7.0     1.0  lawyer       NaN     9.0       2.0   \n",
              "2  69,487.00   2.0   7.0     1.0  lawyer       NaN     9.0       2.0   \n",
              "3  69,487.00   2.0   7.0     1.0  lawyer       NaN     9.0       2.0   \n",
              "4  69,487.00   2.0   7.0     1.0  lawyer       NaN     9.0       2.0   \n",
              "\n",
              "   exercise  dining  museums  art  hiking  gaming  clubbing  reading   tv  \\\n",
              "0       8.0     9.0      1.0  1.0     5.0     1.0       5.0      6.0  9.0   \n",
              "1       8.0     9.0      1.0  1.0     5.0     1.0       5.0      6.0  9.0   \n",
              "2       8.0     9.0      1.0  1.0     5.0     1.0       5.0      6.0  9.0   \n",
              "3       8.0     9.0      1.0  1.0     5.0     1.0       5.0      6.0  9.0   \n",
              "4       8.0     9.0      1.0  1.0     5.0     1.0       5.0      6.0  9.0   \n",
              "\n",
              "   theater  movies  concerts  music  shopping  yoga  exphappy  expnum  \\\n",
              "0      1.0    10.0      10.0    9.0       8.0   1.0       3.0     2.0   \n",
              "1      1.0    10.0      10.0    9.0       8.0   1.0       3.0     2.0   \n",
              "2      1.0    10.0      10.0    9.0       8.0   1.0       3.0     2.0   \n",
              "3      1.0    10.0      10.0    9.0       8.0   1.0       3.0     2.0   \n",
              "4      1.0    10.0      10.0    9.0       8.0   1.0       3.0     2.0   \n",
              "\n",
              "   attr1_1  sinc1_1  intel1_1  fun1_1  amb1_1  shar1_1  attr4_1  sinc4_1  \\\n",
              "0     15.0     20.0      20.0    15.0    15.0     15.0      NaN      NaN   \n",
              "1     15.0     20.0      20.0    15.0    15.0     15.0      NaN      NaN   \n",
              "2     15.0     20.0      20.0    15.0    15.0     15.0      NaN      NaN   \n",
              "3     15.0     20.0      20.0    15.0    15.0     15.0      NaN      NaN   \n",
              "4     15.0     20.0      20.0    15.0    15.0     15.0      NaN      NaN   \n",
              "\n",
              "   intel4_1  fun4_1  amb4_1  shar4_1  attr2_1  sinc2_1  intel2_1  fun2_1  \\\n",
              "0       NaN     NaN     NaN      NaN     35.0     20.0      15.0    20.0   \n",
              "1       NaN     NaN     NaN      NaN     35.0     20.0      15.0    20.0   \n",
              "2       NaN     NaN     NaN      NaN     35.0     20.0      15.0    20.0   \n",
              "3       NaN     NaN     NaN      NaN     35.0     20.0      15.0    20.0   \n",
              "4       NaN     NaN     NaN      NaN     35.0     20.0      15.0    20.0   \n",
              "\n",
              "   amb2_1  shar2_1  attr3_1  sinc3_1  fun3_1  intel3_1  amb3_1  attr5_1  \\\n",
              "0     5.0      5.0      6.0      8.0     8.0       8.0     7.0      NaN   \n",
              "1     5.0      5.0      6.0      8.0     8.0       8.0     7.0      NaN   \n",
              "2     5.0      5.0      6.0      8.0     8.0       8.0     7.0      NaN   \n",
              "3     5.0      5.0      6.0      8.0     8.0       8.0     7.0      NaN   \n",
              "4     5.0      5.0      6.0      8.0     8.0       8.0     7.0      NaN   \n",
              "\n",
              "   sinc5_1  intel5_1  fun5_1  amb5_1  dec  attr  sinc  intel  fun  amb  shar  \\\n",
              "0      NaN       NaN     NaN     NaN    1   6.0   9.0    7.0  7.0  6.0   5.0   \n",
              "1      NaN       NaN     NaN     NaN    1   7.0   8.0    7.0  8.0  5.0   6.0   \n",
              "2      NaN       NaN     NaN     NaN    1   5.0   8.0    9.0  8.0  5.0   7.0   \n",
              "3      NaN       NaN     NaN     NaN    1   7.0   6.0    8.0  7.0  6.0   8.0   \n",
              "4      NaN       NaN     NaN     NaN    1   5.0   6.0    7.0  7.0  6.0   6.0   \n",
              "\n",
              "   like  prob  met  match_es  attr1_s  sinc1_s  intel1_s  fun1_s  amb1_s  \\\n",
              "0   7.0   6.0  2.0       4.0      NaN      NaN       NaN     NaN     NaN   \n",
              "1   7.0   5.0  1.0       4.0      NaN      NaN       NaN     NaN     NaN   \n",
              "2   7.0   NaN  1.0       4.0      NaN      NaN       NaN     NaN     NaN   \n",
              "3   7.0   6.0  2.0       4.0      NaN      NaN       NaN     NaN     NaN   \n",
              "4   6.0   6.0  2.0       4.0      NaN      NaN       NaN     NaN     NaN   \n",
              "\n",
              "   shar1_s  attr3_s  sinc3_s  intel3_s  fun3_s  amb3_s  satis_2  length  \\\n",
              "0      NaN      NaN      NaN       NaN     NaN     NaN      6.0     2.0   \n",
              "1      NaN      NaN      NaN       NaN     NaN     NaN      6.0     2.0   \n",
              "2      NaN      NaN      NaN       NaN     NaN     NaN      6.0     2.0   \n",
              "3      NaN      NaN      NaN       NaN     NaN     NaN      6.0     2.0   \n",
              "4      NaN      NaN      NaN       NaN     NaN     NaN      6.0     2.0   \n",
              "\n",
              "   numdat_2  attr7_2  sinc7_2  intel7_2  fun7_2  amb7_2  shar7_2  attr1_2  \\\n",
              "0       1.0      NaN      NaN       NaN     NaN     NaN      NaN    19.44   \n",
              "1       1.0      NaN      NaN       NaN     NaN     NaN      NaN    19.44   \n",
              "2       1.0      NaN      NaN       NaN     NaN     NaN      NaN    19.44   \n",
              "3       1.0      NaN      NaN       NaN     NaN     NaN      NaN    19.44   \n",
              "4       1.0      NaN      NaN       NaN     NaN     NaN      NaN    19.44   \n",
              "\n",
              "   sinc1_2  intel1_2  fun1_2  amb1_2  shar1_2  attr4_2  sinc4_2  intel4_2  \\\n",
              "0    16.67     13.89   22.22   11.11    16.67      NaN      NaN       NaN   \n",
              "1    16.67     13.89   22.22   11.11    16.67      NaN      NaN       NaN   \n",
              "2    16.67     13.89   22.22   11.11    16.67      NaN      NaN       NaN   \n",
              "3    16.67     13.89   22.22   11.11    16.67      NaN      NaN       NaN   \n",
              "4    16.67     13.89   22.22   11.11    16.67      NaN      NaN       NaN   \n",
              "\n",
              "   fun4_2  amb4_2  shar4_2  attr2_2  sinc2_2  intel2_2  fun2_2  amb2_2  \\\n",
              "0     NaN     NaN      NaN      NaN      NaN       NaN     NaN     NaN   \n",
              "1     NaN     NaN      NaN      NaN      NaN       NaN     NaN     NaN   \n",
              "2     NaN     NaN      NaN      NaN      NaN       NaN     NaN     NaN   \n",
              "3     NaN     NaN      NaN      NaN      NaN       NaN     NaN     NaN   \n",
              "4     NaN     NaN      NaN      NaN      NaN       NaN     NaN     NaN   \n",
              "\n",
              "   shar2_2  attr3_2  sinc3_2  intel3_2  fun3_2  amb3_2  attr5_2  sinc5_2  \\\n",
              "0      NaN      6.0      7.0       8.0     7.0     6.0      NaN      NaN   \n",
              "1      NaN      6.0      7.0       8.0     7.0     6.0      NaN      NaN   \n",
              "2      NaN      6.0      7.0       8.0     7.0     6.0      NaN      NaN   \n",
              "3      NaN      6.0      7.0       8.0     7.0     6.0      NaN      NaN   \n",
              "4      NaN      6.0      7.0       8.0     7.0     6.0      NaN      NaN   \n",
              "\n",
              "   intel5_2  fun5_2  amb5_2  you_call  them_cal  date_3  numdat_3  num_in_3  \\\n",
              "0       NaN     NaN     NaN       1.0       1.0     0.0       NaN       NaN   \n",
              "1       NaN     NaN     NaN       1.0       1.0     0.0       NaN       NaN   \n",
              "2       NaN     NaN     NaN       1.0       1.0     0.0       NaN       NaN   \n",
              "3       NaN     NaN     NaN       1.0       1.0     0.0       NaN       NaN   \n",
              "4       NaN     NaN     NaN       1.0       1.0     0.0       NaN       NaN   \n",
              "\n",
              "   attr1_3  sinc1_3  intel1_3  fun1_3  amb1_3  shar1_3  attr7_3  sinc7_3  \\\n",
              "0     15.0     20.0      20.0    15.0    15.0     15.0      NaN      NaN   \n",
              "1     15.0     20.0      20.0    15.0    15.0     15.0      NaN      NaN   \n",
              "2     15.0     20.0      20.0    15.0    15.0     15.0      NaN      NaN   \n",
              "3     15.0     20.0      20.0    15.0    15.0     15.0      NaN      NaN   \n",
              "4     15.0     20.0      20.0    15.0    15.0     15.0      NaN      NaN   \n",
              "\n",
              "   intel7_3  fun7_3  amb7_3  shar7_3  attr4_3  sinc4_3  intel4_3  fun4_3  \\\n",
              "0       NaN     NaN     NaN      NaN      NaN      NaN       NaN     NaN   \n",
              "1       NaN     NaN     NaN      NaN      NaN      NaN       NaN     NaN   \n",
              "2       NaN     NaN     NaN      NaN      NaN      NaN       NaN     NaN   \n",
              "3       NaN     NaN     NaN      NaN      NaN      NaN       NaN     NaN   \n",
              "4       NaN     NaN     NaN      NaN      NaN      NaN       NaN     NaN   \n",
              "\n",
              "   amb4_3  shar4_3  attr2_3  sinc2_3  intel2_3  fun2_3  amb2_3  shar2_3  \\\n",
              "0     NaN      NaN      NaN      NaN       NaN     NaN     NaN      NaN   \n",
              "1     NaN      NaN      NaN      NaN       NaN     NaN     NaN      NaN   \n",
              "2     NaN      NaN      NaN      NaN       NaN     NaN     NaN      NaN   \n",
              "3     NaN      NaN      NaN      NaN       NaN     NaN     NaN      NaN   \n",
              "4     NaN      NaN      NaN      NaN       NaN     NaN     NaN      NaN   \n",
              "\n",
              "   attr3_3  sinc3_3  intel3_3  fun3_3  amb3_3  attr5_3  sinc5_3  intel5_3  \\\n",
              "0      5.0      7.0       7.0     7.0     7.0      NaN      NaN       NaN   \n",
              "1      5.0      7.0       7.0     7.0     7.0      NaN      NaN       NaN   \n",
              "2      5.0      7.0       7.0     7.0     7.0      NaN      NaN       NaN   \n",
              "3      5.0      7.0       7.0     7.0     7.0      NaN      NaN       NaN   \n",
              "4      5.0      7.0       7.0     7.0     7.0      NaN      NaN       NaN   \n",
              "\n",
              "   fun5_3  amb5_3  \n",
              "0     NaN     NaN  \n",
              "1     NaN     NaN  \n",
              "2     NaN     NaN  \n",
              "3     NaN     NaN  \n",
              "4     NaN     NaN  "
            ]
          },
          "metadata": {
            "tags": []
          },
          "execution_count": 2
        }
      ]
    },
    {
      "cell_type": "code",
      "metadata": {
        "trusted": true,
        "_uuid": "fc70acd849523f480dc2ae679e3297f26db0c578",
        "_kg_hide-input": true,
        "_kg_hide-output": false,
        "id": "KsT4LWhv2FmB"
      },
      "source": [
        "personal = ['gender', 'age', 'field', 'field_cd', 'undergra',\n",
        "       'mn_sat', 'tuition', 'race', 'imprace', 'imprelig', 'from',\n",
        "       'zipcode', 'income', 'goal', 'date', 'go_out', 'career',\n",
        "       'career_c', 'sports', 'tvsports', 'exercise', 'dining', 'museums',\n",
        "       'art', 'hiking', 'gaming', 'clubbing', 'reading', 'tv', 'theater',\n",
        "       'movies', 'concerts', 'music', 'shopping', 'yoga', 'exphappy',\n",
        "       'expnum','match_es']\n",
        "decision = ['match','dec',\n",
        "       'attr', 'sinc', 'intel', 'fun', 'amb', 'shar', 'like', 'prob',\n",
        "       'met']\n",
        "evaluation = ['satis_2', 'length', 'numdat_2']\n",
        "outcome = ['you_call', 'them_cal', 'date_3', 'numdat_3',\n",
        "       'num_in_3']"
      ],
      "execution_count": null,
      "outputs": []
    },
    {
      "cell_type": "markdown",
      "metadata": {
        "_uuid": "fab5ab6d038bbe193cb6ba361969b0f887d46098",
        "id": "_pZvWuY-2FmC"
      },
      "source": [
        "Before we begin, it is important to notice that each participants is in the DataFrame multiple times, once for each potential match. Thus an exploratory analysis on this dataset would be on 8378 individuals with many many repetitions. \n",
        "\n",
        "In other words, if I am White and I participate to a wave with 10 participants of the opposite gender, I count as 10 white people. This can **bias the analysis** and therefore I want to create a second DataFrame with only the unique entries, giving us the real number of participants: 551."
      ]
    },
    {
      "cell_type": "code",
      "metadata": {
        "_kg_hide-input": true,
        "trusted": true,
        "_uuid": "7975ab9d4e1ea4051d2257a2a8c8e3f5bc529876",
        "id": "CUidsAcS2FmC"
      },
      "source": [
        "df = df_full[['iid', 'wave'] + personal + evaluation + outcome].drop_duplicates().copy()\n",
        "df.head()"
      ],
      "execution_count": null,
      "outputs": []
    },
    {
      "cell_type": "markdown",
      "metadata": {
        "_uuid": "27da3e8380bc277f7d6911e061178658b840ccc5",
        "id": "4Z4S5Cin2FmD"
      },
      "source": [
        "# Who are the participants?\n",
        "\n",
        "Here, we explore the dataset in terms of those features that describe the participants. The goals are to get to know what is in this dataset and get some hints on what to focus on for further analysis.\n",
        "\n",
        "These events were dedicated to partners of **opposite genders**. In particular, we have"
      ]
    },
    {
      "cell_type": "code",
      "metadata": {
        "trusted": true,
        "_uuid": "747ad23e33ef2c0474a6f2c1c916633cb32d22b2",
        "_kg_hide-input": true,
        "id": "Q5P0baX02FmD"
      },
      "source": [
        "df['gender'] = df.gender.map({1 : 'Male', 0 : 'Female'}).fillna(df.gender)\n",
        "df_full['gender'] = df_full.gender.map({1 : 'Male', 0 : 'Female'}).fillna(df_full.gender)\n",
        "df.gender.value_counts(dropna=False)"
      ],
      "execution_count": null,
      "outputs": []
    },
    {
      "cell_type": "markdown",
      "metadata": {
        "_uuid": "1c4a8a091f9fce82c97b699ec2bdb0871210ff50",
        "id": "rbrr987V2FmD"
      },
      "source": [
        "Slightly more males than females. Let's see if we can see some differences age-wise"
      ]
    },
    {
      "cell_type": "code",
      "metadata": {
        "trusted": true,
        "_uuid": "d0e006a3e1ec84adf7ca88bd51ba1bcae6520788",
        "_kg_hide-input": true,
        "id": "pRmVRixs2FmD"
      },
      "source": [
        "ax = df.age.hist(bins=30, figsize=(12,8))\n",
        "ax.set_title('Age Distribution', fontsize=15)\n",
        "ax.set_xlabel('Age',fontsize=12)\n",
        "ax.set_ylabel('Count', fontsize=12)\n",
        "ax.grid(False)"
      ],
      "execution_count": null,
      "outputs": []
    },
    {
      "cell_type": "code",
      "metadata": {
        "trusted": true,
        "_uuid": "43fb7834fb71a9c0aaa77021b16bd7d0efdbce25",
        "_kg_hide-input": true,
        "id": "awp03Dt12FmE"
      },
      "source": [
        "g = sns.FacetGrid(df, hue='gender', height = 6)\n",
        "g.map(plt.hist, 'age', alpha= 0.7, bins=20)\n",
        "g.set_xlabels('Age', fontsize=12)\n",
        "plt.subplots_adjust(top=0.9)\n",
        "g.fig.suptitle('Age distribution by gender', fontsize=15)\n",
        "g.add_legend()"
      ],
      "execution_count": null,
      "outputs": []
    },
    {
      "cell_type": "code",
      "metadata": {
        "trusted": true,
        "_uuid": "54152e517ad8bc18b9a7d01f27f84fda74736cc6",
        "_kg_hide-input": true,
        "id": "_NNE_q112FmE"
      },
      "source": [
        "df[['gender', 'age']].groupby('gender').agg(['mean', 'median', 'min', 'max', 'count'])"
      ],
      "execution_count": null,
      "outputs": []
    },
    {
      "cell_type": "markdown",
      "metadata": {
        "_uuid": "6ee7838708a624fc05922865c632893a9f0eb58f",
        "id": "a0RbR5tc2FmE"
      },
      "source": [
        "The different count might be due to the presence of some *Na's* in the age feature"
      ]
    },
    {
      "cell_type": "code",
      "metadata": {
        "_kg_hide-input": true,
        "trusted": true,
        "_uuid": "33ac580ee7be2144c017693dcaef3d18f02d873d",
        "id": "vCxkjW012FmE"
      },
      "source": [
        "ax = df[['gender', 'age']].groupby('gender').mean().plot(kind='bar', figsize=(12,5), legend=False, \n",
        "                                               title='Mean Age by Gender',\n",
        "                                                   ylim=(23,27))\n",
        "ax.set_xticklabels(['Female', 'Male'], fontsize=12, rotation='horizontal')\n",
        "\n",
        "ax.set_xlabel('', fontsize=1)\n",
        "\n",
        "for i in ax.patches:\n",
        "    ax.text(i.get_x()+.20, i.get_height()+.05, \\\n",
        "            str(round((i.get_height()), 1)), fontsize=15)"
      ],
      "execution_count": null,
      "outputs": []
    },
    {
      "cell_type": "markdown",
      "metadata": {
        "_uuid": "c87791d8a090632d4514705456087e0d1c285597",
        "id": "cuOhHhlB2FmF"
      },
      "source": [
        "There are no big differences in age, but we can see that the males at these events are slightly older than the female participants.\n",
        "\n",
        "Next, we have information about the **race** of the participants."
      ]
    },
    {
      "cell_type": "code",
      "metadata": {
        "trusted": true,
        "_uuid": "221b1740b506d7e5cee1c797ee9c21ed9079fd80",
        "_kg_hide-input": true,
        "id": "fJMwYMg22FmF"
      },
      "source": [
        "df['race'] = df.race.map({1: 'Black', 2: 'White', 3: 'Hispanic', \n",
        "                          4: 'Asian', 6: 'Other'}).fillna(df.race)\n",
        "df_full['race'] = df_full.race.map({1: 'Black', 2: 'White', 3: 'Hispanic', \n",
        "                          4: 'Asian', 6: 'Other'}).fillna(df_full.race)\n",
        "df_full['race_o'] = df_full.race_o.map({1: 'Black', 2: 'White', 3: 'Hispanic', \n",
        "                          4: 'Asian', 6: 'Other'}).fillna(df_full.race_o)\n",
        "df.race.value_counts(dropna=False)"
      ],
      "execution_count": null,
      "outputs": []
    },
    {
      "cell_type": "markdown",
      "metadata": {
        "_uuid": "93f0b8dde3b3f01d1bdbf0e0c4a0ecea2f991d51",
        "id": "Nzkdbd2M2FmF"
      },
      "source": [
        "Mostly Caucasian participants, then Asian. It could either be a cultural thing or that these events were organized in specific areas with this demographic."
      ]
    },
    {
      "cell_type": "code",
      "metadata": {
        "trusted": true,
        "_uuid": "fb992bdfc2c1502ed6ac199b25b97c2fb32eca89",
        "_kg_hide-input": true,
        "id": "N8n_VF472FmF"
      },
      "source": [
        "g = sns.FacetGrid(df, col='race', height=3)\n",
        "g.map(plt.hist, 'age', bins=20)\n",
        "axes = g.axes.flatten()\n",
        "axes[0].set_title(\"Asian\")\n",
        "axes[1].set_title(\"White\")\n",
        "axes[2].set_title(\"Other\")\n",
        "axes[3].set_title(\"Hispanic\")\n",
        "axes[4].set_title(\"Black\")\n",
        "g.set_xlabels('Age', fontsize=11)\n",
        "plt.subplots_adjust(top=0.8)\n",
        "g.fig.suptitle('Age distribution by race', fontsize=13)\n",
        "g.add_legend()"
      ],
      "execution_count": null,
      "outputs": []
    },
    {
      "cell_type": "code",
      "metadata": {
        "trusted": true,
        "_uuid": "9beb999da7b93a8b8d0f9a3971e1e821b163aafe",
        "_kg_hide-input": true,
        "id": "rqbxy_ng2FmF"
      },
      "source": [
        "df[['race', 'age']].groupby('race').agg(['mean', 'median', 'min', 'max', 'count'])"
      ],
      "execution_count": null,
      "outputs": []
    },
    {
      "cell_type": "code",
      "metadata": {
        "_kg_hide-input": true,
        "trusted": true,
        "_uuid": "2bb1b1919e72502346b14ce9c05e3ce54e53f0a7",
        "id": "z23eCnxu2FmG"
      },
      "source": [
        "ax = df[['race', 'age']].groupby('race').mean().plot(kind='bar', figsize=(12,5), legend=False,\n",
        "                                               title='Mean Age by Race',\n",
        "                                                   ylim=(24,28), color='rgbmy')\n",
        "ax.set_xticklabels(['Asian', 'Black', 'Hispanic',  'Other', 'White'], \n",
        "                   fontsize=12, rotation='horizontal')\n",
        "ax.set_xlabel('',fontsize=1)\n",
        "\n",
        "for i in ax.patches:\n",
        "    ax.text(i.get_x()+.155, i.get_height()+.05, \\\n",
        "            str(round((i.get_height()), 1)), fontsize=12)"
      ],
      "execution_count": null,
      "outputs": []
    },
    {
      "cell_type": "markdown",
      "metadata": {
        "_uuid": "d24db93d6fafd63038394659a1d7ef04a4d8ed2c",
        "id": "w5nphSZp2FmG"
      },
      "source": [
        "The Asian participants are younger, while Black and Hispanic participants are older on average."
      ]
    },
    {
      "cell_type": "code",
      "metadata": {
        "trusted": true,
        "_uuid": "7dfbbb49ce88f5ca50daa9c579ca575c96953afd",
        "_kg_hide-input": true,
        "id": "3Z77MPjF2FmH"
      },
      "source": [
        "g = sns.FacetGrid(df, col='race', hue='gender')\n",
        "g.map(plt.hist, 'age', alpha= 0.7, bins=10)\n",
        "g.add_legend()\n",
        "axes = g.axes.flatten()\n",
        "axes[0].set_title(\"Asian\")\n",
        "axes[1].set_title(\"White\")\n",
        "axes[2].set_title(\"Other\")\n",
        "axes[3].set_title(\"Hispanic\")\n",
        "axes[4].set_title(\"Black\")\n",
        "g.set_xlabels('', fontsize=1)\n",
        "plt.subplots_adjust(top=0.8)\n",
        "g.fig.suptitle('Age distribution by race', fontsize=15)\n",
        "\n",
        "g._legend.set_title('')"
      ],
      "execution_count": null,
      "outputs": []
    },
    {
      "cell_type": "code",
      "metadata": {
        "trusted": true,
        "_uuid": "635a8cb0024775313dee52e5c1c664dd38934449",
        "_kg_hide-input": true,
        "id": "NMQb-N702FmH"
      },
      "source": [
        "df[['race','gender', 'age']].groupby(['race', 'gender'])\\\n",
        ".agg(['mean', 'median', 'min', 'max', 'count'])"
      ],
      "execution_count": null,
      "outputs": []
    },
    {
      "cell_type": "code",
      "metadata": {
        "_kg_hide-input": true,
        "trusted": true,
        "_uuid": "76946f46c98c84fee139c7a574a51d2d17332f92",
        "id": "LO-bMgCs2FmI"
      },
      "source": [
        "fig, ax= plt.subplots(1,2, figsize=(12, 6))\n",
        "\n",
        "df[df.gender=='Female'][['race', 'age']].groupby('race').mean().plot(kind='bar', ax=ax[0], legend=False,\n",
        "                                                              title='Females', ylim=(24,28),\n",
        "                                                              color='rgbmy')\n",
        "\n",
        "df[df.gender=='Male'][['race', 'age']].groupby('race').mean().plot(kind='bar', ax=ax[1], legend=False,\n",
        "                                                              title='Males', ylim=(24,28),\n",
        "                                                              color='rgbmy')\n",
        "\n",
        "ax[0].set_xticklabels(ax[0].get_xticklabels(), fontsize=12, rotation='horizontal')\n",
        "ax[1].set_xticklabels(ax[1].get_xticklabels(), fontsize=12, rotation='horizontal')\n",
        "ax[0].set_xlabel('',fontsize=1)\n",
        "ax[1].set_xlabel('',fontsize=1)\n",
        "\n",
        "fig.suptitle('Mean age by race', fontsize=22)\n",
        "\n",
        "for i in ax[0].patches:\n",
        "    ax[0].text(i.get_x()+.02, i.get_height()+.05, \\\n",
        "            str(round((i.get_height()), 1)), fontsize=12)\n",
        "    \n",
        "for i in ax[1].patches:\n",
        "    ax[1].text(i.get_x()+.02, i.get_height()+.05, \\\n",
        "            str(round((i.get_height()), 1)), fontsize=12)"
      ],
      "execution_count": null,
      "outputs": []
    },
    {
      "cell_type": "markdown",
      "metadata": {
        "_uuid": "3c5cb1ac0ea63786f738779c38926c2b25fad7c2",
        "id": "Qfucx80e2FmJ"
      },
      "source": [
        "For Caucasians (and \"Other\" race), more males than females, while we have the opposite trend for every other race. Moreover, for these 2 races, we can observe that males tend to be much older on average. Asian females are older than their male counterpart.\n",
        "\n",
        "We can now look at what the participants are **studying**."
      ]
    },
    {
      "cell_type": "code",
      "metadata": {
        "_kg_hide-input": true,
        "trusted": true,
        "_uuid": "f8ab47654a6e9f633f771c3945b0c76566fac9bd",
        "_kg_hide-output": true,
        "id": "x67SZJ6P2FmJ"
      },
      "source": [
        "df['field_cd'] = df.field_cd.map({1: 'Law', 2: 'Math', 3: 'Soc. Sc.', 4: 'Med. Sc.',\n",
        "                                 5: 'Eng.', 6: 'Journ.', 7: 'Hist.', 8: 'Econ', 9: 'Educ.',\n",
        "                                 10: 'Nat. Sc.', 11: 'Soc. Wr.', 12: 'Und.', 13: 'Pol. Sc.',\n",
        "                                 14: 'Film', 15: 'Arts', 16:'Lang.', 17: 'Arch.', 18: 'Oth.'}).fillna(df.field_cd)\n",
        "df_full['field_cd'] = df_full.field_cd.map({1: 'Law', 2: 'Math', 3: 'Soc. Sc.', 4: 'Med. Sc.',\n",
        "                                 5: 'Eng.', 6: 'Journ.', 7: 'Hist.', 8: 'Econ', 9: 'Educ.',\n",
        "                                 10: 'Nat. Sc.', 11: 'Soc. Wr.', 12: 'Und.', 13: 'Pol. Sc.',\n",
        "                                 14: 'Film', 15: 'Arts', 16:'Lang.', 17: 'Arch.', 18: 'Oth.'}).fillna(df_full.field_cd)\n",
        "df.field_cd.value_counts(dropna=False)"
      ],
      "execution_count": null,
      "outputs": []
    },
    {
      "cell_type": "code",
      "metadata": {
        "trusted": true,
        "_uuid": "b138b35da46100085142a2db2a7f211b861d78e4",
        "_kg_hide-input": true,
        "id": "eS0wuvOj2FmK"
      },
      "source": [
        "plt.figure(figsize = (12,5))\n",
        "ax = sns.countplot(x=\"field_cd\", data=df)\n",
        "plt.title('Field of study', fontsize=18)\n",
        "\n",
        "ax.set_xticklabels(ax.get_xticklabels(),rotation=45)\n",
        "\n",
        "plt.ylim(0, 150)\n",
        "plt.xlabel('')\n",
        "\n",
        "for i in ax.patches:\n",
        "    ax.text(i.get_x()+.2, i.get_height()+3, \\\n",
        "            str(round((i.get_height()), 1)), fontsize=12)"
      ],
      "execution_count": null,
      "outputs": []
    },
    {
      "cell_type": "markdown",
      "metadata": {
        "_uuid": "8b673180592a9deda97b2b54d2c3f2c8bd3055b9",
        "id": "wNRPIP-E2FmL"
      },
      "source": [
        "A great majority of business/finance/econ, followed by Natural Sciences (chemistry, physics) and Engineering. All of them very much male-dominated."
      ]
    },
    {
      "cell_type": "code",
      "metadata": {
        "trusted": true,
        "_uuid": "0adfbd1d501d922853e8fafd5576bb523ac03ce8",
        "_kg_hide-input": true,
        "id": "kiAU9uI62FmL"
      },
      "source": [
        "tmp = df[['gender', 'field_cd']].groupby(['field_cd', 'gender']).size().unstack().fillna(0)\n",
        "ax = tmp.plot(kind='bar', figsize=(12,6), stacked=True)\n",
        "ax.set_xticklabels(ax.get_xticklabels(), fontsize=12, rotation=45)\n",
        "\n",
        "ax.set_title('Field of study by gender', fontsize=18)\n",
        "ax.set_xlabel('',fontsize=1)"
      ],
      "execution_count": null,
      "outputs": []
    },
    {
      "cell_type": "code",
      "metadata": {
        "trusted": true,
        "_uuid": "5e250a6bf0024f649de6b4fd13ce406915fc8ff8",
        "_kg_hide-input": true,
        "id": "PypKtOvq2FmL"
      },
      "source": [
        "tmp = df[['gender', 'field_cd']].groupby(['field_cd', 'gender']).size().unstack().fillna(0)\n",
        "tmp['% Female'] = round(tmp.Female / (tmp.Female + tmp.Male) * 100, 2)\n",
        "tmp['% Male'] = round(tmp.Male / (tmp.Female + tmp.Male) * 100, 2)\n",
        "tmp"
      ],
      "execution_count": null,
      "outputs": []
    },
    {
      "cell_type": "markdown",
      "metadata": {
        "_uuid": "38e51f7e7f47dbf74ccd68588dea91e22ec5b301",
        "id": "RL46Rd2m2FmM"
      },
      "source": [
        "While Engineering, Finance, and Math are mostly male-dominated, Social and Medical Sciences, Arts, and Journalism are more female dominated. Natural Sciences, Political Science, and Film are very much equally represented by both genders."
      ]
    },
    {
      "cell_type": "markdown",
      "metadata": {
        "_uuid": "2ed30a9a1acf266daf051a8ee90d7642891aab15",
        "id": "Fd2Wn8qf2FmM"
      },
      "source": [
        "## Do we care about race and religion?\n",
        "\n",
        "In this subsection, we will focus on what the participants declare to be the level of importance of race and religion for them. Thus, let's keep in mind that this is what the participants are declaring, which **does not necessarily correspond to the truth**. \n",
        "\n",
        "Later, we will look for a way to test if these values are trustworthy or not."
      ]
    },
    {
      "cell_type": "code",
      "metadata": {
        "trusted": true,
        "_uuid": "02366bac33370f065221e4a2229b38cc2e337f56",
        "_kg_hide-input": true,
        "id": "6Dt-nPUy2FmM"
      },
      "source": [
        "ax = df.imprace.hist(bins=10, figsize=(12,8))\n",
        "ax.set_title('How important is the race', fontsize=15)\n",
        "ax.set_xlabel('Importance',fontsize=12)\n",
        "ax.set_ylabel('Count', fontsize=12)\n",
        "ax.grid(False)"
      ],
      "execution_count": null,
      "outputs": []
    },
    {
      "cell_type": "code",
      "metadata": {
        "trusted": true,
        "_uuid": "bd2f1640ad18f51d66153dc268360faf7e4feaaf",
        "_kg_hide-input": true,
        "id": "p7GLekjt2FmM"
      },
      "source": [
        "g = sns.FacetGrid(df, col='race')\n",
        "g.map(plt.hist, 'imprace', bins=10)\n",
        "axes = g.axes.flatten()\n",
        "axes[0].set_title(\"Asian\")\n",
        "axes[1].set_title(\"White\")\n",
        "axes[2].set_title(\"Other\")\n",
        "axes[3].set_title(\"Hispanic\")\n",
        "axes[4].set_title(\"Black\")\n",
        "g.set_xlabels('', fontsize=1)\n",
        "plt.subplots_adjust(top=0.8)\n",
        "g.fig.suptitle('How important is the race, by race', fontsize=15)\n",
        "g.add_legend()"
      ],
      "execution_count": null,
      "outputs": []
    },
    {
      "cell_type": "code",
      "metadata": {
        "trusted": true,
        "_uuid": "61796a65785cb730712bc055dd6a35c607063838",
        "_kg_hide-input": true,
        "id": "ESqR_NqX2FmM"
      },
      "source": [
        "df[['race', 'imprace']].groupby(['race']).agg(['mean', 'median', 'min', 'max', 'count'])"
      ],
      "execution_count": null,
      "outputs": []
    },
    {
      "cell_type": "code",
      "metadata": {
        "_kg_hide-input": true,
        "trusted": true,
        "_uuid": "16f00ac44ed957c95176caba9be359a73e7901ea",
        "id": "KiQI3yUI2FmM"
      },
      "source": [
        "ax = df[['race', 'imprace']].groupby('race').mean().plot(kind='bar', figsize=(12,5), legend=False,\n",
        "                                               title='Average importance of Race, by Race',\n",
        "                                                   ylim=(2,5), color='rgbmy')\n",
        "ax.set_xticklabels(ax.get_xticklabels(), fontsize=12, rotation='horizontal')\n",
        "ax.set_xlabel('',fontsize=1)\n",
        "\n",
        "for i in ax.patches:\n",
        "    ax.text(i.get_x()+.2, i.get_height()+.05, \\\n",
        "            str(round((i.get_height()), 1)), fontsize=12)"
      ],
      "execution_count": null,
      "outputs": []
    },
    {
      "cell_type": "markdown",
      "metadata": {
        "_uuid": "fd221b693c94bc8a4c54494b8d9a79db3156eba2",
        "id": "D5Grxyhd2FmM"
      },
      "source": [
        "Caucasians give more importance to race than other races. One may wonder if gender plays a role in that"
      ]
    },
    {
      "cell_type": "code",
      "metadata": {
        "trusted": true,
        "_uuid": "8838ed748db458a23e28529e9f28bc61944bba0d",
        "_kg_hide-input": true,
        "id": "VgybZeMR2FmN"
      },
      "source": [
        "g = sns.FacetGrid(df, hue='gender', height = 6)\n",
        "g.map(plt.hist, 'imprace', alpha= 0.7, bins=10)\n",
        "g.set_xlabels('Importance', fontsize=12)\n",
        "plt.subplots_adjust(top=0.9)\n",
        "g.fig.suptitle('How important is the race, by gender', fontsize=15)\n",
        "g.add_legend()"
      ],
      "execution_count": null,
      "outputs": []
    },
    {
      "cell_type": "code",
      "metadata": {
        "trusted": true,
        "_uuid": "0e18e82ad1ea85fcc0cc3126468d9a554a02f344",
        "id": "0xY840LE2FmN"
      },
      "source": [
        "df[['gender', 'imprace']].groupby(['gender']).agg(['mean', 'median', 'min', 'max', 'count'])"
      ],
      "execution_count": null,
      "outputs": []
    },
    {
      "cell_type": "code",
      "metadata": {
        "_kg_hide-input": true,
        "trusted": true,
        "_uuid": "75a8f989b820c81dc6be1490cd7cc707e9d5aa5c",
        "id": "E4hPc7Z72FmN"
      },
      "source": [
        "ax = df[['gender', 'imprace']].groupby('gender').mean().plot(kind='bar', figsize=(12,5), legend=False,\n",
        "                                               title='Importance of Race, by Gender',\n",
        "                                                   ylim=(2,5))\n",
        "ax.set_xticklabels(['Female', 'Male'], fontsize=12, rotation='horizontal')\n",
        "ax.set_xlabel('',fontsize=1)\n",
        "\n",
        "for i in ax.patches:\n",
        "    ax.text(i.get_x()+.22, i.get_height()+.05, \\\n",
        "            str(round((i.get_height()), 1)), fontsize=12)"
      ],
      "execution_count": null,
      "outputs": []
    },
    {
      "cell_type": "markdown",
      "metadata": {
        "_uuid": "b78fc89d9c9a1c31b41d828c54bae36be6a11902",
        "id": "ApGKhD-Z2FmN"
      },
      "source": [
        "Females declare to care about race more than males. However, something interesting happens if we put race into the mix again."
      ]
    },
    {
      "cell_type": "code",
      "metadata": {
        "trusted": true,
        "_uuid": "1c439b0c8db7de85965dab6bed171cc169539ad0",
        "_kg_hide-input": true,
        "id": "ynKRlPMq2FmN"
      },
      "source": [
        "g = sns.FacetGrid(df, col='race', hue='gender')\n",
        "g.map(plt.hist, 'imprace', alpha= 0.7, bins=10)\n",
        "g.add_legend()\n",
        "axes = g.axes.flatten()\n",
        "axes[0].set_title(\"Asian\")\n",
        "axes[1].set_title(\"White\")\n",
        "axes[2].set_title(\"Other\")\n",
        "axes[3].set_title(\"Hispanic\")\n",
        "axes[4].set_title(\"Black\")\n",
        "g.set_xlabels('', fontsize=1)\n",
        "plt.subplots_adjust(top=0.8)\n",
        "g.fig.suptitle('How important is the race', fontsize=15)\n",
        "\n",
        "g._legend.set_title('')"
      ],
      "execution_count": null,
      "outputs": []
    },
    {
      "cell_type": "code",
      "metadata": {
        "trusted": true,
        "_uuid": "bdeb921225cdce1dddbc0723d62c5073575bfd10",
        "_kg_hide-input": true,
        "id": "fa09U5fO2FmN"
      },
      "source": [
        "df[['gender', 'race', 'imprace']].groupby(['gender', 'race'])\\\n",
        ".agg(['mean', 'median', 'min', 'max', 'count'])"
      ],
      "execution_count": null,
      "outputs": []
    },
    {
      "cell_type": "code",
      "metadata": {
        "_kg_hide-input": true,
        "trusted": true,
        "_uuid": "38a2146c0783c7495e4108df3b9899311fa9359b",
        "id": "fQtJtMWD2FmO"
      },
      "source": [
        "fig, ax= plt.subplots(1,2, figsize=(15, 6))\n",
        "\n",
        "df[df.gender=='Female'][['race', 'imprace']].groupby('race').mean().plot(kind='bar', ax=ax[0], legend=False,\n",
        "                                                              title='Females', ylim=(2,5),\n",
        "                                                              color='rgbmy')\n",
        "\n",
        "df[df.gender=='Male'][['race', 'imprace']].groupby('race').mean().plot(kind='bar', ax=ax[1], legend=False,\n",
        "                                                              title='Males', ylim=(2,5),\n",
        "                                                              color='rgbmy')\n",
        "\n",
        "ax[0].set_xticklabels(ax[0].get_xticklabels(), fontsize=12, rotation='horizontal')\n",
        "ax[1].set_xticklabels(ax[0].get_xticklabels(), fontsize=12, rotation='horizontal')\n",
        "ax[0].set_xlabel('',fontsize=1)\n",
        "ax[1].set_xlabel('',fontsize=1)\n",
        "\n",
        "fig.suptitle('Mean importance of race, by race', fontsize=22)\n",
        "\n",
        "for i in ax[0].patches:\n",
        "    ax[0].text(i.get_x()+.09, i.get_height()+.05, \\\n",
        "            str(round((i.get_height()), 1)), fontsize=12)\n",
        "    \n",
        "for i in ax[1].patches:\n",
        "    ax[1].text(i.get_x()+.09, i.get_height()+.05, \\\n",
        "            str(round((i.get_height()), 1)), fontsize=12)"
      ],
      "execution_count": null,
      "outputs": []
    },
    {
      "cell_type": "markdown",
      "metadata": {
        "_uuid": "18cfabba6dcf103ec24d3e4d846fef3ebc8394f6",
        "id": "gEASogDB2FmO"
      },
      "source": [
        "This value seems to be very influenced by the gender of the participant consistently across all the races, with Caucasian females declaring the highest value and Black (and 'Other') participants with the highest gap between Males and Females. \n",
        "\n",
        "Next, we can focus on how important is the **religion**."
      ]
    },
    {
      "cell_type": "code",
      "metadata": {
        "trusted": true,
        "_uuid": "82e58483e6a4485ce46b6055ab8aff829121cb29",
        "_kg_hide-input": true,
        "id": "REFJaYk02FmO"
      },
      "source": [
        "ax = df.imprelig.hist(bins=10, figsize=(12,8))\n",
        "ax.set_title('How important is the religion', fontsize=15)\n",
        "ax.set_xlabel('Importance',fontsize=12)\n",
        "ax.set_ylabel('Count', fontsize=12)\n",
        "ax.grid(False)"
      ],
      "execution_count": null,
      "outputs": []
    },
    {
      "cell_type": "code",
      "metadata": {
        "trusted": true,
        "_uuid": "751bc4cc07f7c2bccb376c1bb71e6e17ab0c1605",
        "_kg_hide-input": true,
        "id": "Togyld2b2FmO"
      },
      "source": [
        "g = sns.FacetGrid(df, col='race')\n",
        "g.map(plt.hist, 'imprelig', bins=10)\n",
        "g.add_legend()\n",
        "axes = g.axes.flatten()\n",
        "axes[0].set_title(\"Asian\")\n",
        "axes[1].set_title(\"White\")\n",
        "axes[2].set_title(\"Other\")\n",
        "axes[3].set_title(\"Hispanic\")\n",
        "axes[4].set_title(\"Black\")\n",
        "g.set_xlabels('', fontsize=1)\n",
        "plt.subplots_adjust(top=0.8)\n",
        "g.fig.suptitle('How important is the religion, by race', fontsize=15)"
      ],
      "execution_count": null,
      "outputs": []
    },
    {
      "cell_type": "code",
      "metadata": {
        "trusted": true,
        "_uuid": "90e0344f6b18b531815b3dd2febd0cae124a94b9",
        "_kg_hide-input": true,
        "id": "vvX4o0C12FmO"
      },
      "source": [
        "df[['race', 'imprelig']].groupby(['race']).agg(['mean', 'median', 'min', 'max', 'count'])"
      ],
      "execution_count": null,
      "outputs": []
    },
    {
      "cell_type": "code",
      "metadata": {
        "_kg_hide-input": true,
        "trusted": true,
        "_uuid": "b37f00f162941c37302d8a9c1ed140e3f8ae0574",
        "id": "OsZ6jH872FmO"
      },
      "source": [
        "ax = df[['race', 'imprelig']].groupby('race').mean().plot(kind='bar', figsize=(12,5), legend=False,\n",
        "                                               title='Importance of Religion by Race',\n",
        "                                                   ylim=(2,5), color='rgbmy')\n",
        "ax.set_xticklabels(ax.get_xticklabels(), fontsize=12, rotation='horizontal')\n",
        "ax.set_xlabel('', fontsize=1)\n",
        "\n",
        "for i in ax.patches:\n",
        "    ax.text(i.get_x()+.19, i.get_height()+.05, \\\n",
        "            str(round((i.get_height()), 1)), fontsize=12)"
      ],
      "execution_count": null,
      "outputs": []
    },
    {
      "cell_type": "markdown",
      "metadata": {
        "_uuid": "6b891c4abc1f6ddd2c7dff1a8fb9037b586ba380",
        "id": "LkOaTcPY2FmO"
      },
      "source": [
        "Again, we see that white participants declare higher values."
      ]
    },
    {
      "cell_type": "code",
      "metadata": {
        "trusted": true,
        "_uuid": "0d7a4ce64efe46f10b68ead93a51caac5ce72626",
        "_kg_hide-input": true,
        "id": "Bkxc25TT2FmP"
      },
      "source": [
        "g = sns.FacetGrid(df, hue='gender', height = 6)\n",
        "g.map(plt.hist, 'imprelig', alpha= 0.7, bins=10)\n",
        "g.set_xlabels('Importance', fontsize=12)\n",
        "plt.subplots_adjust(top=0.9)\n",
        "g.fig.suptitle('How important is the religion, by gender', fontsize=15)\n",
        "g.add_legend()"
      ],
      "execution_count": null,
      "outputs": []
    },
    {
      "cell_type": "code",
      "metadata": {
        "trusted": true,
        "_uuid": "c5bff4359e9f1257d34f9293926a53bf9a2494fb",
        "_kg_hide-input": true,
        "id": "G0p0mQcD2FmP"
      },
      "source": [
        "df[['gender', 'imprelig']].groupby(['gender'])\\\n",
        ".agg(['mean', 'median', 'min', 'max', 'count'])"
      ],
      "execution_count": null,
      "outputs": []
    },
    {
      "cell_type": "code",
      "metadata": {
        "trusted": true,
        "_uuid": "cd5042e41e4fad77a762f1b3c254536a34feef88",
        "_kg_hide-input": true,
        "id": "v6Qt0-Vd2FmP"
      },
      "source": [
        "ax = df[['gender', 'imprelig']].groupby('gender').mean().plot(kind='bar', figsize=(12,5), legend=False,\n",
        "                                               title='Importance of Religion, by Gender',\n",
        "                                                   ylim=(2,5))\n",
        "ax.set_xticklabels(['Female', 'Male'], fontsize=12, rotation='horizontal')\n",
        "ax.set_xlabel('', fontsize=1)\n",
        "\n",
        "for i in ax.patches:\n",
        "    ax.text(i.get_x()+.22, i.get_height()+.05, \\\n",
        "            str(round((i.get_height()), 1)), fontsize=12)"
      ],
      "execution_count": null,
      "outputs": []
    },
    {
      "cell_type": "markdown",
      "metadata": {
        "_uuid": "ba06513fb9791a4ea085769894ab67cad4b73699",
        "id": "VVHo6DCP2FmP"
      },
      "source": [
        "Again, female participants are declaring higher values"
      ]
    },
    {
      "cell_type": "code",
      "metadata": {
        "trusted": true,
        "_uuid": "f8d2aafaed112869e570e70d2fd2892f22038fd6",
        "_kg_hide-input": true,
        "id": "gOcLzjZf2FmP"
      },
      "source": [
        "g = sns.FacetGrid(df, col='race', hue='gender')\n",
        "g.map(plt.hist, 'imprelig', alpha= 0.7, bins=10)\n",
        "g.add_legend()\n",
        "axes = g.axes.flatten()\n",
        "axes[0].set_title(\"Asian\")\n",
        "axes[1].set_title(\"White\")\n",
        "axes[2].set_title(\"Other\")\n",
        "axes[3].set_title(\"Hispanic\")\n",
        "axes[4].set_title(\"Black\")\n",
        "g.set_xlabels('', fontsize=1)\n",
        "plt.subplots_adjust(top=0.8)\n",
        "g.fig.suptitle('How important is the religion', fontsize=15)\n",
        "\n",
        "g._legend.set_title('')"
      ],
      "execution_count": null,
      "outputs": []
    },
    {
      "cell_type": "code",
      "metadata": {
        "trusted": true,
        "_uuid": "e79a8817f4d6802760b5f0f2e0d6cd8f878fd2df",
        "_kg_hide-input": true,
        "id": "hBcrir212FmP"
      },
      "source": [
        "df[['gender', 'race', 'imprelig']].groupby(['gender', 'race'])\\\n",
        ".agg(['mean', 'median', 'min', 'max', 'count'])"
      ],
      "execution_count": null,
      "outputs": []
    },
    {
      "cell_type": "code",
      "metadata": {
        "trusted": true,
        "_uuid": "1017fcc8faf6fc421c9ef64ec70272eab078c36b",
        "_kg_hide-input": true,
        "id": "d0G4ML0T2FmP"
      },
      "source": [
        "fig, ax= plt.subplots(1,2, figsize=(15, 6))\n",
        "\n",
        "df[df.gender=='Female'][['race', 'imprelig']].groupby('race').mean().plot(kind='bar', ax=ax[0], legend=False,\n",
        "                                                              title='Females', ylim=(1,5),\n",
        "                                                              color='rgbmy')\n",
        "\n",
        "df[df.gender=='Male'][['race', 'imprelig']].groupby('race').mean().plot(kind='bar', ax=ax[1], legend=False,\n",
        "                                                              title='Males', ylim=(1,5),\n",
        "                                                              color='rgbmy')\n",
        "\n",
        "ax[0].set_xticklabels(ax[0].get_xticklabels(), fontsize=12, rotation='horizontal')\n",
        "ax[1].set_xticklabels(ax[1].get_xticklabels(), fontsize=12, rotation='horizontal')\n",
        "ax[0].set_xlabel('')\n",
        "ax[1].set_xlabel('')\n",
        "\n",
        "fig.suptitle('Mean importance of religion, by race', fontsize=22)\n",
        "\n",
        "for i in ax[0].patches:\n",
        "    ax[0].text(i.get_x()+.1, i.get_height()+.05, \\\n",
        "            str(round((i.get_height()), 1)), fontsize=12)\n",
        "    \n",
        "for i in ax[1].patches:\n",
        "    ax[1].text(i.get_x()+.1, i.get_height()+.05, \\\n",
        "            str(round((i.get_height()), 1)), fontsize=12)"
      ],
      "execution_count": null,
      "outputs": []
    },
    {
      "cell_type": "markdown",
      "metadata": {
        "_uuid": "673725e146200fa20218a4cba998a33cd02fd1dd",
        "id": "uA4dolWI2FmQ"
      },
      "source": [
        "Thus, in general, Caucasian (and \"Other\") females declare to give more importance to race and religion than any other segment of the population. It is difficult to not notice how these differences between gender vary across the races. We notice again a big gap across gender in Black participants and in participants of 'Other' races. At last, it seems that Hispanic individuals are fairly united in giving importance to religion (on average), regardless of their gender.\n",
        "\n",
        "## Are we sincere about it?\n",
        "\n",
        "We could try to find a way to check whether or not the participants are declaring what they really feel. In particular, they are asked to communicate if they like their speed-date or not (as far as I understood, if they both like each other we call this a match). Although this might depend on many factors, we could try to see if the values we found above are trustworthy.\n",
        "\n",
        "Since the data with the decisions are in the DataFrame with the repeated individuals (the original one), the next cell will prepare the data by counting how many times an individual gave positive feedback and how many times it was with a partner of the same race. \n",
        "\n",
        "It is easy (sums are associative) to see that the same results can be achieved by simply using the original DataFrame but it is a good exercise of data manipulation that I want to keep in the next hidden cell."
      ]
    },
    {
      "cell_type": "code",
      "metadata": {
        "_kg_hide-input": true,
        "_kg_hide-output": true,
        "trusted": true,
        "_uuid": "1bd52c30ab87171db8dc6491fb003f9daf0c87b4",
        "id": "r-OA9H2U2FmQ"
      },
      "source": [
        "sinc = df_full[['iid', 'dec', 'samerace']].groupby(['iid', 'samerace']).sum().unstack().fillna(0)\n",
        "sinc = sinc.dec.rename(columns={0: 'dec_diff', 1: 'dec_same'})\n",
        "tmp = df_full[['iid', 'wave', 'samerace']].groupby(['iid', 'samerace']).count().unstack().fillna(0)\n",
        "tmp = tmp.wave.rename(columns={0: 'dates_diff', 1: 'dates_same'})\n",
        "sinc = pd.merge(sinc, tmp, left_index=True, right_index=True)\n",
        "sinc = sinc.reset_index()\n",
        "df = pd.merge(df, sinc, on='iid')\n",
        "del sinc"
      ],
      "execution_count": null,
      "outputs": []
    },
    {
      "cell_type": "code",
      "metadata": {
        "_kg_hide-input": true,
        "trusted": true,
        "_uuid": "8a5632665d6e8c1c0cb80bbc7f862b0c4165d08e",
        "id": "vwDnR-mO2FmQ"
      },
      "source": [
        "tmp = (df.dec_diff.sum() + df.dec_same.sum()) / (df.dates_diff.sum() + df.dates_same.sum())\n",
        "print('Rate of positive feedback on the partner: {}%'.format(round(tmp*100,2)))\n",
        "tmp = (df.dec_same.sum()) / (df.dates_same.sum())\n",
        "print('Rate of positive feedback on the partner of the same race: {}%'.format(round(tmp*100,2)))\n",
        "tmp = (df.dec_diff.sum()) / (df.dates_diff.sum())\n",
        "print('Rate of positive feedback on the partner of the a different race: {}%'.format(round(tmp*100,2)))"
      ],
      "execution_count": null,
      "outputs": []
    },
    {
      "cell_type": "markdown",
      "metadata": {
        "_uuid": "0f765cdea2e87ea2ca73e46ee2cc97f9f3f661f2",
        "id": "wcLNWnVc2FmQ"
      },
      "source": [
        "It looks like there is some influence after all, let's try to go deeper."
      ]
    },
    {
      "cell_type": "code",
      "metadata": {
        "_kg_hide-input": true,
        "trusted": true,
        "_uuid": "7b80b5537a5818d0b524121f945a789522c7a615",
        "id": "0HoN52mr2FmQ"
      },
      "source": [
        "print('Rate of positive feedback on the partner of the same race, by race')\n",
        "df_full[['dec','samerace', 'race']].groupby(['race','samerace']).mean()*100"
      ],
      "execution_count": null,
      "outputs": []
    },
    {
      "cell_type": "code",
      "metadata": {
        "_kg_hide-input": true,
        "trusted": true,
        "_uuid": "7ae21e05a5874e48ddba97202d6736b28e689612",
        "id": "tCgkNrAj2FmQ"
      },
      "source": [
        "fig, ax= plt.subplots(1,2, figsize=(15, 6))\n",
        "\n",
        "df_full[df_full.samerace==0][['race', 'dec']].groupby('race').mean().plot(kind='bar', ax=ax[0], legend=False,\n",
        "                                                              title='Different races', ylim=(0,1),\n",
        "                                                              color='rgbmy')\n",
        "\n",
        "df_full[df_full.samerace==1][['race', 'dec']].groupby('race').mean().plot(kind='bar', ax=ax[1], legend=False,\n",
        "                                                              title='Same race', ylim=(0,1),\n",
        "                                                              color='rgbmy')\n",
        "\n",
        "ax[0].set_xticklabels(ax[0].get_xticklabels(), fontsize=12, rotation='horizontal')\n",
        "ax[1].set_xticklabels(ax[1].get_xticklabels(), fontsize=12, rotation='horizontal')\n",
        "ax[0].set_xlabel('')\n",
        "ax[1].set_xlabel('')\n",
        "vals = ax[0].get_yticks()\n",
        "ax[0].set_yticklabels(['{:,.0%}'.format(x) for x in vals], fontsize=12)\n",
        "ax[1].set_yticklabels(['{:,.0%}'.format(x) for x in vals], fontsize=12)\n",
        "\n",
        "fig.suptitle('Rate of positive feedback, by race', fontsize=18)\n",
        "\n",
        "for i in ax[0].patches:\n",
        "    ax[0].text(i.get_x()+.01, i.get_height()+.02, \\\n",
        "            str(round((i.get_height())*100, 1))+'%', fontsize=12)\n",
        "    \n",
        "for i in ax[1].patches:\n",
        "    ax[1].text(i.get_x()+.01, i.get_height()+.02, \\\n",
        "            str(round((i.get_height())*100, 1))+'%', fontsize=12)"
      ],
      "execution_count": null,
      "outputs": []
    },
    {
      "cell_type": "markdown",
      "metadata": {
        "_uuid": "d74a955d456826db7138b879fb3117ea1d0c71fc",
        "id": "tiQiPcQn2FmQ"
      },
      "source": [
        "Every race, except for Asians and \"Other\" (which can include same race couples and we have no way to find out), sees a positive effect of being of the same race. Particularly impressive the effect on Black participants but we can't ignore that there are very few cases when 2 black individuals dated at these events."
      ]
    },
    {
      "cell_type": "code",
      "metadata": {
        "trusted": true,
        "_uuid": "c969ad3bdca85e145db93642dc8897280834fc4c",
        "_kg_hide-input": true,
        "id": "gKFG0B-y2FmR"
      },
      "source": [
        "print('Rate of positive feedback on the partner of the same race, by gender')\n",
        "df_full[['dec','samerace', 'gender']].groupby(['gender','samerace']).mean()*100"
      ],
      "execution_count": null,
      "outputs": []
    },
    {
      "cell_type": "markdown",
      "metadata": {
        "_uuid": "b4697ba20f70f417a92d15cf05f98629681102ef",
        "id": "ZB25uPpk2FmR"
      },
      "source": [
        "This looks like more in line with what was declared: the effect for males is negligible and more noticeable for females."
      ]
    },
    {
      "cell_type": "code",
      "metadata": {
        "_kg_hide-input": true,
        "trusted": true,
        "_uuid": "78a29c3595420a51900d8cd10162cc4496441541",
        "id": "1nZpizvs2FmR"
      },
      "source": [
        "fig, ax= plt.subplots(1,2, figsize=(15, 6))\n",
        "\n",
        "df_full[df_full.samerace==0][['gender', 'dec']].groupby('gender').mean().plot(kind='bar', ax=ax[0], legend=False,\n",
        "                                                              title='Different races', ylim=(0,1))\n",
        "\n",
        "df_full[df_full.samerace==1][['gender', 'dec']].groupby('gender').mean().plot(kind='bar', ax=ax[1], legend=False,\n",
        "                                                              title='Same race', ylim=(0,1))\n",
        "\n",
        "ax[0].set_xticklabels(['Female', 'Male'], fontsize=12, rotation='horizontal')\n",
        "ax[1].set_xticklabels(['Female', 'Male'], fontsize=12, rotation='horizontal')\n",
        "ax[0].set_xlabel('')\n",
        "ax[1].set_xlabel('')\n",
        "vals = ax[0].get_yticks()\n",
        "ax[0].set_yticklabels(['{:,.0%}'.format(x) for x in vals], fontsize=12)\n",
        "ax[1].set_yticklabels(['{:,.0%}'.format(x) for x in vals], fontsize=12)\n",
        "\n",
        "fig.suptitle('Rate of positive feedback, by gender', fontsize=18)\n",
        "\n",
        "for i in ax[0].patches:\n",
        "    ax[0].text(i.get_x()+.15, i.get_height()+.02, \\\n",
        "            str(round((i.get_height())*100, 1))+'%', fontsize=12)\n",
        "    \n",
        "for i in ax[1].patches:\n",
        "    ax[1].text(i.get_x()+.15, i.get_height()+.02, \\\n",
        "            str(round((i.get_height())*100, 1))+'%', fontsize=12)"
      ],
      "execution_count": null,
      "outputs": []
    },
    {
      "cell_type": "code",
      "metadata": {
        "_kg_hide-input": true,
        "trusted": true,
        "_uuid": "8abadcd4f28f0d8a440cc5c4d30379ff0f08b38e",
        "id": "ljvcX4rq2FmR"
      },
      "source": [
        "fig, ax= plt.subplots(2,2, figsize=(15, 12))\n",
        "\n",
        "df_full[(df_full.samerace==0) & (df_full.gender=='Female')][['race', \n",
        "                                       'dec']].groupby('race').mean().plot(kind='bar', ax=ax[0][0], legend=False,\n",
        "                                                              title='Different races, Females', ylim=(0,1),\n",
        "                                                              color='rgbmy')\n",
        "\n",
        "df_full[(df_full.samerace==1) & (df_full.gender=='Male')][['race', \n",
        "                                        'dec']].groupby('race').mean().plot(kind='bar', ax=ax[1][1], legend=False,\n",
        "                                                              title='Same race, Males', ylim=(0,1),\n",
        "                                                              color='rgbmy')\n",
        "\n",
        "df_full[(df_full.samerace==0) & (df_full.gender=='Male')][['race', \n",
        "                                       'dec']].groupby('race').mean().plot(kind='bar', ax=ax[1][0], legend=False,\n",
        "                                                              title='Different races, Males', ylim=(0,1),\n",
        "                                                              color='rgbmy')\n",
        "\n",
        "df_full[(df_full.samerace==1) & (df_full.gender=='Female')][['race', \n",
        "                                        'dec']].groupby('race').mean().plot(kind='bar', ax=ax[0][1], legend=False,\n",
        "                                                              title='Same race, Females', ylim=(0,1),\n",
        "                                                              color='rgbmy')\n",
        "\n",
        "ax[0][0].set_xticklabels(ax[0][0].get_xticklabels(), fontsize=12, rotation='horizontal')\n",
        "ax[1][0].set_xticklabels(ax[1][0].get_xticklabels(), fontsize=12, rotation='horizontal')\n",
        "ax[0][1].set_xticklabels(ax[0][1].get_xticklabels(), fontsize=12, rotation='horizontal')\n",
        "ax[1][1].set_xticklabels(ax[1][1].get_xticklabels(), fontsize=12, rotation='horizontal')\n",
        "ax[0][0].set_xlabel('')\n",
        "ax[1][0].set_xlabel('')\n",
        "ax[0][1].set_xlabel('')\n",
        "ax[1][1].set_xlabel('')\n",
        "vals = ax[0][0].get_yticks()\n",
        "ax[0][0].set_yticklabels(['{:,.0%}'.format(x) for x in vals], fontsize=12)\n",
        "ax[1][0].set_yticklabels(['{:,.0%}'.format(x) for x in vals], fontsize=12)\n",
        "ax[0][1].set_yticklabels(['{:,.0%}'.format(x) for x in vals], fontsize=12)\n",
        "ax[1][1].set_yticklabels(['{:,.0%}'.format(x) for x in vals], fontsize=12)\n",
        "\n",
        "fig.suptitle('Rate of positive feedback, by race', fontsize=18)\n",
        "\n",
        "for i in ax[0][0].patches:\n",
        "    ax[0][0].text(i.get_x()+.01, i.get_height()+.02, \\\n",
        "            str(round((i.get_height())*100, 1))+'%', fontsize=12)\n",
        "    \n",
        "for i in ax[1][0].patches:\n",
        "    ax[1][0].text(i.get_x()+.01, i.get_height()+.02, \\\n",
        "            str(round((i.get_height())*100, 1))+'%', fontsize=12)\n",
        "    \n",
        "for i in ax[0][1].patches:\n",
        "    ax[0][1].text(i.get_x()+.01, i.get_height()+.02, \\\n",
        "            str(round((i.get_height())*100, 1))+'%', fontsize=12)\n",
        "    \n",
        "for i in ax[1][1].patches:\n",
        "    ax[1][1].text(i.get_x()+.01, i.get_height()+.02, \\\n",
        "            str(round((i.get_height())*100, 1))+'%', fontsize=12)"
      ],
      "execution_count": null,
      "outputs": []
    },
    {
      "cell_type": "markdown",
      "metadata": {
        "_uuid": "954ade2b2db8611e5794e57e2d3676fb651ef2c0",
        "id": "rhnHGVPR2FmR"
      },
      "source": [
        "Now, this is interesting. We have seen that Females are less likely to give positive feedback (meaning, setting `dec=1`) than males. This is very evident in Caucasian females with a partner of a different race. This is very much in line with what was declared in the other question.\n",
        "\n",
        "We have already noticed the high discrepancy between the declared importance and the feedback rate for Black individuals and this is again very evident for African American females since it appears they particularly liked the partners of the same race at the point that their rate is significantly higher than their male counterparts (as before, this happens only in a very few cases). A similar effect (but much smaller) can be observed for Hispanic participants.\n",
        "\n",
        "For how interesting this is for me, **this result does not mean much in terms of causality**. There can be more important factors determining this kind of choice and we are looking at averages, thus smoothing out any kind of variability.\n",
        "\n",
        "Before moving on, we can see how being of the same race has a positive effect regardless of what the individuals are declaring it important or not. Moreover, the effect is particularly large if the race is considered a very important factor."
      ]
    },
    {
      "cell_type": "code",
      "metadata": {
        "_kg_hide-input": true,
        "trusted": true,
        "_uuid": "97332c81556b01117991afd51d7c851965e7c601",
        "id": "8CZfF7Ki2FmR"
      },
      "source": [
        "fig, ax= plt.subplots(1,2, figsize=(15, 6))\n",
        "\n",
        "df_full[df_full.samerace==0][['imprace', \n",
        "                              'dec']].groupby('imprace').mean().unstack().plot(kind='bar', ax=ax[0], legend=False,\n",
        "                                                              title='Different races', ylim=(0,1))\n",
        "\n",
        "df_full[df_full.samerace==1][['imprace', \n",
        "                              'dec']].groupby('imprace').mean().unstack().plot(kind='bar', ax=ax[1], legend=False,\n",
        "                                                              title='Same race', ylim=(0,1))\n",
        "\n",
        "vals = ax[0].get_yticks()\n",
        "ax[0].set_yticklabels(['{:,.0%}'.format(x) for x in vals], fontsize=12)\n",
        "ax[1].set_yticklabels(['{:,.0%}'.format(x) for x in vals], fontsize=12)\n",
        "\n",
        "ax[0].set_xticklabels(np.arange(11), fontsize=12, rotation='horizontal')\n",
        "ax[1].set_xticklabels(np.arange(11), fontsize=12, rotation='horizontal')\n",
        "\n",
        "ax[0].set_xlabel('Importance of race')\n",
        "ax[1].set_xlabel('Importance of race')\n",
        "\n",
        "fig.suptitle('Rate of positive feedback, by declared importance', fontsize=18)\n",
        "\n",
        "for i in ax[0].patches:\n",
        "    ax[0].text(i.get_x()+.005, i.get_height()+.02, \\\n",
        "            str(round((i.get_height())*100, 1))+'%', fontsize=8)\n",
        "    \n",
        "for i in ax[1].patches:\n",
        "    ax[1].text(i.get_x()+.005, i.get_height()+.02, \\\n",
        "            str(round((i.get_height())*100, 1))+'%', fontsize=8)"
      ],
      "execution_count": null,
      "outputs": []
    },
    {
      "cell_type": "markdown",
      "metadata": {
        "_uuid": "9554c9c793c1e502d6b826cdcd3e65db77f5aa44",
        "id": "emJYCXUB2FmS"
      },
      "source": [
        "## Goals and habits\n",
        "\n",
        "In this subsection, we will see what the participants declared to be their intentions to be and what they usually do in terms of going out and dating."
      ]
    },
    {
      "cell_type": "code",
      "metadata": {
        "trusted": true,
        "_uuid": "cfcca215a229930b022f60e476711c32b18222a7",
        "_kg_hide-input": true,
        "id": "Qx_rVDah2FmS"
      },
      "source": [
        "df['goal'] = df.goal.map({1: 'Fun', 2: 'Meet', 3: 'Date', \n",
        "                          4: 'Relationship', 5: 'IdidIt', 6: 'Other'}).fillna(df.goal)\n",
        "df_full['goal'] = df_full.goal.map({1: 'Fun', 2: 'Meet', 3: 'Date', \n",
        "                          4: 'Relationship', 5: 'IdidIt', 6: 'Other'}).fillna(df_full.goal)\n",
        "df.goal.value_counts(dropna=False)"
      ],
      "execution_count": null,
      "outputs": []
    },
    {
      "cell_type": "markdown",
      "metadata": {
        "_uuid": "a46e5080e431fcaa772d0db0d429667bb693d7ad",
        "id": "xDESBdS12FmS"
      },
      "source": [
        "Most of the people declare to be there to have fun and meet new people. Let's see if there is some trend in gender or race."
      ]
    },
    {
      "cell_type": "code",
      "metadata": {
        "trusted": true,
        "_uuid": "263f2adb6f7930125b26512d4a050eb381458f39",
        "_kg_hide-input": true,
        "id": "EcfOEFp22FmS"
      },
      "source": [
        "tmp = df[['gender', 'goal']].groupby(['goal', 'gender']).size().unstack()\n",
        "ax = tmp.plot(kind='bar', figsize=(12,6), ylim=(0,130))\n",
        "ax.set_xticklabels(ax.get_xticklabels(), fontsize=12, rotation='horizontal')\n",
        "\n",
        "ax.set_title('Declared goal for the evening, by gender', fontsize=18)\n",
        "\n",
        "for i in ax.patches:\n",
        "    ax.text(i.get_x()+.07, i.get_height()+3, \\\n",
        "            str(round((i.get_height()), 1)), fontsize=10)"
      ],
      "execution_count": null,
      "outputs": []
    },
    {
      "cell_type": "markdown",
      "metadata": {
        "_uuid": "dfd35e7196623f19976b18575316fcbb80da9a58",
        "id": "3l4SoObg2FmS"
      },
      "source": [
        "The two genders mainly differ in their intentions about finding a date (twice as many more males declare that) or meeting someone new (it turns out that girls do not *just want to have fun* but also want to meet someone new).\n",
        "\n",
        "Let's see how often they declare to **go out**."
      ]
    },
    {
      "cell_type": "code",
      "metadata": {
        "trusted": true,
        "_uuid": "05927ed5661c70cbf61b7ee01ba1367d801d233c",
        "_kg_hide-input": true,
        "id": "XVL-1uWg2FmS"
      },
      "source": [
        "df['go_out'] = df.go_out.map({1: 'Several_pw', 2: 'Twice_pw', 3: 'Once_pw',\n",
        "                             4: 'Twice_pm', 5: 'Once_pm', 6: 'Several_py',\n",
        "                             7: 'Almost_never'}).fillna(df.go_out)\n",
        "df_full['go_out'] = df_full.go_out.map({1: 'Several_pw', 2: 'Twice_pw', 3: 'Once_pw',\n",
        "                             4: 'Twice_pm', 5: 'Once_pm', 6: 'Several_py',\n",
        "                             7: 'Almost_never'}).fillna(df_full.go_out)\n",
        "df.go_out.value_counts(dropna=False)"
      ],
      "execution_count": null,
      "outputs": []
    },
    {
      "cell_type": "code",
      "metadata": {
        "_kg_hide-input": true,
        "trusted": true,
        "_uuid": "a4cb4813f46fba006721551cb57692cb9f9ecf48",
        "id": "jlRrF-0f2FmS"
      },
      "source": [
        "pd.crosstab(df.go_out, df.goal, normalize='index')"
      ],
      "execution_count": null,
      "outputs": []
    },
    {
      "cell_type": "markdown",
      "metadata": {
        "_uuid": "0a450dc56e7da40ccd8ae64747d4c9c548520f7f",
        "id": "2yThEqYc2FmT"
      },
      "source": [
        "* Most of the people declare to go out on a weekly basis and they are mostly here to have fun.\n",
        "* Both the participants that declared to almost never go out were there to meet someone new.\n",
        "* Participants going out on a yearly basis are in proportion more interested in finding a date or a serious relationship than the others."
      ]
    },
    {
      "cell_type": "code",
      "metadata": {
        "trusted": true,
        "_uuid": "f39746e4206571accade888a6daab2ad3dcce482",
        "_kg_hide-input": true,
        "id": "gQkIgUhK2FmT"
      },
      "source": [
        "tmp = df[['gender', 'go_out']].groupby(['gender', 'go_out']).size().unstack(0)\n",
        "tmp = tmp.reindex(['Almost_never', 'Several_py',\n",
        "                   'Once_pm', 'Twice_pm',\n",
        "                   'Once_pw', 'Twice_pw', 'Several_pw'])\n",
        "ax = tmp.plot(kind='bar', figsize=(12,6), ylim=(0,120))\n",
        "ax.set_xticklabels(ax.get_xticklabels(), fontsize=12, rotation='horizontal')\n",
        "\n",
        "ax.set_title('How often do you go out, by gender', fontsize=18)\n",
        "\n",
        "for i in ax.patches:\n",
        "    ax.text(i.get_x()+.07, i.get_height()+2, \\\n",
        "            str(round((i.get_height()), 1)), fontsize=10)"
      ],
      "execution_count": null,
      "outputs": []
    },
    {
      "cell_type": "markdown",
      "metadata": {
        "_uuid": "82cf016963dc23c2ef23e0a1e6ebd418df1aac0b",
        "id": "p0hNjGdX2FmT"
      },
      "source": [
        "On the 2 extremes (Several times per week and almost never) the two genders look very similar with some difference in going out once or twice per week and once or twice per month. \n"
      ]
    },
    {
      "cell_type": "code",
      "metadata": {
        "trusted": true,
        "_uuid": "d77af86b506aab793dc7fd51fc5ca286abebd3b4",
        "_kg_hide-input": true,
        "id": "Vso6QGMt2FmT"
      },
      "source": [
        "df[['race', 'go_out']].groupby(['race', 'go_out']).size().unstack().fillna(0)"
      ],
      "execution_count": null,
      "outputs": []
    },
    {
      "cell_type": "markdown",
      "metadata": {
        "_uuid": "c142944542d86147724e108fa2d6a0136fa05004",
        "id": "BboEUpeb2FmT"
      },
      "source": [
        "Participants that declare to go out almost never (for how scarce) are both Asians, while Caucasian participants are equally likely to go out twice or several times per week.\n",
        "\n",
        "At last, let's see how is the dating life of our participants."
      ]
    },
    {
      "cell_type": "code",
      "metadata": {
        "trusted": true,
        "_uuid": "002194594c864bc8f53dec45e580fc93fb0fdfba",
        "_kg_hide-input": true,
        "id": "wGEUyV982FmT"
      },
      "source": [
        "df['date'] = df.date.map({1: 'Several_pw', 2: 'Twice_pw', 3: 'Once_pw',\n",
        "                         4: 'Twice_pm', 5: 'Once_pm', 6: 'Several_py',\n",
        "                         7: 'Almost_never'}).fillna(df.date)\n",
        "df_full['date'] = df_full.date.map({1: 'Several_pw', 2: 'Twice_pw', 3: 'Once_pw',\n",
        "                         4: 'Twice_pm', 5: 'Once_pm', 6: 'Several_py',\n",
        "                         7: 'Almost_never'}).fillna(df_full.date)\n",
        "df.date.value_counts(dropna=False)"
      ],
      "execution_count": null,
      "outputs": []
    },
    {
      "cell_type": "code",
      "metadata": {
        "_kg_hide-input": true,
        "trusted": true,
        "_uuid": "55842757bfc24cec58e22e3afdf9fdcec2eb5f39",
        "id": "5ua9GikQ2FmT"
      },
      "source": [
        "pd.crosstab(df.date, df.goal, normalize='index')"
      ],
      "execution_count": null,
      "outputs": []
    },
    {
      "cell_type": "markdown",
      "metadata": {
        "_uuid": "2127c919ece8c2ad6d656aa8ff8e21f674010770",
        "id": "kaRwYhKj2FmU"
      },
      "source": [
        "* Not surprisingly, many of them date very seldom. In general, the distribution of their dating life is skewed in the opposite way with respect to the one of their social activity.\n",
        "* The ones that are dating a lot are here for fun but 14% of them looks for a serious relationship"
      ]
    },
    {
      "cell_type": "code",
      "metadata": {
        "trusted": true,
        "_uuid": "1346a27c997f2fbc5708db10793e6d1e86eebe8c",
        "_kg_hide-input": true,
        "id": "vsXBtTjg2FmU"
      },
      "source": [
        "tmp = df[['gender', 'date']].groupby(['gender', 'date']).size().unstack(0)\n",
        "tmp = tmp.reindex(['Almost_never', 'Several_py',\n",
        "                   'Once_pm', 'Twice_pm',\n",
        "                   'Once_pw', 'Twice_pw', 'Several_pw'])\n",
        "ax = tmp.plot(kind='bar', figsize=(12,6), ylim=(0,100))\n",
        "ax.set_xticklabels(ax.get_xticklabels(), fontsize=12, rotation='horizontal')\n",
        "\n",
        "ax.set_title('How often do you go on a date, by gender', fontsize=18)\n",
        "\n",
        "for i in ax.patches:\n",
        "    ax.text(i.get_x()+.07, i.get_height()+2, \\\n",
        "            str(round((i.get_height()), 1)), fontsize=10)"
      ],
      "execution_count": null,
      "outputs": []
    },
    {
      "cell_type": "code",
      "metadata": {
        "trusted": true,
        "_uuid": "289221903e79b2bc82408691b7013c8fe896e9c9",
        "_kg_hide-input": true,
        "id": "aW5XekkO2FmU"
      },
      "source": [
        "df[['race', 'date']].groupby(['race', 'date']).size().unstack().fillna(0)"
      ],
      "execution_count": null,
      "outputs": []
    },
    {
      "cell_type": "code",
      "metadata": {
        "trusted": true,
        "_uuid": "f8e1ececc3ee8098b4963052b8e34169152e78e2",
        "_kg_hide-input": true,
        "id": "rGtxxI4n2FmU"
      },
      "source": [
        "df[['race', 'gender', 'date']].groupby(['race', 'gender', 'date']).size().unstack().fillna(0)"
      ],
      "execution_count": null,
      "outputs": []
    },
    {
      "cell_type": "markdown",
      "metadata": {
        "_uuid": "fc9f95c75f864165c67a54ff6d44bd09187aef49",
        "id": "GjF9ZzN42FmU"
      },
      "source": [
        "In this case, Asian people declare to date less often, in general females date less than males but in the asian case the trend is reversed."
      ]
    },
    {
      "cell_type": "markdown",
      "metadata": {
        "_uuid": "baff6e5a6099a64f0cbce2a12aee6b109ff53e28",
        "id": "OtmSqYaW2FmU"
      },
      "source": [
        "## Interests\n",
        "\n",
        "Here, we look at what the participants declare to be their interest in various activities"
      ]
    },
    {
      "cell_type": "code",
      "metadata": {
        "trusted": true,
        "_uuid": "985fab087c0335cdb99a390682dc49c653b3cd26",
        "_kg_hide-input": true,
        "id": "_JDxOQMt2FmU"
      },
      "source": [
        "def many_hist(cols):\n",
        "    num = len(cols)\n",
        "    rows = int(num/2) + (num % 2 > 0)\n",
        "    fig, ax = plt.subplots(rows, 2, figsize=(15, 5 * (rows)))\n",
        "    i = 0\n",
        "    j = 0\n",
        "    for feat in cols:\n",
        "        df[feat].hist(label=feat, ax=ax[i][j])\n",
        "        ax[i][j].set_title(feat, fontsize=12)\n",
        "        ax[i][j].grid(False)\n",
        "        j = (j+1)%2\n",
        "        i = i + 1 - j"
      ],
      "execution_count": null,
      "outputs": []
    },
    {
      "cell_type": "code",
      "metadata": {
        "trusted": true,
        "_uuid": "8ebd70f5225b38ec5e14b66479380e8bf8444eba",
        "id": "LzvkFwG-2FmU"
      },
      "source": [
        "interests = ['sports', 'tvsports', 'exercise', 'dining', 'museums',\n",
        "       'art', 'hiking', 'gaming', 'clubbing', 'reading', 'tv', 'theater',\n",
        "       'movies', 'concerts', 'music', 'shopping', 'yoga']\n",
        "many_hist(interests)"
      ],
      "execution_count": null,
      "outputs": []
    },
    {
      "cell_type": "code",
      "metadata": {
        "_kg_hide-input": true,
        "trusted": true,
        "_uuid": "59314b50bfe1a1fac00cb83c867198e8fc30a0aa",
        "id": "xcUmTzZd2FmV"
      },
      "source": [
        "corr = df[interests].corr()\n",
        "plt.figure(figsize=(12,10))\n",
        "ax = sns.heatmap(corr, cmap='RdBu_r')\n",
        "ax.set_xticklabels(ax.get_xticklabels(), rotation=45)\n",
        "ax.set_title('Correlation between interests', fontsize=18)"
      ],
      "execution_count": null,
      "outputs": []
    },
    {
      "cell_type": "markdown",
      "metadata": {
        "_uuid": "dd8b256323211cd06ddae1f152a0906b7253492d",
        "id": "cgz8F2j52FmV"
      },
      "source": [
        "There is not much going on here, we notice that not surpringly liking art comes with liking museums, liking music with liking concerts, and liking sports with liking watching sports (but no correlation with liking ecercises for male participants, as we see in the next graph). Moreover, theater and sports do not seem to appeal the same people, especially for Female participants."
      ]
    },
    {
      "cell_type": "code",
      "metadata": {
        "_kg_hide-input": true,
        "trusted": true,
        "_uuid": "a430b2ad1916c10e5761bd615e9c8e555319de35",
        "id": "52ijYAP82FmV"
      },
      "source": [
        "corr_m = df[df.gender=='Male'][interests].corr()\n",
        "corr_f = df[df.gender=='Female'][interests].corr()\n",
        "\n",
        "fig, ax= plt.subplots(1,2, figsize=(15, 6))\n",
        "sns.heatmap(corr_m, cmap='RdBu_r', ax=ax[0])\n",
        "sns.heatmap(corr_f, cmap='RdBu_r', ax=ax[1])\n",
        "\n",
        "ax[0].set_title('Males', fontsize=15)\n",
        "ax[1].set_title('Females', fontsize=15)"
      ],
      "execution_count": null,
      "outputs": []
    },
    {
      "cell_type": "code",
      "metadata": {
        "_kg_hide-input": true,
        "trusted": true,
        "_uuid": "58b8cf38137f116e096aa1c5413c241cec834c26",
        "id": "4tU3Xl3k2FmV"
      },
      "source": [
        "tmp = df[['gender']+ interests].groupby(['gender']).mean().stack().unstack(0)\n",
        "ax = tmp.plot(kind='bar', figsize=(12,6))\n",
        "ax.set_xticklabels(ax.get_xticklabels(), fontsize=12, rotation=45)\n",
        "\n",
        "ax.set_title('Mean interest in activities, by gender', fontsize=18)\n",
        "\n",
        "for i in ax.patches:\n",
        "    ax.text(i.get_x(), i.get_height()+.10, \\\n",
        "            str(round((i.get_height()), 1)), fontsize=8)"
      ],
      "execution_count": null,
      "outputs": []
    },
    {
      "cell_type": "markdown",
      "metadata": {
        "_uuid": "807909868fb3822c0aec643a71daff6c982ca779",
        "id": "PO7pZjT02FmV"
      },
      "source": [
        "Interestingly, with the exception of Sports, tv sports, and gaming, female participants have an higher average interest than their male counterparts in every activity."
      ]
    },
    {
      "cell_type": "code",
      "metadata": {
        "trusted": true,
        "_uuid": "8962803ca54fd89e956f5f5c081427676c75fc63",
        "id": "ALjdmQGp2FmV"
      },
      "source": [
        "tmp = df[['race']+ interests].groupby(['race']).mean().stack().unstack(0)\n",
        "ax = tmp.plot(kind='bar', figsize=(15,6),color='rgbmy')\n",
        "ax.set_xticklabels(ax.get_xticklabels(), fontsize=12, rotation=45)\n",
        "\n",
        "ax.set_title('Mean interest in activities, by race', fontsize=18)"
      ],
      "execution_count": null,
      "outputs": []
    },
    {
      "cell_type": "markdown",
      "metadata": {
        "_uuid": "dfd902393f7a5a685eed48b47cb15abc46b79f72",
        "id": "gHAdaG5L2FmV"
      },
      "source": [
        "* People like more doing sports and exercising than watching it on tv, white people in particular\n",
        "* Black people are not much into museums and art, but they do like music and clubbing\n",
        "* Asians like tv a lot, while Hispanics not so much, preferring activities like reading, or going to theaters and movies\n",
        "\n",
        "Every time I express myself in this way, I mean it as a description of this sample of participants, not of the population.\n",
        "\n",
        "## Expectations\n",
        "\n",
        "Another set of questions that can produce interesting answers are the one regarding the expectations of each participant"
      ]
    },
    {
      "cell_type": "code",
      "metadata": {
        "trusted": true,
        "_uuid": "bf518a7dd23f13785d935480f1572d04a352f4b7",
        "_kg_hide-input": true,
        "id": "cdzbfK762FmW"
      },
      "source": [
        "ax = df.exphappy.hist(bins=10, figsize=(12,8))\n",
        "ax.set_title('How happy do you expect to be?', fontsize=18)\n",
        "ax.set_xlabel('Happiness',fontsize=12)\n",
        "ax.set_ylabel('Count', fontsize=12)\n",
        "ax.grid(False)"
      ],
      "execution_count": null,
      "outputs": []
    },
    {
      "cell_type": "markdown",
      "metadata": {
        "_uuid": "7f060c04ab476882af63b0a9b3330db62b485231",
        "id": "oyqvv7Te2FmW"
      },
      "source": [
        "As we did several times already, let's try to find some differences between genders and races."
      ]
    },
    {
      "cell_type": "code",
      "metadata": {
        "_kg_hide-input": true,
        "trusted": true,
        "_uuid": "f5726fb7a9380cf4cbeb083a5c891e61681be74a",
        "id": "dEmQFydB2FmW"
      },
      "source": [
        "df[['gender', 'exphappy']].groupby(['gender']).agg(['mean', 'median', 'min', 'max', 'count'])"
      ],
      "execution_count": null,
      "outputs": []
    },
    {
      "cell_type": "code",
      "metadata": {
        "trusted": true,
        "_uuid": "f85056f3347f5b88c501281543ab2ad3eaab4ab0",
        "_kg_hide-input": true,
        "id": "qhhlNEOW2FmW"
      },
      "source": [
        "g = sns.FacetGrid(df, hue='gender', height = 6)\n",
        "g.map(plt.hist, 'exphappy', alpha= 0.7, bins=10)\n",
        "g.set_xlabels('Happiness', fontsize=12)\n",
        "plt.subplots_adjust(top=0.9)\n",
        "g.fig.suptitle('How happy do you expect to be? - by gender', fontsize=15)\n",
        "g.add_legend()"
      ],
      "execution_count": null,
      "outputs": []
    },
    {
      "cell_type": "markdown",
      "metadata": {
        "_uuid": "39da190a82c597f085a6ab169ea5b0ab4789fb5c",
        "id": "erXdIYXB2FmW"
      },
      "source": [
        "Males are more optimistic about the evening, while no significant differences can be observed if we split by race.\n",
        "\n",
        "The next question is: *Out of the 20 people you will meet, how many do you expect will be interested in dating you? *"
      ]
    },
    {
      "cell_type": "code",
      "metadata": {
        "trusted": true,
        "_uuid": "e6d7190b175ed373eaceab432606117e230ea5fc",
        "_kg_hide-input": true,
        "id": "AmxQGilq2FmW"
      },
      "source": [
        "ax = df.expnum.hist(bins=10, figsize=(12,8))\n",
        "ax.set_title('How many yes do you expect to receive?', fontsize=18)\n",
        "ax.set_xlabel('Num. of yes',fontsize=12)\n",
        "ax.set_ylabel('Count', fontsize=12)\n",
        "ax.grid(False)"
      ],
      "execution_count": null,
      "outputs": []
    },
    {
      "cell_type": "code",
      "metadata": {
        "_kg_hide-input": true,
        "trusted": true,
        "_uuid": "397193dc9e9304dd55121f3622a4d8e4e482c684",
        "id": "qU3Ss8jf2FmX"
      },
      "source": [
        "df[['gender', 'expnum']].groupby(['gender']).agg(['mean', 'median', 'min', 'max', 'count'])"
      ],
      "execution_count": null,
      "outputs": []
    },
    {
      "cell_type": "code",
      "metadata": {
        "trusted": true,
        "_uuid": "393e457aaf44554c207907e61666a9ce0b751821",
        "_kg_hide-input": true,
        "id": "yLSzzWIs2FmX"
      },
      "source": [
        "g = sns.FacetGrid(df, hue='gender', height = 6)\n",
        "g.map(plt.hist, 'expnum', alpha= 0.7, bins=20)\n",
        "g.set_xlabels('Num. of yes', fontsize=12)\n",
        "plt.subplots_adjust(top=0.9)\n",
        "g.fig.suptitle('How many yes do you expect to receive? - by gender', fontsize=15)\n",
        "g.add_legend()"
      ],
      "execution_count": null,
      "outputs": []
    },
    {
      "cell_type": "markdown",
      "metadata": {
        "_uuid": "23f7384540f6f110a36e860cf42fdc6272b26a16",
        "id": "J5nukYK02FmX"
      },
      "source": [
        "There is no much difference in the averages, but it is easy to notice that a much larger proportion of males are very very confident while Females are more common in expecting a 50/50 success rate. \n",
        "\n",
        "I find curious also how a very low expectation (0 or 1) is expressed differently across genders, with Females preferring to set 0 and Males setting 1.\n",
        "\n",
        "At last, in asking 500 people to rate an expecation from 1 to 20,  there are some values that are never picked, something that we might need to consider if we want to model on that."
      ]
    },
    {
      "cell_type": "code",
      "metadata": {
        "_kg_hide-input": true,
        "trusted": true,
        "_uuid": "3a4b599338f60e490ac2511f581500d4e7f4daa2",
        "id": "WxrG3Vu-2FmX"
      },
      "source": [
        "ax = df[['race', 'expnum']].groupby(['race']).mean().plot(kind='bar', figsize=(12,5), legend=False,\n",
        "                                               title='How many yes do you expect to receive? - by Race',\n",
        "                                                   color='rgbmy', ylim=(0,8))\n",
        "ax.set_xticklabels(ax.get_xticklabels(), fontsize=12, rotation='horizontal')\n",
        "ax.set_xlabel('', fontsize=1)\n",
        "\n",
        "for i in ax.patches:\n",
        "    ax.text(i.get_x()+0.19, i.get_height()+.1, \\\n",
        "            str(round((i.get_height()), 1)), fontsize=12)"
      ],
      "execution_count": null,
      "outputs": []
    },
    {
      "cell_type": "markdown",
      "metadata": {
        "_uuid": "133c58dd050e26b26d79ff00e95e5c66b96aa8cc",
        "id": "g-rjOvNk2FmY"
      },
      "source": [
        "This is a much evident difference in expectations across races, something that we couldn't quite observe in the expectation of happiness.\n",
        "\n",
        "All that being said, this question is not clear because each wave had a different number of partipants and it appears to be present only for the first 5 waves"
      ]
    },
    {
      "cell_type": "code",
      "metadata": {
        "trusted": true,
        "_uuid": "3dd5f0bda8595c1e2a619fcea227d9d8b506508d",
        "id": "r7A0Kd5D2FmY"
      },
      "source": [
        "df[['expnum', 'wave']].groupby('wave').sum()"
      ],
      "execution_count": null,
      "outputs": []
    },
    {
      "cell_type": "markdown",
      "metadata": {
        "_uuid": "3bdad8b93a4ea54d9bb3f92b55656aea20766c4a",
        "id": "jzdDzGiT2FmY"
      },
      "source": [
        "# Breaking the Waves\n",
        "\n",
        "As the last example showed us, there can be some differences in the way the data were collected across the waves. Moreover, the documentation already tells us that the participants could express their preferences using different scales in different waves (1- 10 or assign 100 points across various categories), or that in wave 12 they could say yes to only half of the people they met, or that sometimes they had to bring a book or a magazine. All these factors can influence our analysis and our models. \n",
        "\n",
        "We will explore some of these effects in this section."
      ]
    },
    {
      "cell_type": "code",
      "metadata": {
        "_kg_hide-input": true,
        "trusted": true,
        "_uuid": "68143062968c0d1e99b3dba1f475750e8b728d42",
        "id": "aqLkC2De2FmY"
      },
      "source": [
        " ax = df_full[['wave', 'match']].groupby('wave').mean().plot(kind='bar', legend=False, figsize=(15,5),\n",
        "                                                        ylim=(0,0.5))\n",
        "\n",
        "ax.set_xticklabels(ax.get_xticklabels(), fontsize=12, rotation='horizontal')\n",
        "ax.set_xlabel('Wave', fontsize=12)\n",
        "\n",
        "vals = ax.get_yticks()\n",
        "ax.set_yticklabels(['{:,.0%}'.format(x) for x in vals], fontsize=12)\n",
        "\n",
        "ax.set_title('Match Rate per wave', fontsize=18)\n",
        "\n",
        "for i in ax.patches:\n",
        "    ax.text(i.get_x(), i.get_height()+.01, \\\n",
        "            str(round((i.get_height())*100, 1))+'%', fontsize=12)"
      ],
      "execution_count": null,
      "outputs": []
    },
    {
      "cell_type": "code",
      "metadata": {
        "_kg_hide-input": true,
        "trusted": true,
        "_uuid": "d92b2359865a9457333da8bb04de8e06074829bb",
        "id": "JPkqKGac2FmY"
      },
      "source": [
        "ax = df_full[['wave', 'dec']].groupby('wave').mean().plot(kind='bar', legend=False, figsize=(15,5),\n",
        "                                                        ylim=(0,0.8))\n",
        "\n",
        "ax.set_xticklabels(ax.get_xticklabels(), fontsize=12, rotation='horizontal')\n",
        "ax.set_xlabel('Wave', fontsize=12)\n",
        "\n",
        "vals = ax.get_yticks()\n",
        "ax.set_yticklabels(['{:,.0%}'.format(x) for x in vals], fontsize=12)\n",
        "\n",
        "ax.set_title('Positive feedback rate per wave', fontsize=18)\n",
        "\n",
        "for i in ax.patches:\n",
        "    ax.text(i.get_x(), i.get_height()+.01, \\\n",
        "            str(round((i.get_height())*100, 1))+'%', fontsize=12)"
      ],
      "execution_count": null,
      "outputs": []
    },
    {
      "cell_type": "markdown",
      "metadata": {
        "_uuid": "c29a74e10d1b0a13791177827c5c664d927f1e90",
        "id": "ev5EQc5n2FmZ"
      },
      "source": [
        "We see that asking people to be more selective in wave 12 led to a lower match and positive feedback rate, but nothing that didn't happen in other waves as well. \n",
        "\n",
        "We can also see something happening in the waves were people were asked to bring a book or a magazine but drawing any conclusion about it would be premature and probably very wrong.\n",
        "\n",
        "The one thing that I want to understand is if I can compare the preference scores of waves 6 to 9 (every category on a scale from 1 to 10) with the ones of the other waves (assign 100 points in total)."
      ]
    },
    {
      "cell_type": "code",
      "metadata": {
        "trusted": true,
        "_uuid": "44be3eaeb9a5369a78b657a2ae2cad7678a2c9e0",
        "id": "libtMFiM2FmZ"
      },
      "source": [
        "you_look = [col for col in df_full.columns if '1_1' in col] # what you look for in the opposite sex\n",
        "other_look =  [col for col in df_full.columns if '4_1' in col] # you think other like you look for in the opposite sex\n",
        "opp_look = [col for col in df_full.columns if '2_1' in col] # you think the opposite sex look for in you\n",
        "you_score = [col for col in df_full.columns if '3_1' in col] # how do you score yourself\n",
        "they_score = [col for col in df_full.columns if '5_1' in col] # the others score you\n",
        "print(you_look)"
      ],
      "execution_count": null,
      "outputs": []
    },
    {
      "cell_type": "code",
      "metadata": {
        "_kg_hide-input": true,
        "_kg_hide-output": true,
        "trusted": true,
        "_uuid": "8e22f2124d07d338d70bdd2a812119474c9dc5d9",
        "id": "ExhDbhew2FmZ"
      },
      "source": [
        "tmp = df_full[['iid'] + you_look + other_look + opp_look + you_score + they_score].drop_duplicates()\n",
        "df = pd.merge(df, tmp, on='iid')\n",
        "df.head()"
      ],
      "execution_count": null,
      "outputs": []
    },
    {
      "cell_type": "code",
      "metadata": {
        "_kg_hide-input": false,
        "trusted": true,
        "_uuid": "955cb07c6868f461aa589af2a4d5d65e91961d52",
        "id": "-asO8i6e2FmZ"
      },
      "source": [
        "tmp_norm = df[(df.wave < 6) | (df.wave > 9)].copy()\n",
        "tmp_diff = df[(df.wave > 5) & (df.wave < 10)].copy()\n",
        "tmp_diff[['wave']+you_look+other_look].head(10)"
      ],
      "execution_count": null,
      "outputs": []
    },
    {
      "cell_type": "markdown",
      "metadata": {
        "_uuid": "a65566043f8d6ffd0daa76e15f109cc129fd47ef",
        "id": "5_17YaT32FmZ"
      },
      "source": [
        "In the above example, there is a respondent from wave 6 (thus that should score from 1 to 10 each category independently) that for some question had their scores converted to the other scale (assign 100 points to the categories) and some other questions were left intact. I am afraid I won't be able to use these questions or to use all the waves at the same time\n",
        "\n",
        "The following charts are thus describing any wave but the ones between the 6th and the 9th."
      ]
    },
    {
      "cell_type": "code",
      "metadata": {
        "trusted": true,
        "_uuid": "166f28c967fe786470774203330f022f22ea962b",
        "id": "1AWZX9UR2FmZ"
      },
      "source": [
        "tmp_norm[['wave']+you_look+other_look].sample(10)"
      ],
      "execution_count": null,
      "outputs": []
    },
    {
      "cell_type": "code",
      "metadata": {
        "_kg_hide-input": true,
        "trusted": true,
        "_uuid": "3c4ca95764ce259874ce48e703f9c6a7c87b529e",
        "id": "fkUmhbTv2Fma"
      },
      "source": [
        "num = len(you_look)\n",
        "rows = int(num/2) + (num % 2 > 0)\n",
        "fig, ax = plt.subplots(rows, 2, figsize=(15, 5 * (rows)))\n",
        "i = 0\n",
        "j = 0\n",
        "for feat in you_look:\n",
        "    tmp_norm[feat].hist(label=feat, ax=ax[i][j], bins=20)\n",
        "    ax[i][j].set_title(feat, fontsize=12)\n",
        "    ax[i][j].grid(False)\n",
        "    ax[i][j].set_xlim(0,100)\n",
        "    j = (j+1)%2\n",
        "    i = i + 1 - j\n",
        "\n",
        "plt.subplots_adjust(top=0.93)\n",
        "fig.suptitle('What do you look for in the opposite sex?', fontsize=18)"
      ],
      "execution_count": null,
      "outputs": []
    },
    {
      "cell_type": "code",
      "metadata": {
        "_kg_hide-input": true,
        "trusted": true,
        "_uuid": "067298a08cb9b0e768e6c84f923ae33259c20b2b",
        "id": "8CIugHwV2Fma"
      },
      "source": [
        "num = len(other_look)\n",
        "rows = int(num/2) + (num % 2 > 0)\n",
        "fig, ax = plt.subplots(rows, 2, figsize=(15, 5 * (rows)))\n",
        "i = 0\n",
        "j = 0\n",
        "for feat in other_look:\n",
        "    tmp_norm[feat].hist(label=feat, ax=ax[i][j], bins=20)\n",
        "    ax[i][j].set_title(feat, fontsize=12)\n",
        "    ax[i][j].grid(False)\n",
        "    ax[i][j].set_xlim(0,100)\n",
        "    j = (j+1)%2\n",
        "    i = i + 1 - j\n",
        "    \n",
        "plt.subplots_adjust(top=0.93)\n",
        "fig.suptitle('What you think MOST of your fellow men/women look for in the opposite sex?', fontsize=18)"
      ],
      "execution_count": null,
      "outputs": []
    },
    {
      "cell_type": "code",
      "metadata": {
        "_kg_hide-input": true,
        "trusted": true,
        "_uuid": "fd3fae53f72ef7259b11e309ba0494ea5826970c",
        "id": "xOW5T3XN2Fma"
      },
      "source": [
        "num = len(opp_look)\n",
        "rows = int(num/2) + (num % 2 > 0)\n",
        "fig, ax = plt.subplots(rows, 2, figsize=(15, 5 * (rows)))\n",
        "i = 0\n",
        "j = 0\n",
        "for feat in opp_look:\n",
        "    tmp_norm[feat].hist(label=feat, ax=ax[i][j], bins=20)\n",
        "    ax[i][j].set_title(feat, fontsize=12)\n",
        "    ax[i][j].grid(False)\n",
        "    ax[i][j].set_xlim(0,100)\n",
        "    j = (j+1)%2\n",
        "    i = i + 1 - j\n",
        "    \n",
        "plt.subplots_adjust(top=0.93)\n",
        "fig.suptitle('What do you think the opposite sex looks for in a date?', fontsize=18)"
      ],
      "execution_count": null,
      "outputs": []
    },
    {
      "cell_type": "markdown",
      "metadata": {
        "_uuid": "363c1790fe624d225306eb4653c6507296602eaf",
        "id": "WVo5IBra2Fma"
      },
      "source": [
        "A few things pop out:\n",
        "\n",
        "* People clearly rated attractiveness in the first place, then realized that they had to score up to a 100 and focused on very simple multiples of 5 and 10. This has to be taken into account if we want to model on that: these features are not continuous.\n",
        "* The participants look for all the categories more or less equally in general, but having shared interests and being ambitious are generally less important.\n",
        "* People generally think that attractiveness is as important as other things (with some exceptions) and also that everyone else (same gender and opposite gender) value this aspect much more.\n",
        "\n",
        "Let's then see how they score themselves and how they think they are perceived"
      ]
    },
    {
      "cell_type": "code",
      "metadata": {
        "trusted": true,
        "_uuid": "d8e333de81dbadf77a15e4f6fdaebf8ee56981d0",
        "_kg_hide-input": true,
        "id": "AxzctBeF2Fma"
      },
      "source": [
        "num = len(you_score)\n",
        "rows = int(num/2) + (num % 2 > 0)\n",
        "fig, ax = plt.subplots(rows, 2, figsize=(15, 5 * (rows)))\n",
        "i = 0\n",
        "j = 0\n",
        "for feat in you_score:\n",
        "    tmp_norm[feat].hist(label=feat, ax=ax[i][j], bins=10)\n",
        "    ax[i][j].set_title(feat, fontsize=12)\n",
        "    ax[i][j].grid(False)\n",
        "    j = (j+1)%2\n",
        "    i = i + 1 - j\n",
        "    \n",
        "plt.subplots_adjust(top=0.93)\n",
        "fig.suptitle('How do you think you measure up?', fontsize=18)"
      ],
      "execution_count": null,
      "outputs": []
    },
    {
      "cell_type": "code",
      "metadata": {
        "trusted": true,
        "_uuid": "954100cb631ff500bf2a2bc96f79b7011baa55f7",
        "_kg_hide-input": true,
        "id": "TFI-jtfl2Fma"
      },
      "source": [
        "num = len(they_score)\n",
        "rows = int(num/2) + (num % 2 > 0)\n",
        "fig, ax = plt.subplots(rows, 2, figsize=(15, 5 * (rows)))\n",
        "i = 0\n",
        "j = 0\n",
        "for feat in they_score:\n",
        "    tmp_norm[feat].hist(label=feat, ax=ax[i][j], bins=10)\n",
        "    ax[i][j].set_title(feat, fontsize=12)\n",
        "    ax[i][j].grid(False)\n",
        "    j = (j+1)%2\n",
        "    i = i + 1 - j\n",
        "    \n",
        "plt.subplots_adjust(top=0.93)\n",
        "fig.suptitle('How do you think others perceive you?', fontsize=18)"
      ],
      "execution_count": null,
      "outputs": []
    },
    {
      "cell_type": "markdown",
      "metadata": {
        "_uuid": "70d506cce219692cf5f6aa1143773f2d90d3c0bc",
        "id": "CHADpyPB2Fma"
      },
      "source": [
        "They are all **fairly confident**."
      ]
    },
    {
      "cell_type": "code",
      "metadata": {
        "_kg_hide-input": true,
        "trusted": true,
        "_uuid": "c537530daa0c85375a79430b564660d8e048fe95",
        "id": "2npk_itK2Fmb"
      },
      "source": [
        "corr = tmp_norm[you_look + other_look + opp_look + you_score + they_score].corr()\n",
        "plt.figure(figsize=(12,10))\n",
        "ax = sns.heatmap(corr, cmap='RdBu_r')\n",
        "ax.set_xticklabels(ax.get_xticklabels(), rotation=45)\n",
        "ax.set_title('Correlation between evaluations', fontsize=18)"
      ],
      "execution_count": null,
      "outputs": []
    },
    {
      "cell_type": "markdown",
      "metadata": {
        "_uuid": "2a7ee5ec42b2333e149ccbeddd14d9f85b389ec1",
        "id": "0Y80-T2y2Fmb"
      },
      "source": [
        "We indeed see that the scores they expect and how they measure themselves are very correlated, in particular on Attractive, Fun, and Intelligent. There is another correlation between the ways they think being fun or sharing interest is valued by their same gender and the opposite one. Opposite correlation between how they think other people value being attractive and the other categories, a correlation that becomes positive again if we look at how they think the two genders value this aspect.\n",
        "\n",
        "The questions we explored in the previous section were then repeated half-way through the session, right after the session, and weeks after it. However, no significant change can be observed.\n",
        "\n",
        "# Rating and deciding\n",
        "\n",
        "Before getting into the modeling, we can explore one more thing: how do we rate a partner that we like and how do we rate one that we don't?\n",
        "\n",
        "The participants were given a scorecard to fill at the end of each speed dating, communicating their decision, their rating about the other person, and their expectation. Let's see if we can spot some pattern in that.\n",
        "\n",
        "For this analysis, we have to use the original DataFrame and we will pretend that we are a little different every time we meet someone new (we are not, maybe we can pretend a bit) so that we suddenly have more than 8 thousands individuals."
      ]
    },
    {
      "cell_type": "code",
      "metadata": {
        "_kg_hide-input": true,
        "_kg_hide-output": true,
        "trusted": true,
        "_uuid": "f93e5b3575e04e345155667cbf472c594da11039",
        "id": "zMWFAPyF2Fmb"
      },
      "source": [
        "df = df_full[['iid', 'race', 'gender', 'field_cd', 'dec', 'match', 'int_corr', 'samerace', 'met',\n",
        "             'attr', 'sinc', 'intel', 'fun', 'amb', 'shar', 'like', 'prob']].copy()\n",
        "df.head(5)"
      ],
      "execution_count": null,
      "outputs": []
    },
    {
      "cell_type": "code",
      "metadata": {
        "_kg_hide-input": true,
        "trusted": true,
        "_uuid": "f44ec20b990785a02d41387661822c59ade33fe7",
        "id": "JjXiAIwA2Fmb"
      },
      "source": [
        "tmp = df[['dec', 'attr', 'sinc', 'intel', 'fun', 'amb', 'shar', 'like', 'prob']].groupby('dec').mean().stack().unstack(0)\n",
        "tmp = tmp.rename(columns={0: 'No', 1: 'Yes'})\n",
        "ax = tmp.plot(kind='bar', figsize=(12,6), ylim=(0,10))\n",
        "ax.set_xticklabels(ax.get_xticklabels(), fontsize=12, rotation='horizontal')\n",
        "\n",
        "ax.set_title('How do you rate your partner?', fontsize=18)\n",
        "ax.set_ylabel('Mean score', fontsize=12)\n",
        "\n",
        "for i in ax.patches:\n",
        "    ax.text(i.get_x()+.02, i.get_height()+0.2, \\\n",
        "            str(round((i.get_height()), 1)), fontsize=10)"
      ],
      "execution_count": null,
      "outputs": []
    },
    {
      "cell_type": "code",
      "metadata": {
        "_kg_hide-input": true,
        "trusted": true,
        "_uuid": "6290eeeba64ea52be986b0f41d6b30e992715413",
        "id": "OpXivo9g2Fmb"
      },
      "source": [
        "feats = ['attr', 'sinc', 'intel', 'fun', 'amb', 'shar', 'like', 'prob']\n",
        "\n",
        "num = len(feats)\n",
        "rows = int(num/2) + (num % 2 > 0)\n",
        "fig, ax = plt.subplots(rows, 2, figsize=(15, 5 * (rows)))\n",
        "i = 0\n",
        "j = 0\n",
        "for feat in feats:\n",
        "    df[df.dec==0][feat].hist(label='No', ax=ax[i][j], bins=10, alpha=0.7)\n",
        "    df[df.dec==1][feat].hist(label='Yes', ax=ax[i][j], bins=10, alpha=0.7)\n",
        "    ax[i][j].set_title(feat, fontsize=12)\n",
        "    ax[i][j].grid(False)\n",
        "    ax[i][j].legend()\n",
        "    j = (j+1)%2\n",
        "    i = i + 1 - j\n",
        "    \n",
        "plt.subplots_adjust(top=0.93)\n",
        "fig.suptitle('How do you rate your partner?', fontsize=18)"
      ],
      "execution_count": null,
      "outputs": []
    },
    {
      "cell_type": "code",
      "metadata": {
        "_kg_hide-input": true,
        "trusted": true,
        "_uuid": "fd646b26298908775c3f0738f00f4c1746d8f957",
        "id": "rIb-Wksa2Fmb"
      },
      "source": [
        "corr_m = df[df.dec==0][feats].corr()\n",
        "corr_f = df[df.dec==1][feats].corr()\n",
        "\n",
        "fig, ax= plt.subplots(1,2, figsize=(15, 6))\n",
        "sns.heatmap(corr_m, cmap='RdBu_r', ax=ax[0])\n",
        "sns.heatmap(corr_f, cmap='RdBu_r', ax=ax[1])\n",
        "\n",
        "ax[0].set_title('No', fontsize=15)\n",
        "ax[1].set_title('Yes', fontsize=15)"
      ],
      "execution_count": null,
      "outputs": []
    },
    {
      "cell_type": "markdown",
      "metadata": {
        "trusted": true,
        "_uuid": "d62e90c3104aca56babeacce9e16f281c34f543d",
        "id": "gNUoZqRR2Fmb"
      },
      "source": [
        "As expected, higher rates lead to positive decisions, with the higher gaps in Attractive, and 'How much do you like them' (coincidentally it is also the same gap). We also notice, however, that positive feedback can arrive even if the score in some categories is very low, with the exception of Intelligence, where there is a minimum of 3 to get positive feedback. \n",
        "\n",
        "It looks like being Fun is making quite the difference in the decision, while being Sincere looks not influential.\n",
        "\n",
        "Looking at the correlations: \n",
        "* it seems that the negative correlation between Attractive and Sincere or Intelligent (which are always positively correlated) is getting milder when the decision is positive (although the causal link can easily go in the opposite direction). \n",
        "* interesting to see how rating a person as ambitious or attractive is reducing the expectations of the participants about being liked by them. Not so confident after all.\n",
        "* when the decision is negative we can observe a positive correlation between the Like score and the Fun one that is not observed in cases of positive feedback (a fancy way of saying \"I like you as a friend\"?)\n",
        "\n",
        "Interestingly, the relation between higher ratings and being of the same race is not observed, not necessarily in contrast with what was discussed before. In other words, although we observed that dates between people of the same race were having a higher rate of positive feedback and we observed that positive feedback comes with generally higher grades, we can't say that people are giving to partners of the same race higher grades. **Being of the same race is expected to be a big factor in predicting the individual decisions**."
      ]
    },
    {
      "cell_type": "code",
      "metadata": {
        "trusted": true,
        "_uuid": "06ce3cd90f78c9742f706ee624b10eabb026d599",
        "_kg_hide-input": true,
        "id": "eiq4oIXx2Fmc"
      },
      "source": [
        "feats = ['attr', 'sinc', 'intel', 'fun', 'amb', 'shar', 'like', 'prob']\n",
        "\n",
        "num = len(feats)\n",
        "rows = int(num/2) + (num % 2 > 0)\n",
        "fig, ax = plt.subplots(rows, 2, figsize=(15, 5 * (rows)))\n",
        "i = 0\n",
        "j = 0\n",
        "for feat in feats:\n",
        "    df[df.samerace==0][feat].hist(label='Different race', ax=ax[i][j], bins=10, alpha=0.7)\n",
        "    df[df.samerace==1][feat].hist(label='Same Race', ax=ax[i][j], bins=10, alpha=0.7)\n",
        "    ax[i][j].set_title(feat, fontsize=12)\n",
        "    ax[i][j].grid(False)\n",
        "    ax[i][j].legend()\n",
        "    j = (j+1)%2\n",
        "    i = i + 1 - j\n",
        "    \n",
        "plt.subplots_adjust(top=0.93)\n",
        "fig.suptitle('How do you rate your partner?', fontsize=18)"
      ],
      "execution_count": null,
      "outputs": []
    },
    {
      "cell_type": "markdown",
      "metadata": {
        "trusted": false,
        "_uuid": "93eaf110f68481e46af95b61e5e4a1e163345882",
        "id": "WBHtWFmJ2Fmc"
      },
      "source": [
        "# Machines can love too\n",
        "\n",
        "We have seen times and times again that some patterns are hiding in these data and the machine learning enthusiast in all of us is now jumping around speaking about boosting, forests, and soul mates. After so much talking and staring at histograms we deserve some time staring at some machine learning the rules of love.\n",
        "\n",
        "The goal of this section is to predict the decision of a participant after 4 minutes of date. We thus don't need everything that was answered *after* the decision since it is not in causal relation with our target.\n",
        "\n",
        "We have already encountered a few mistakes in the data entries and a few missing values. We need to take care of that first.\n",
        "\n",
        "## Machines don't like it dirty\n",
        "\n",
        "This is the list of missing values. (hidden because too long, feel free to read it)"
      ]
    },
    {
      "cell_type": "code",
      "metadata": {
        "trusted": true,
        "_uuid": "043475d21a8d7e79785f21ade06847e052e531a7",
        "_kg_hide-input": true,
        "_kg_hide-output": true,
        "id": "DmVHSb542Fmc"
      },
      "source": [
        "cols = df_full.columns\n",
        "for col in cols:\n",
        "    mis = df_full[col].isnull().sum()\n",
        "    if mis > 0:\n",
        "        print(\"{}: {} missing, {}%\".format(col, mis, round(mis/df_full.shape[0] * 100, 3)))"
      ],
      "execution_count": null,
      "outputs": []
    },
    {
      "cell_type": "markdown",
      "metadata": {
        "_uuid": "c348f96ba8b8af0f17a9843e78aa5e844c7e9713",
        "id": "BVan7xmV2Fmc"
      },
      "source": [
        "Not as little as we might have hoped. Luckily, we don't need them all. We start dropping the ones referring to questions asked after the decision was taken."
      ]
    },
    {
      "cell_type": "code",
      "metadata": {
        "_kg_hide-input": true,
        "trusted": true,
        "_uuid": "f8e84c06cbd8f41014f7eada7c8746a74bc65f56",
        "id": "vJ6M1yhA2Fmc"
      },
      "source": [
        "to_drop = []\n",
        "tmp = [col for col in df_full.columns if '1_s' in col or '3_s' in col] # asked mid session, not clear when so we drop it\n",
        "to_drop += tmp\n",
        "tmp = [col for col in df_full.columns if '_2' in col]  # asked after the session\n",
        "tmp += ['length']\n",
        "to_drop += tmp\n",
        "tmp = [col for col in df_full.columns if '_3' in col]  # asked after the session\n",
        "tmp += ['you_call', 'them_cal']\n",
        "to_drop += tmp\n",
        "\n",
        "print(f\"Original shape: {df_full.shape}\")\n",
        "print(f\"Dropping {len(to_drop)} columns\")\n",
        "\n",
        "for col in to_drop:\n",
        "    del df_full[col]\n",
        "    \n",
        "print(f\"New shape: {df_full.shape}\")"
      ],
      "execution_count": null,
      "outputs": []
    },
    {
      "cell_type": "markdown",
      "metadata": {
        "_uuid": "c5bc49924ea00172f1f6ab6b4101f3348debbf0c",
        "id": "OAqvt_sD2Fmc"
      },
      "source": [
        "Next, we drop columns that should not have any effect on the decision of an individual (like the unknown decision of their partner). We keep only how much the partner liked the participant since it can influence the decision (a *like to be liked* situation). We let the model decide if it is relevant or not."
      ]
    },
    {
      "cell_type": "code",
      "metadata": {
        "_kg_hide-input": true,
        "trusted": true,
        "_uuid": "eb3f43920ed72b5fe74b480574672385561b22b7",
        "id": "uEBcz30O2Fmd"
      },
      "source": [
        "to_drop = ['dec_o', 'match']\n",
        "print(f\"Original shape: {df_full.shape}\")\n",
        "print(f\"Dropping {len(to_drop)} columns\")\n",
        "\n",
        "for col in to_drop:\n",
        "    del df_full[col]\n",
        "    \n",
        "print(f\"New shape: {df_full.shape}\")"
      ],
      "execution_count": null,
      "outputs": []
    },
    {
      "cell_type": "markdown",
      "metadata": {
        "_uuid": "3f95d4b2f825ef08a0f833f79e47cdb195a36e84",
        "id": "OOk0wJSU2Fmd"
      },
      "source": [
        "We then drop everything that is missing quite consistently and does not refer to the partner."
      ]
    },
    {
      "cell_type": "code",
      "metadata": {
        "trusted": true,
        "_uuid": "df1100fc23b4446e6d7c9e38ae69850a0575204b",
        "_kg_hide-input": true,
        "id": "8ui7458W2Fmd"
      },
      "source": [
        "to_drop = ['positin1', 'undergra', 'mn_sat', 'tuition', 'zipcode', 'income', 'expnum', 'match_es']\n",
        "to_drop += [col for col in df_full.columns if '5_1' in col or '4_1' in col]  # sadly, not asked to everyone\n",
        "\n",
        "print(f\"Original shape: {df_full.shape}\")\n",
        "print(f\"Dropping {len(to_drop)} columns\")\n",
        "\n",
        "for col in to_drop:\n",
        "    del df_full[col]\n",
        "    \n",
        "print(f\"New shape: {df_full.shape}\")"
      ],
      "execution_count": null,
      "outputs": []
    },
    {
      "cell_type": "markdown",
      "metadata": {
        "_uuid": "90aee48e7584873b5c975f93216070adc6ca7061",
        "id": "pP_Zg0GR2Fmd"
      },
      "source": [
        "Looking at the remaining missing values, it looks like we have mainly 3 situations:\n",
        "\n",
        "* missing entries about a participant (like age, etc.) in some or every date\n",
        "* missing entries about a partner in some or every date\n",
        "* missing evaluation about a date\n",
        "\n",
        "Since we know who the partners are, we can try to fill the missing entries about participants and partner by using the values we have for other dates (this assumes that those values are the same for every date, which is reasonable). \n",
        "\n",
        "We have a problem with a missing partner id in wave 5. A quick inspection reveals that we have 10 males meeting 10 females but only 9 females meeting 10 males. In other words, there is a missing female and we have no way to know who that person is. Since our prediction wants to be based on who your partner is and for these dates this information is missing, we drop these 9 dates"
      ]
    },
    {
      "cell_type": "code",
      "metadata": {
        "_kg_hide-input": true,
        "trusted": true,
        "_uuid": "d65ef994ec66ad5ee7b437bdeecd7c0fc29354b1",
        "id": "RS4T6NX02Fmd"
      },
      "source": [
        "print('Unique id\\'s in original dataframe: {}'.format(len(df_full.iid.unique())))\n",
        "df_full = df_full[df_full.pid.notnull()].copy()  # dropping the missing female's dates.\n",
        "print('Shape original dataframe: {}'.format(df_full.shape))\n",
        "personal = ['gender', 'age', 'field', 'field_cd', 'race', 'imprace', 'imprelig', \n",
        "       'goal', 'date', 'go_out', 'career',\n",
        "       'career_c', 'sports', 'tvsports', 'exercise', 'dining', 'museums',\n",
        "       'art', 'hiking', 'gaming', 'clubbing', 'reading', 'tv', 'theater',\n",
        "       'movies', 'concerts', 'music', 'shopping', 'yoga', 'exphappy']\n",
        "personal += [col for col in df_full.columns if '1_1' in col]\n",
        "print('_'*40)\n",
        "print('_'*40)\n",
        "\n",
        "participant = df_full[['iid', 'wave'] + personal].drop_duplicates().copy()\n",
        "print('Unique id\\'s in participants\\' dataframe: {}'.format(len(participant.iid.unique())))\n",
        "print('Shape participants\\' dataframe: {}'.format(participant.shape))\n",
        "print('_'*40)\n",
        "print('Missing values about participants:')\n",
        "cols = participant.columns\n",
        "for col in cols:\n",
        "    mis = participant[col].isnull().sum()\n",
        "    if mis > 0:\n",
        "        print(\"{}: {} missing, {}%\".format(col, mis, round(mis/participant.shape[0] * 100, 3)))\n",
        "print('_'*40)\n",
        "print('_'*40)\n",
        "\n",
        "personal_o = ['age_o','race_o','pf_o_att','pf_o_sin','pf_o_int','pf_o_fun','pf_o_amb','pf_o_sha']\n",
        "partner = df_full[['pid', 'wave'] + personal_o].drop_duplicates().copy()\n",
        "print('Unique id\\'s in partners\\' dataframe: {}'.format(len(partner.pid.unique())))\n",
        "print('Shape partners\\' dataframe: {}'.format(partner.shape))\n",
        "print('_'*40)\n",
        "print('Missing values about partners:')\n",
        "cols = partner.columns\n",
        "for col in cols:\n",
        "    mis = partner[col].isnull().sum()\n",
        "    if mis > 0:\n",
        "        print(\"{}: {} missing, {}%\".format(col, mis, round(mis/partner.shape[0] * 100, 3)))"
      ],
      "execution_count": null,
      "outputs": []
    },
    {
      "cell_type": "markdown",
      "metadata": {
        "_uuid": "a5bca235271f714c4322206677fc4734c8398bc7",
        "id": "k80roqY_2Fmd"
      },
      "source": [
        "A quick inspection reveals that in both groups (participants and partners) the missing values are consistently missing for the same individuals over and over. This is a pity for our imputation but makes our job much easier: we drop these individuals."
      ]
    },
    {
      "cell_type": "code",
      "metadata": {
        "trusted": true,
        "_uuid": "cdc7139bb5da6aa39a6ad7c1ac1a9e0ebdcfe2b0",
        "_kg_hide-input": true,
        "id": "4Pan_8hh2Fmd"
      },
      "source": [
        "col_to_filt = ['age', 'race']\n",
        "mis_id = []\n",
        "\n",
        "for col in col_to_filt:\n",
        "    mis_id = list(set(mis_id + list(participant[participant[col].isna()].iid.values)))\n",
        "    mis_id = list(set(mis_id + list(partner[partner[col + '_o'].isna()].pid.values)))\n",
        "\n",
        "print(f'Original number of participants: {participant.shape[0]}')\n",
        "\n",
        "mis_id += [28] # another respondent with a lot of missing values\n",
        "participant = participant[~participant.iid.isin(mis_id)]\n",
        "partner = partner[~partner.pid.isin(mis_id)]\n",
        "\n",
        "print(f\"Dropping {len(mis_id)} participants\")\n",
        "print(f\"New number of participants: {participant.shape[0]}\")"
      ],
      "execution_count": null,
      "outputs": []
    },
    {
      "cell_type": "code",
      "metadata": {
        "_kg_hide-input": true,
        "trusted": true,
        "_uuid": "ec64a7c06a2f4a61496fdf994f522c561674374f",
        "id": "UbjS6IeG2Fme"
      },
      "source": [
        "print(f'Original shape of the dataframe: {df_full.shape}')\n",
        "df_clean = df_full[~(df_full.iid.isin(mis_id) | df_full.pid.isin(mis_id))].copy()\n",
        "del df_clean['id']  # not useful\n",
        "del df_clean['field']  # redundant with field_cd\n",
        "del df_clean['career']\n",
        "del df_clean['career_c']  # both not explored and I am lazy\n",
        "del df_clean['from']\n",
        "del df_clean['partner']  # this is an id, never train on those\n",
        "\n",
        "print(f'Shape of the cleaned data: {df_clean.shape}')"
      ],
      "execution_count": null,
      "outputs": []
    },
    {
      "cell_type": "code",
      "metadata": {
        "trusted": true,
        "_uuid": "18cdf4c12b409ae381aca10a07ff10f1597fc27f",
        "id": "luNFsrCu2Fme"
      },
      "source": [
        "df_clean.loc[df_clean.field_cd.isna(), 'field_cd'] = 'Oth.'  # easy cleaning"
      ],
      "execution_count": null,
      "outputs": []
    },
    {
      "cell_type": "markdown",
      "metadata": {
        "trusted": true,
        "_uuid": "b0335b03609810f4400e68385d949b4a05ad0a14",
        "id": "JugM37DZ2Fme"
      },
      "source": [
        "A little bit of a butchery rather than a cleaning, but it involves only a few participants and any other approach would have been more invasive.\n",
        "\n",
        "The remaining missing values regarding who the participants are (thus not their evaluation of the dates) will be kept as simple as possible. To avoid information leakage and keep our cross-validation trustable, we will impute the missing values inside of the pipeline.\n",
        "\n",
        "Let's move on to the date-related missing values.\n",
        "\n",
        "The first one is `met` which should take values 1 and 2 for No/Yes answers but it looks fairly inconsistent with the documentation or with the counterpart `met_o`. Using one feature to impute the other is pointless since they do not necessarily have to agree. We can simply impute the missing values with 0 and adjust the columns so that they respect the documentation.\n",
        "\n",
        "Other small mistakes were found in other columns, we correct those too"
      ]
    },
    {
      "cell_type": "code",
      "metadata": {
        "_kg_hide-input": false,
        "trusted": true,
        "_uuid": "6613768c60265d8ae7ee74e3ae472ce60b8053bb",
        "id": "_kn-yFY_2Fme"
      },
      "source": [
        "df_clean.loc[df_clean.met.isna(), 'met'] = 0\n",
        "df_clean.loc[df_clean.met_o.isna(), 'met_o'] = 0\n",
        "\n",
        "df_clean.loc[df_clean.met < 2, 'met'] = 0\n",
        "df_clean.loc[df_clean.met_o < 2, 'met_o'] = 0\n",
        "df_clean.loc[df_clean.met > 1, 'met'] = 1\n",
        "df_clean.loc[df_clean.met_o > 1, 'met_o'] = 1\n",
        "\n",
        "df_clean.loc[df_clean.gaming > 10, 'gaming'] = 10\n",
        "df_clean.loc[df_clean.reading > 10, 'reading'] = 10"
      ],
      "execution_count": null,
      "outputs": []
    },
    {
      "cell_type": "markdown",
      "metadata": {
        "_uuid": "ddabf782b7bf1bb7a5325b283807410fc3e490f3",
        "id": "mK2DUtnX2Fme"
      },
      "source": [
        "At last, in `field_cd` some entries are very unfrequent, even less than the *Other* category. We can group them all under *Other*."
      ]
    },
    {
      "cell_type": "code",
      "metadata": {
        "trusted": true,
        "_uuid": "b71e9ea12bfa89f78db7c12835dc57b2323aa8a9",
        "_kg_hide-input": false,
        "id": "yZ-VawXx2Fme"
      },
      "source": [
        "sprs = ['Und.', 'Arch.', 'Lang.']\n",
        "\n",
        "df_clean.loc[df.field_cd.isin(sprs), 'field_cd'] = 'Oth.'"
      ],
      "execution_count": null,
      "outputs": []
    },
    {
      "cell_type": "markdown",
      "metadata": {
        "_uuid": "e65e2707afa12f73e49c122001f6a7896a23d73f",
        "id": "-J7JoM_p2Fmf"
      },
      "source": [
        "## No one forgets the first time\n",
        "\n",
        "*That one time, in the forest, it was magical*\n",
        "\n",
        "In previous versions of this kernel, I had some experiments going on, namely:\n",
        "\n",
        "* A RandomForest on the data as they are, which didn't go that bad\n",
        "* A lot of feature engineering in order to add information about the partner of each date\n",
        "* Noticing that the forest was learning the data perfectly in every fold\n",
        "* Failing in regularizing the Forest appropriately so that the variance of the model can be reduced\n",
        "* Using XGBoost to have a model that not only performs better but also looks like it is not learning the training data perfectly\n",
        "* Using a Forest to select the features and XGBoost to predict, all in the same pipeline to avoid information leak\n",
        "\n",
        "All of this was done with the goal of getting a better score and I got to the conclusion that the main issue was that all the models needed more observations to learn, something not really doable. Moreover, I got up to a humble 85% of accuracy and I have to admit that, besides noticing from the learning curves that with way more data I can realistically get to around 90%, I have no way of knowing if it is a *good enough* result.\n",
        "\n",
        "With these lessons in mind, I think it is more interesting to look at the problem from a different perspective. The question I want to answer to is then: **What can a machine learn if we vary the type of information available?**\n",
        "\n",
        "Put differently, I want to see how the models change if we have\n",
        "\n",
        "* Only information about the participant\n",
        "* Only information about the partner\n",
        "* Information about both\n",
        "\n",
        "In all of these, we will try to see what signal the machine is picking up and spend some time interpreting it\n",
        "\n",
        "## Participants and partners, engineering some features\n",
        "\n",
        "In this section, we will prepare the data to make the experiments as clean as possible. The code will be hidden because nobody likes to see the code at a first read but what you will find in it is:\n",
        "\n",
        "* libraries\n",
        "* helper functions\n",
        "* feature selection for the individual models\n",
        "\n",
        "The feature engineering part won't be hidden because I want to explain the process as much as I can and **I need your feedback**"
      ]
    },
    {
      "cell_type": "code",
      "metadata": {
        "_kg_hide-input": true,
        "trusted": true,
        "_uuid": "9296bdccdce47dd61d858588358d1c457469e82e",
        "id": "MCv9Iagv2Fmf"
      },
      "source": [
        "from sklearn.impute import SimpleImputer\n",
        "from sklearn.pipeline import Pipeline\n",
        "\n",
        "from sklearn.model_selection import KFold, GridSearchCV, cross_val_predict\n",
        "from sklearn.model_selection import learning_curve\n",
        "\n",
        "from sklearn.metrics import confusion_matrix, classification_report\n",
        "\n",
        "from sklearn.ensemble import RandomForestClassifier\n",
        "from xgboost import XGBClassifier\n",
        "\n",
        "from itertools import product "
      ],
      "execution_count": null,
      "outputs": []
    },
    {
      "cell_type": "code",
      "metadata": {
        "_kg_hide-input": true,
        "trusted": true,
        "_uuid": "a2880d9f796e6cb34832890b2f3d6da441329e67",
        "id": "cvBpBZBS2Fmf"
      },
      "source": [
        "# here some useful functions\n",
        "\n",
        "def pretty_grid(model, param_grid, train, target, scoring, cv=5, n_jobs=1, verbose=False):\n",
        "    grid = GridSearchCV(model, param_grid=param_grid, \n",
        "                        cv=cv, n_jobs=n_jobs, scoring=scoring,\n",
        "                       return_train_score=True)\n",
        "    grid.fit(train, target)\n",
        "    best_model = grid.best_estimator_\n",
        "    print(best_model)\n",
        "    print(\"_\"*40)\n",
        "    print(pd.DataFrame(grid.cv_results_)[['params', \n",
        "                           'mean_test_score', 'std_test_score']].loc[grid.best_index_])\n",
        "    if verbose:\n",
        "        print(\"_\"*40)\n",
        "        print(pd.DataFrame(grid.cv_results_)[['params','mean_test_score','std_test_score']])\n",
        "    return best_model\n",
        "\n",
        "def pretty_confusion(model, train, target, cv=5):\n",
        "    prediction = cross_val_predict(model, train, target, cv=cv)\n",
        "    print(classification_report(target, prediction))\n",
        "    cm = confusion_matrix(target, prediction)\n",
        "\n",
        "    cmap = plt.cm.Blues\n",
        "    classes = [0,1]\n",
        "    thresh = cm.max() / 2.\n",
        "    fmt = 'd'\n",
        "\n",
        "    plt.imshow(cm, interpolation='nearest', cmap=cmap)\n",
        "    plt.colorbar()\n",
        "    tick_marks = np.arange(len(classes))\n",
        "    plt.xticks(tick_marks, classes, rotation=45)\n",
        "    plt.yticks(tick_marks, classes)\n",
        "    plt.tight_layout()\n",
        "    plt.ylabel('True label')\n",
        "    plt.xlabel('Predicted label')\n",
        "    for i, j in product(range(cm.shape[0]), range(cm.shape[1])):\n",
        "        plt.text(j, i, format(cm[i, j], fmt),\n",
        "                 horizontalalignment=\"center\",\n",
        "                 color=\"white\" if cm[i, j] > thresh else \"black\")\n",
        "        \n",
        "def get_feature_importance(clsf, ftrs):\n",
        "    imp = clsf.steps[-1][1].feature_importances_.tolist() #it's a pipeline\n",
        "    feats = ftrs\n",
        "    result = pd.DataFrame({'feat':feats,'score':imp})\n",
        "    result = result.sort_values(by=['score'],ascending=False)\n",
        "    return result\n",
        "\n",
        "def learning_print(estimator, train, label, folds):\n",
        "    \"\"\"\n",
        "    estimator: an estimator\n",
        "    train: set with input data\n",
        "    label: target variable\n",
        "    folds: cross validation\n",
        "    \"\"\"\n",
        "    train_sizes = np.arange(0.1, 1, 0.05)\n",
        "    train_sizes, train_scores, validation_scores = learning_curve(\n",
        "                                                   estimator = estimator, X = train,\n",
        "                                                   y = label, train_sizes = train_sizes, cv = folds,\n",
        "                                                   scoring = 'accuracy')\n",
        "    train_scores_mean = np.mean(train_scores, axis=1)\n",
        "    train_scores_std = np.std(train_scores, axis=1)\n",
        "    validation_scores_mean = np.mean(validation_scores, axis=1)\n",
        "    validation_scores_std = np.std(validation_scores, axis=1)\n",
        "    fig, (ax1,ax2) = plt.subplots(1, 2, figsize=(12, 5))\n",
        "    ax1.plot(train_sizes, train_scores_mean, label = 'Training accuracy')\n",
        "    ax1.plot(train_sizes, validation_scores_mean, label = 'Validation accuracy')\n",
        "    ax2.plot(train_sizes, train_scores_std, label = 'Training std')\n",
        "    ax2.plot(train_sizes, validation_scores_std, label = 'Validation std')\n",
        "    ax1.legend()\n",
        "    ax2.legend()"
      ],
      "execution_count": null,
      "outputs": []
    },
    {
      "cell_type": "code",
      "metadata": {
        "_kg_hide-input": true,
        "trusted": true,
        "_uuid": "2689992b9a3e004c3109faa22ce53c7673cf24e6",
        "id": "RMfWBG6x2Fmf"
      },
      "source": [
        "# Things we are going to need all the time\n",
        "\n",
        "kfolds = KFold(n_splits=5, shuffle=True, random_state=14)\n",
        "\n",
        "imputer = ('imputer', SimpleImputer())"
      ],
      "execution_count": null,
      "outputs": []
    },
    {
      "cell_type": "markdown",
      "metadata": {
        "_kg_hide-input": true,
        "_uuid": "141d75986f60f61e3dd979d8a72d094677a29799",
        "id": "kVnXJdNF2Fmf"
      },
      "source": [
        "So far, we have not many features regarding the partners but mostly from characteristics of the participant. We thus need to do some manipulations in order to get the model learn from that too. The following cell takes care of adding some information about the partner for each date by simply looking it up (every `iid` / `pid` couple is present twice in the DataFrame)"
      ]
    },
    {
      "cell_type": "code",
      "metadata": {
        "trusted": true,
        "_uuid": "8398850f127b02020500bd944b49a47d62604b97",
        "id": "GVzpBlNb2Fmg"
      },
      "source": [
        "prtn_cols = ['field_cd', 'imprace', 'imprelig', 'goal',\n",
        "       'date', 'go_out', 'sports', 'tvsports', 'exercise', 'dining', 'museums',\n",
        "       'art', 'hiking', 'gaming', 'clubbing', 'reading', 'tv', 'theater',\n",
        "       'movies', 'concerts', 'music', 'shopping', 'yoga']\n",
        "\n",
        "tmp = df_clean[['iid', 'pid']+ prtn_cols].copy()\n",
        "tmp = tmp.rename(columns={'iid' : 'pid', 'pid': 'iid'}) # reversing iid and pid in the temporary frame\n",
        "\n",
        "renaming = {col : col+'_o' for col in prtn_cols} \n",
        "tmp = tmp.rename(columns=renaming)\n",
        "\n",
        "df_clean = pd.merge(df_clean, tmp, on=['iid', 'pid'])\n",
        "\n",
        "del tmp\n",
        "\n",
        "# checking it went well\n",
        "df_clean[((df_clean.iid == 1) & (df_clean.pid == 11)) | \n",
        "         ((df_clean.iid == 11) & (df_clean.pid == 1))][['iid', 'pid', 'gender', 'museums', 'field_cd', 'museums_o', 'field_cd_o']]"
      ],
      "execution_count": null,
      "outputs": []
    },
    {
      "cell_type": "markdown",
      "metadata": {
        "_uuid": "76f326aac6b28b83c68f8a366a893d87a02aeac7",
        "id": "zs6Hdcsd2Fmg"
      },
      "source": [
        "As we see on a (not so random, being the first of the list) date, we have the correct informations about the partner too.\n",
        "\n",
        "The next issue is actually a cleaning issue: the evaluations on how much the participants value some characteristics are not uniformily gathered across the waves. We can either drop those features or drop those waves. Since, looking at the learning curves, it seems that the learning would not benefit from a decrease of data points, we could remove the problematic features. Unfortunately, the model drops in performance a lot if we do so. \n",
        "\n",
        "Another solution is to flag each wave with its peculiarity"
      ]
    },
    {
      "cell_type": "code",
      "metadata": {
        "trusted": true,
        "_uuid": "af6f7c60468e59d1fd76eb87689c70dc640a8ad6",
        "id": "4Ha0wsl-2Fmg"
      },
      "source": [
        "# waves where the points were given differently\n",
        "df_clean['vote_differently'] = 0\n",
        "df_clean.loc[(df_clean.wave > 5) & (df_clean.wave < 10), 'vote_differently'] = 1\n",
        "\n",
        "# wave where they could chose only 50%\n",
        "df_clean['on_a_budget'] = 0\n",
        "df_clean.loc[df_clean.wave == 12, 'on_a_budget'] = 1\n",
        "\n",
        "# waves where they were asked to come with a magazine\n",
        "df_clean['with_magazine'] = 0\n",
        "df_clean.loc[(df_clean.wave == 18) | (df_clean.wave == 21), 'with_magazine'] = 1\n",
        "\n",
        "# waves where they were asked to come with a book\n",
        "df_clean['with_book'] = 0\n",
        "df_clean.loc[(df_clean.wave == 19) | (df_clean.wave == 20), 'with_book'] = 1"
      ],
      "execution_count": null,
      "outputs": []
    },
    {
      "cell_type": "markdown",
      "metadata": {
        "_uuid": "5ec6600eb8df066e988f1eff3422e51a614aca04",
        "id": "zEUTn7za2Fmg"
      },
      "source": [
        "Now, since we have all the information we want we can ask ourselves *how relevant can be, in general, liking sports to decide whether or not we want to date someone?* \n",
        "\n",
        "The models will try answer this question. However, I can't help but thinking that it does not matter how much you like something but rather **how much you and your partner share that opinion**. In other words, it might not be relevan *in general*, but it can be relevant in a specific case. For this reason, the next set of features is taking care of describing this situation."
      ]
    },
    {
      "cell_type": "code",
      "metadata": {
        "trusted": true,
        "_uuid": "bfda7204a16eedd018acabc13ca8d3b7e9ce4a3d",
        "id": "UpvKk3102Fmg"
      },
      "source": [
        "for col in interests:\n",
        "    # difference in opinion about an interest\n",
        "    df_clean[col+'_sh'] = (df_clean[col] - df_clean[col+'_o'])"
      ],
      "execution_count": null,
      "outputs": []
    },
    {
      "cell_type": "markdown",
      "metadata": {
        "_uuid": "7ef917dcc9a97d9b13536ffe4fe61ef13f019ff3",
        "id": "gWGUrHRL2Fmg"
      },
      "source": [
        "On the same lines, we can create things like age difference, same field of study, same goals, etc."
      ]
    },
    {
      "cell_type": "code",
      "metadata": {
        "trusted": true,
        "_uuid": "f888d32018a9565fe93f796c1b8ecb22df093ca1",
        "id": "PDnvUoZJ2Fmh"
      },
      "source": [
        "# relative age difference\n",
        "df_clean['age_diff'] = (df_clean['age'] - df_clean['age_o'])\n",
        "df_clean.loc[(df_clean.age_diff > 0) & (df_clean.gender == 'Male'), 'age_diff_cat'] = 'older_male'\n",
        "df_clean.loc[(df_clean.age_diff > 0) & (df_clean.gender == 'Female'), 'age_diff_cat'] = 'older_female'\n",
        "df_clean.loc[(df_clean.age_diff < 0) & (df_clean.gender == 'Male'), 'age_diff_cat'] = 'younger_male'\n",
        "df_clean.loc[(df_clean.age_diff < 0) & (df_clean.gender == 'Female'), 'age_diff_cat'] = 'younger_female'\n",
        "df_clean.loc[(df_clean.age_diff == 0), 'age_diff_cat'] = 'same_age'\n",
        "\n",
        "# who remembers if they met\n",
        "df_clean['met_comp'] = df_clean['met'] - df_clean['met_o']\n",
        "df_clean.loc[df_clean.met_comp == 0, 'met_comp'] = 'same'\n",
        "df_clean.loc[df_clean.met_comp == 1, 'met_comp'] = 'partec'\n",
        "df_clean.loc[df_clean.met_comp == -1, 'met_comp'] = 'partner'\n",
        "\n",
        "# same field flag\n",
        "df_clean['same_field'] = 0\n",
        "df_clean.loc[df_clean.field_cd == df_clean.field_cd_o, 'same_field'] = 1\n",
        "\n",
        "# same goal flag\n",
        "df_clean['same_goal'] = 0\n",
        "df_clean.loc[df_clean.goal == df_clean.goal_o, 'same_goal'] = 1"
      ],
      "execution_count": null,
      "outputs": []
    },
    {
      "cell_type": "markdown",
      "metadata": {
        "_uuid": "c7145bef63042443f3b4ffb394d89b730160e4ed",
        "id": "Rfxtqhkt2Fmh"
      },
      "source": [
        "Another factor that I can imagine could play a role is *how good of a night it is*. In other words, from previous versions we know that the *like* factor is very important and I wonder if having meet someone that I liked a lot can change my perspective on the successive dates. We then start aknowledging that the dates are happening in order and try to create the appropriate feature."
      ]
    },
    {
      "cell_type": "code",
      "metadata": {
        "trusted": true,
        "_uuid": "0c5bcbe7a154a20ba96c685c48b1c99be3aeb791",
        "id": "WIxFtkMf2Fmh"
      },
      "source": [
        "test = df_clean[['iid', 'order', 'like']].copy().sort_values(by=['order']).fillna(6) \n",
        "# fill the missing with neutral vote\n",
        "\n",
        "# How good is the night in general?\n",
        "test['like_cumulative'] = test.groupby(['iid'])['like'].cumsum()\n",
        "test['mean_liking'] = test.like_cumulative / test.order\n",
        "\n",
        "# How good it the person with respect to the mean\n",
        "test['like_spread'] = test.like.fillna(6) - test.mean_liking\n",
        "\n",
        "# Did they encounter someone they liked a lot already?\n",
        "test['high_like'] = 0\n",
        "test.loc[test.like > 8, 'high_like'] = 1\n",
        "test['high_like'] = test.groupby('iid')['high_like'].cumsum()\n",
        "test.loc[test.high_like > 1, 'high_like'] = 1\n",
        "\n",
        "# removing columns\n",
        "del test['like_cumulative']\n",
        "del test['like']\n",
        "\n",
        "# putting together\n",
        "df_clean = pd.merge(df_clean, test, on=['iid', 'order'])\n",
        "\n",
        "del test"
      ],
      "execution_count": null,
      "outputs": []
    },
    {
      "cell_type": "markdown",
      "metadata": {
        "_uuid": "5f5b2f049a3507747f45081a384a33d415b4f6f1",
        "id": "zH8QFaft2Fmh"
      },
      "source": [
        "***Note***: The right way to create `spread_like` would be to create the feature inside of the pipeline, after the imputer. Sadly, I am repeatedly failing in creating such class. Please help me :)\n",
        "\n",
        "From previous runs, I noticed that adding the `spread_like` feature mentioned above would improve the score but also increase the number of false positives by a lot. It essentially predicts `1` more often, resulting in fewer false negatives and more false positives and, since we have more false negatives, this increases the accuracy. \n",
        "\n",
        "The reason why this happens, I think, is because that feature is using a highly important feature (`like`), arbitrarily set to `6` its missing values, and then computing the distance to `mean_liking`. The imputation, while less harmful when we calculate `mean_liking`, is a strong assumption and *distracts the model*. \n",
        "\n",
        "The next hidden cell will prepare the data for each of the 3 cases mentioned above"
      ]
    },
    {
      "cell_type": "code",
      "metadata": {
        "_kg_hide-input": true,
        "trusted": true,
        "_uuid": "b51fbcb77d5c5a2a2653ab3106c5dff1fd966285",
        "id": "M_oZ01TF2Fmh"
      },
      "source": [
        "general_info = ['gender', 'condtn', 'order', 'with_book', 'with_magazine', 'on_a_budget', 'vote_differently']\n",
        "participant_info = ['age', 'met', 'field_cd', 'race', 'imprace', \n",
        "                    'imprelig', 'goal', 'date', 'go_out', 'exphappy'] + you_look + you_score + opp_look\n",
        "partner_info = [col for col in df_clean.columns if 'pf_o_' in col] + \\\n",
        "                ['age_o', 'met_o', 'field_cd_o', 'race_o', 'imprace_o', 'imprelig_o',\n",
        "                'goal_o', 'date_o', 'go_out_o']\n",
        "interests_o = [col+'_o' for col in interests]\n",
        "votes = ['attr', 'sinc', 'intel', 'fun', 'amb', 'shar', 'like', 'prob'] \n",
        "votes_o = ['attr_o', 'sinc_o', 'intel_o', 'fun_o', 'amb_o', 'shar_o', 'like_o', 'prob_o']\n",
        "special_votes = ['mean_liking', 'like_spread', 'high_like']\n",
        "shared = [col+'_sh' for col in interests] + ['int_corr', 'samerace', 'age_diff', \n",
        "                                             'age_diff_cat', 'met_comp', 'same_field', 'same_goal']\n",
        "target = df_clean['dec']\n",
        "\n",
        "\n",
        "# Creating frames\n",
        "df_participants = df_clean[general_info+participant_info+interests+votes+special_votes].copy() \n",
        "df_partner = df_clean[general_info+partner_info+interests_o+votes_o].copy()\n",
        "df_both = df_clean[general_info+participant_info+partner_info+\n",
        "                   interests+votes+special_votes+interests_o+votes_o+shared].copy()"
      ],
      "execution_count": null,
      "outputs": []
    },
    {
      "cell_type": "markdown",
      "metadata": {
        "_uuid": "e168d02ed4dad5fd7ad313dc4ad55dd1d60ca0a0",
        "id": "Toc6DMRO2Fmh"
      },
      "source": [
        "## All by myself - no partner information\n",
        "\n",
        "This is a situation where we are essentially predicting what a person will decide for who they are and the votes they received from a partner that we completely ignore. The case I imagine being useful for such model is a sort of propensity to saying yes to someone after 4 minutes of conversation."
      ]
    },
    {
      "cell_type": "code",
      "metadata": {
        "trusted": true,
        "scrolled": true,
        "_uuid": "171681a6154e334f7002405f7e0bf7fff3430565",
        "id": "qtPqf7CC2Fmh"
      },
      "source": [
        "df_train = pd.get_dummies(df_participants, \n",
        "                          columns=['gender'], \n",
        "                          drop_first=True)\n",
        "\n",
        "# things to drop because it improves the model\n",
        "del df_train['race']\n",
        "del df_train['like_spread']\n",
        "del df_train['goal']\n",
        "del df_train['field_cd']\n",
        "del df_train['with_book']\n",
        "del df_train['date'] \n",
        "del df_train['condtn']\n",
        "\n",
        "freq_map = {'Almost_never' : 0,\n",
        "           'Several_py': 1, \n",
        "           'Once_pm': 2,\n",
        "           'Twice_pm': 3,\n",
        "           'Once_pw': 4,\n",
        "           'Twice_pw': 5,\n",
        "           'Several_pw': 6}\n",
        "\n",
        "df_train.go_out = df_train.go_out.map(freq_map)\n",
        "\n",
        "partic_cols = df_train.columns  # will be needed in the last section\n",
        "\n",
        "df_train.head()"
      ],
      "execution_count": null,
      "outputs": []
    },
    {
      "cell_type": "code",
      "metadata": {
        "trusted": true,
        "_uuid": "a2851292da5749086e208ec58c2f234e2284f1b3",
        "id": "9hM2HpVO2Fmi"
      },
      "source": [
        "pipe = Pipeline([imputer, \n",
        "                 ('xgb', XGBClassifier(n_jobs=1, random_state=42, \n",
        "                                       subsample=0.8))])\n",
        "\n",
        "param_grid = [{'xgb__n_estimators' : [900, 1000, 1100],\n",
        "               'xgb__learning_rate': [0.1, 0.05, 0.01]}]\n",
        "\n",
        "best_participant = pretty_grid(pipe, param_grid, df_train, target,\n",
        "                         'accuracy', cv=kfolds, n_jobs=-1) "
      ],
      "execution_count": null,
      "outputs": []
    },
    {
      "cell_type": "code",
      "metadata": {
        "trusted": true,
        "_uuid": "1d9deee49b1735f03a2033c90bebc74030c80a85",
        "id": "MrC9m0-M2Fmi"
      },
      "source": [
        "best_participant.steps[1][1]"
      ],
      "execution_count": null,
      "outputs": []
    },
    {
      "cell_type": "code",
      "metadata": {
        "trusted": true,
        "_uuid": "0260dca3dd638f46e5ee7a6a74fe2e49932415de",
        "id": "9Jdiddwr2Fmi"
      },
      "source": [
        "pretty_confusion(best_participant, df_train, target, kfolds)"
      ],
      "execution_count": null,
      "outputs": []
    },
    {
      "cell_type": "code",
      "metadata": {
        "trusted": true,
        "_uuid": "32339177a59ff15ede301ca7c5f36cb0e7ed1b76",
        "id": "2BOOJsbR2Fmi"
      },
      "source": [
        "learning_print(best_participant, df_train, target, kfolds)  "
      ],
      "execution_count": null,
      "outputs": []
    },
    {
      "cell_type": "code",
      "metadata": {
        "trusted": true,
        "_uuid": "b3b0ed49c026224cc4e55c251aea9b3fc0142cad",
        "id": "rd9j77c42Fmi"
      },
      "source": [
        "get_feature_importance(best_participant, df_train.columns).head(10)"
      ],
      "execution_count": null,
      "outputs": []
    },
    {
      "cell_type": "code",
      "metadata": {
        "trusted": true,
        "_uuid": "94fdabf63779067d4748bb2dd9c2a372882ba55c",
        "id": "Kh8XVKE42Fmi"
      },
      "source": [
        "get_feature_importance(best_participant, df_train.columns).tail(10)"
      ],
      "execution_count": null,
      "outputs": []
    },
    {
      "cell_type": "markdown",
      "metadata": {
        "_uuid": "d5a34c00d3e7113e0a6f9586910c83080cc0c1a6",
        "id": "3AjNbIhV2Fmi"
      },
      "source": [
        "It looks like the model is able to predict well whether or not a person will say *yes* at the end of a speed date if it knows everything about that person (including and especially how much is enjoying the date). Nothing shocking then. If we ignore the votes, a strong indicator of how much the participant is enjoying the date and a very strong predictor of the outcome, the accuracy **drops to 70%**, a result that, as we will see is perfectly in line with the next type of model.\n",
        "\n",
        "Interesting to see little importance given to the gender, indicating the model learns fairly equally the decisions of Males and Females, and that having met someone that we liked a lot or having met the partner before are equally unimportant. On the other hand, how well the night is going is the stronger predictor together with how good the date is. An intriguing result is the importance of `order`, which we could probably drop for better explainability of the model.\n",
        "\n",
        "Moreover, the model learns better if it doesn't consider the field of study, the dating habits, and, more surprisingly, how much the participant likes the person with respect to the previous dates and their race.\n",
        "\n",
        "Let's see what the model got right and what got wrong."
      ]
    },
    {
      "cell_type": "code",
      "metadata": {
        "trusted": true,
        "_uuid": "217abdf9fb75c641e5f141e9ead92cc6b82b02df",
        "_kg_hide-input": true,
        "id": "CTB4keWW2Fmj"
      },
      "source": [
        "predictions_participants_only = cross_val_predict(best_participant, df_train, target, cv=kfolds)"
      ],
      "execution_count": null,
      "outputs": []
    },
    {
      "cell_type": "code",
      "metadata": {
        "_kg_hide-input": true,
        "trusted": true,
        "_uuid": "528ebb3936b98596431cfdcc3ae2f85ca23b479f",
        "id": "vWEKxlGW2Fmj"
      },
      "source": [
        "participants_analysis = pd.concat([df_participants, \n",
        "                                   pd.DataFrame({'target':target, \n",
        "                                                 'prediction':predictions_participants_only})], axis=1)\n",
        "\n",
        "FP = participants_analysis[(participants_analysis.target == 0) & (participants_analysis.prediction == 1)].copy()\n",
        "FN = participants_analysis[(participants_analysis.target == 1) & (participants_analysis.prediction == 0)].copy()\n",
        "good_pred = participants_analysis[participants_analysis.target == participants_analysis.prediction].copy()"
      ],
      "execution_count": null,
      "outputs": []
    },
    {
      "cell_type": "code",
      "metadata": {
        "_kg_hide-input": true,
        "trusted": true,
        "_uuid": "d21fd3cfe3ed0ca20de0c276878785445dbad7ff",
        "id": "ANwkf4y42Fmj"
      },
      "source": [
        "print(\"Target mean for full dataset: {}\".format(round(participants_analysis.target.mean(),3)))\n",
        "print(\"Prediction mean for full dataset: {}\".format(round(participants_analysis.prediction.mean(),3)))\n",
        "print(\"Target mean for correct predictions: {}\".format(round(good_pred.target.mean(),3)))"
      ],
      "execution_count": null,
      "outputs": []
    },
    {
      "cell_type": "code",
      "metadata": {
        "trusted": true,
        "_uuid": "9174846509e41db061f6e74802833b03da0d06aa",
        "id": "3KDWq4we2Fmj"
      },
      "source": [
        "to_check = ['fun', 'concerts', 'movies', 'theater', 'clubbing', 'art', 'museums']"
      ],
      "execution_count": null,
      "outputs": []
    },
    {
      "cell_type": "code",
      "metadata": {
        "trusted": true,
        "_uuid": "aae8ca839238de83d5c00855efa612011bd2f1e4",
        "_kg_hide-input": true,
        "_kg_hide-output": false,
        "id": "uHKbZ_LE2Fmj"
      },
      "source": [
        "col = to_check[5]\n",
        "\n",
        "fig, ax= plt.subplots(2,2, figsize=(15, 12))\n",
        "\n",
        "participants_analysis[participants_analysis.target==1][col].hist(ax=ax[0][0], label='yes', alpha=0.5)\n",
        "participants_analysis[participants_analysis.target==0][col].hist(ax=ax[0][0], label='no', alpha=0.5)\n",
        "participants_analysis[participants_analysis.prediction==1][col].hist(ax=ax[0][1], label='yes', alpha=0.5)\n",
        "participants_analysis[participants_analysis.prediction==0][col].hist(ax=ax[0][1], label='no', alpha=0.5)\n",
        "FP[FP.target==0][col].hist(ax=ax[1][0], label='FP', alpha=0.5)\n",
        "FN[FN.target==1][col].hist(ax=ax[1][0], label='FN', alpha=0.5)\n",
        "good_pred[good_pred.target==1][col].hist(ax=ax[1][1], label='yes', alpha=0.5)\n",
        "good_pred[good_pred.target==0][col].hist(ax=ax[1][1], label='no', alpha=0.5)\n",
        "ax[0][0].set_title('Dist. '+col+' vs. target')\n",
        "ax[0][1].set_title('Dist. '+col+' vs. prediction')\n",
        "ax[1][0].set_title('Dist. '+col+' FP/FN vs. target')\n",
        "ax[1][1].set_title('Dist. '+col+' Correct predictions vs. target')\n",
        "ax[0][0].legend()\n",
        "ax[1][0].legend()\n",
        "ax[1][1].legend()\n",
        "ax[0][1].legend()\n",
        "ax[0][0].grid(False)\n",
        "ax[0][1].grid(False)\n",
        "ax[1][0].grid(False)\n",
        "ax[1][1].grid(False)\n"
      ],
      "execution_count": null,
      "outputs": []
    },
    {
      "cell_type": "markdown",
      "metadata": {
        "_uuid": "a7508058804be85488276d06e1501dba373a99e6",
        "id": "KPoVqO-N2Fmj"
      },
      "source": [
        "As we see in this example, the model is more incline than it should in predicting `no` when there are high values of the feature `art`. Similar patterns can be found in the other features collected in the list `to_check`. \n",
        "\n",
        "No visible pattern was found in any other variable (including those not used by the model, like race), giving me a lot of confidence in how those variables were used. It remains open the question about the role of `order` since I can't spot any pattern or correlation with the target. \n",
        "\n",
        "Dropping those features would make our model less accurate (by not much, being not important features)."
      ]
    },
    {
      "cell_type": "markdown",
      "metadata": {
        "trusted": true,
        "_uuid": "58e12736ba8e97feb06a8d4c0a36aab374d2c171",
        "id": "RoTGrQee2Fmj"
      },
      "source": [
        "## All about you - only partner information\n",
        "\n",
        "This is a situation where we want to predict what makes people say yes, regardless of who they are (it is equivalent to the previous case but using `dec_o`as target, but I prefer this approach)"
      ]
    },
    {
      "cell_type": "code",
      "metadata": {
        "trusted": true,
        "_uuid": "fe516cad549909fd426c9344fffe39d8a1388e62",
        "id": "YNhyhcS-2Fmk"
      },
      "source": [
        "df_train = pd.get_dummies(df_partner, \n",
        "                          columns=['gender', 'race_o', 'goal_o', 'field_cd_o'], \n",
        "                          drop_first=True)\n",
        "\n",
        "# to improve the model\n",
        "del df_train['go_out_o']\n",
        "\n",
        "freq_map = {'Almost_never' : 0,\n",
        "           'Several_py': 1, \n",
        "           'Once_pm': 2,\n",
        "           'Twice_pm': 3,\n",
        "           'Once_pw': 4,\n",
        "           'Twice_pw': 5,\n",
        "           'Several_pw': 6}\n",
        "\n",
        "df_train.date_o = df_train.date_o.map(freq_map)\n",
        "\n",
        "col_partn = df_train.columns  # will be needed in the last section\n",
        "\n",
        "df_train.head()"
      ],
      "execution_count": null,
      "outputs": []
    },
    {
      "cell_type": "code",
      "metadata": {
        "trusted": true,
        "_uuid": "f6eb8c35a5a9194bf6ad3e8814cb139c3b96253f",
        "id": "tAF3J4852Fmk"
      },
      "source": [
        "pipe = Pipeline([imputer, \n",
        "                 ('xgb', XGBClassifier(n_jobs=1, random_state=42, \n",
        "                                       subsample=0.8))])\n",
        "\n",
        "param_grid = [{'xgb__n_estimators' : [1000, 1500, 2000],\n",
        "               'xgb__learning_rate': [0.1, 0.05, 0.01]}]\n",
        "\n",
        "best_partner = pretty_grid(pipe, param_grid, df_train, target,\n",
        "                         'accuracy', cv=kfolds, n_jobs=-1) "
      ],
      "execution_count": null,
      "outputs": []
    },
    {
      "cell_type": "code",
      "metadata": {
        "trusted": true,
        "_uuid": "2c65eb8678ec1bfd45fc9b0df3e8723553a01613",
        "id": "_6CGZZmY2Fmk"
      },
      "source": [
        "best_partner.steps[1][1]"
      ],
      "execution_count": null,
      "outputs": []
    },
    {
      "cell_type": "code",
      "metadata": {
        "trusted": true,
        "_uuid": "9fb4bef31f22458d33542a26b272f665867da6c4",
        "id": "PBiDAiAp2Fmk"
      },
      "source": [
        "pretty_confusion(best_partner, df_train, target, kfolds)"
      ],
      "execution_count": null,
      "outputs": []
    },
    {
      "cell_type": "code",
      "metadata": {
        "trusted": true,
        "_uuid": "18b993c056daa692661d8a38b5c76cafbb965383",
        "id": "h0ocKVnH2Fmk"
      },
      "source": [
        "learning_print(best_partner, df_train, target, kfolds)"
      ],
      "execution_count": null,
      "outputs": []
    },
    {
      "cell_type": "code",
      "metadata": {
        "trusted": true,
        "_uuid": "c97483e0b7bb87d47ca39259f2b3d1e63d6bc569",
        "id": "Mtr47rr-2Fmk"
      },
      "source": [
        "get_feature_importance(best_partner, df_train.columns).head(10)"
      ],
      "execution_count": null,
      "outputs": []
    },
    {
      "cell_type": "code",
      "metadata": {
        "trusted": true,
        "_uuid": "048ec90d926146a0f306c6b726e46de76bf744a6",
        "id": "PwG685Qb2Fmk"
      },
      "source": [
        "get_feature_importance(best_partner, df_train.columns).tail(10)"
      ],
      "execution_count": null,
      "outputs": []
    },
    {
      "cell_type": "markdown",
      "metadata": {
        "_uuid": "428b6a05c1ee542a9e453651b0aca0ab531cc3ae",
        "id": "Bb_nuDRX2Fml"
      },
      "source": [
        "We notice that, as expected, just knowing who we are, what we like, and if we are enjoying the date is making the model perform significantly worse in predicting if the other person will say *yes* to us. Again, nothing really shocking but it is nice to see that the performance is the same as the one of the previous model if we drop the votes. We could interpret the result by setting to 67-70% the accuracy of predicting a *yes* for a person on a date solely by considering their characteristics and preferences and not by considering how much they are actually enjoying the date (if this makes any sense).\n",
        "\n",
        "Interestingly, the number of dates happened before is very important for the model and, less surprisingly, how much we like and how much we value specific characteristics are very important as well.\n",
        "\n",
        "On the other hand, race and field of study are not so important but cannot be dropped this time or we observe a drop in the score.\n",
        "\n",
        "Again, we can see what went wrong"
      ]
    },
    {
      "cell_type": "code",
      "metadata": {
        "_kg_hide-input": true,
        "trusted": true,
        "_uuid": "7baaa12a6525be62d3d7608f2acc6f74359f00e8",
        "id": "KTr-CvpN2Fml"
      },
      "source": [
        "predictions_partner_only = cross_val_predict(best_partner, df_train, target, cv=kfolds)\n",
        "\n",
        "partner_analysis = pd.concat([df_partner, \n",
        "                                   pd.DataFrame({'target':target}), \n",
        "                                   pd.DataFrame({'prediction':predictions_partner_only})], axis=1)\n",
        "\n",
        "FP = partner_analysis[(partner_analysis.target == 0) & (partner_analysis.prediction == 1)].copy()\n",
        "FN = partner_analysis[(partner_analysis.target == 1) & (partner_analysis.prediction == 0)].copy()\n",
        "good_pred = partner_analysis[partner_analysis.target == partner_analysis.prediction].copy()"
      ],
      "execution_count": null,
      "outputs": []
    },
    {
      "cell_type": "code",
      "metadata": {
        "_kg_hide-input": true,
        "trusted": true,
        "_uuid": "2c7deca1cc823e9ccb50f0d29bf6e4549eabcac5",
        "id": "AI4veJq62Fml"
      },
      "source": [
        "print(\"Target mean for full dataset: {}\".format(round(partner_analysis.target.mean(),3)))\n",
        "print(\"Prediction mean for full dataset: {}\".format(round(partner_analysis.prediction.mean(),3)))\n",
        "print(\"Target mean for correct predictions: {}\".format(round(good_pred.target.mean(),3)))"
      ],
      "execution_count": null,
      "outputs": []
    },
    {
      "cell_type": "code",
      "metadata": {
        "_kg_hide-input": true,
        "trusted": true,
        "_uuid": "00b616888c4d4ff026737d96427743d8e4bc13cd",
        "id": "pIbiddmF2Fml"
      },
      "source": [
        "to_check = ['imprace_o', 'attr_o', 'prob_o', 'gender', 'goal_o', 'date_o']"
      ],
      "execution_count": null,
      "outputs": []
    },
    {
      "cell_type": "code",
      "metadata": {
        "_kg_hide-input": true,
        "trusted": true,
        "_uuid": "6d0fc1ff38eb9bb2d6ca9b2e6430cd5adb6753ec",
        "id": "WvRwZfFu2Fml"
      },
      "source": [
        "col = to_check[1]\n",
        "\n",
        "fig, ax= plt.subplots(2,2, figsize=(15, 12))\n",
        "\n",
        "partner_analysis[partner_analysis.target==1][col].hist(ax=ax[0][0], label='yes', alpha=0.5)\n",
        "partner_analysis[partner_analysis.target==0][col].hist(ax=ax[0][0], label='no', alpha=0.5)\n",
        "partner_analysis[partner_analysis.prediction==1][col].hist(ax=ax[0][1], label='yes', alpha=0.5)\n",
        "partner_analysis[partner_analysis.prediction==0][col].hist(ax=ax[0][1], label='no', alpha=0.5)\n",
        "FP[FP.target==0][col].hist(ax=ax[1][0], label='FP', alpha=0.5)\n",
        "FN[FN.target==1][col].hist(ax=ax[1][0], label='FN', alpha=0.5)\n",
        "good_pred[good_pred.target==1][col].hist(ax=ax[1][1], label='yes', alpha=0.5)\n",
        "good_pred[good_pred.target==0][col].hist(ax=ax[1][1], label='no', alpha=0.5)\n",
        "ax[0][0].set_title('Dist. '+col+' vs. target')\n",
        "ax[0][1].set_title('Dist. '+col+' vs. prediction')\n",
        "ax[1][0].set_title('Dist. '+col+' FP/FN vs. target')\n",
        "ax[1][1].set_title('Dist. '+col+' Correct predictions vs. target')\n",
        "ax[0][0].legend()\n",
        "ax[1][0].legend()\n",
        "ax[1][1].legend()\n",
        "ax[0][1].legend()\n",
        "ax[0][0].grid(False)\n",
        "ax[0][1].grid(False)\n",
        "ax[1][0].grid(False)\n",
        "ax[1][1].grid(False)\n"
      ],
      "execution_count": null,
      "outputs": []
    },
    {
      "cell_type": "code",
      "metadata": {
        "_kg_hide-input": true,
        "trusted": true,
        "_uuid": "8d6b82b3a74e04c358ef06f9a9168e12b6812777",
        "id": "xIXpkexS2Fml"
      },
      "source": [
        "col = to_check[3]\n",
        "\n",
        "fig, ax= plt.subplots(2,2, figsize=(15, 12))\n",
        "\n",
        "partner_analysis[col].value_counts().plot(kind='bar', ax=ax[0][0])\n",
        "good_pred[col].value_counts().plot(kind='bar', ax=ax[0][1])\n",
        "FN[col].value_counts().plot(kind='bar', ax=ax[1][0])\n",
        "FP[col].value_counts().plot(kind='bar', ax=ax[1][1])\n",
        "ax[0][0].set_title('Original Count vs. '+col)\n",
        "ax[0][1].set_title('Correct Predictions Count vs. '+col)\n",
        "ax[1][0].set_title('False Negatives Count vs. '+col)\n",
        "ax[1][1].set_title('False Positives Count vs. '+col)\n",
        "ax[0][0].set_xticklabels(ax[0][0].get_xticklabels(), fontsize=10, rotation='horizontal')\n",
        "ax[0][1].set_xticklabels(ax[0][1].get_xticklabels(), fontsize=10, rotation='horizontal')\n",
        "ax[1][0].set_xticklabels(ax[1][0].get_xticklabels(), fontsize=10, rotation='horizontal')\n",
        "ax[1][1].set_xticklabels(ax[1][1].get_xticklabels(), fontsize=10, rotation='horizontal')"
      ],
      "execution_count": null,
      "outputs": []
    },
    {
      "cell_type": "markdown",
      "metadata": {
        "_uuid": "e6b44faa93e135968479715e90487f84a8c33749",
        "id": "6hJW5Fnv2Fmm"
      },
      "source": [
        "The model is way too pessimistic in predicting a `yes`. In particular, by knowing information about the partner only, if the participant is Female, it is most likely to have a false negative than a false positive. If the participant is male, instead, it looks is missing equally in both ways, even though it makes more mistakes.\n",
        "\n",
        "In other words, if we are this heartless machine we make more mistakes if we have a male in front of us and we are not sure about what kind of mistake we made. On the other hand, with a female is most likely that we said `No` when we should have predicted `Yes`.\n",
        "\n",
        "Another pattern that could be found in the mistakes of this model is about people we found *averagely attractive*  that led to many false negatives."
      ]
    },
    {
      "cell_type": "markdown",
      "metadata": {
        "_uuid": "2e52bb2b607c63ff21000950bcc596fbce600f33",
        "id": "Gb4ieD8j2Fmm"
      },
      "source": [
        "## Two hearts are better than one\n",
        "\n",
        "Here we finally keep into account the entire situation, we know everything about the date and we try to see what one of the two will decide."
      ]
    },
    {
      "cell_type": "code",
      "metadata": {
        "trusted": true,
        "_uuid": "54b21f8af41fbd1d28d5991583c5de0b9ad4e4f3",
        "id": "Tho40JXC2Fmm"
      },
      "source": [
        "df_train = pd.get_dummies(df_both, \n",
        "                          columns=['gender', 'race', 'field_cd', \n",
        "                                   'race_o', 'field_cd_o'], \n",
        "                          drop_first=True)\n",
        "\n",
        "# Things that help the model\n",
        "del df_train['goal']\n",
        "del df_train['like_spread']\n",
        "del df_train['go_out_o']\n",
        "del df_train['date_o']\n",
        "del df_train['goal_o']\n",
        "del df_train['date']\n",
        "del df_train['met_comp']\n",
        "del df_train['age_diff_cat']\n",
        "\n",
        "freq_map = {'Almost_never' : 0,\n",
        "           'Several_py': 1, \n",
        "           'Once_pm': 2,\n",
        "           'Twice_pm': 3,\n",
        "           'Once_pw': 4,\n",
        "           'Twice_pw': 5,\n",
        "           'Several_pw': 6}\n",
        "\n",
        "df_train.go_out = df_train.go_out.map(freq_map)\n",
        "\n",
        "both_cols = df_train.columns\n",
        "\n",
        "df_train.head()"
      ],
      "execution_count": null,
      "outputs": []
    },
    {
      "cell_type": "code",
      "metadata": {
        "trusted": true,
        "_uuid": "8f0c4e33513ffa720354f1458186bbc05fd7a8a9",
        "id": "Lq3FhqyR2Fmm"
      },
      "source": [
        "pipe = Pipeline([imputer, \n",
        "                 ('xgb', XGBClassifier(n_jobs=1, random_state=42, \n",
        "                                       subsample=0.8))])\n",
        "\n",
        "param_grid = [{'xgb__n_estimators' : [1000, 1500, 2000],\n",
        "               'xgb__learning_rate': [0.1, 0.05, 0.01]}]\n",
        "\n",
        "best_both = pretty_grid(pipe, param_grid, df_train, target,\n",
        "                         'accuracy', cv=kfolds, n_jobs=-1) "
      ],
      "execution_count": null,
      "outputs": []
    },
    {
      "cell_type": "code",
      "metadata": {
        "trusted": true,
        "_uuid": "1fc2019ccc0a0fcf0c2005769aa6ae81b30a57a6",
        "id": "md_a0kQw2Fmm"
      },
      "source": [
        "best_both.steps[-1][1]"
      ],
      "execution_count": null,
      "outputs": []
    },
    {
      "cell_type": "code",
      "metadata": {
        "trusted": true,
        "_uuid": "7523baa24a32fff35173ef7c6967b4b8d8fe7ba8",
        "id": "FX083sWm2Fmm"
      },
      "source": [
        "pretty_confusion(best_both, df_train, target, kfolds)"
      ],
      "execution_count": null,
      "outputs": []
    },
    {
      "cell_type": "code",
      "metadata": {
        "trusted": true,
        "_uuid": "1cff7ec5d2a2f5523394231010cd928dbecbe7a3",
        "id": "heyPVkR32Fmn"
      },
      "source": [
        "learning_print(best_both, df_train, target, kfolds)"
      ],
      "execution_count": null,
      "outputs": []
    },
    {
      "cell_type": "code",
      "metadata": {
        "trusted": true,
        "_uuid": "bdcd50f0af0055e54050b58264eac92c19e3629a",
        "id": "X0yuWDSp2Fmn"
      },
      "source": [
        "get_feature_importance(best_both, df_train.columns).head(10)"
      ],
      "execution_count": null,
      "outputs": []
    },
    {
      "cell_type": "code",
      "metadata": {
        "trusted": true,
        "_uuid": "2844647918f519ea861897ff8ac7a2369fbb8cf4",
        "id": "xdNtx4JG2Fmn"
      },
      "source": [
        "get_feature_importance(best_both, df_train.columns).tail(10)"
      ],
      "execution_count": null,
      "outputs": []
    },
    {
      "cell_type": "markdown",
      "metadata": {
        "_uuid": "ab32697f24374bdb9f81eb846c259fcd65aa2a5a",
        "id": "2DCeExOu2Fmn"
      },
      "source": [
        "The model performs very similarly to the one with only the information about the participants and it definitely would benefit of more observations. As in the previous case, dropping the features about the participant's votes, would make the model perform significantly worse (around 74%) but still better than all the others when these features are dropped.\n",
        "\n",
        "Again, ignoring the `like_spread` feature (which is built in the *wrong way* as discussed above) helps the model and, again, field of study and race are less important. With a larger set of features, `order` drops down in importance but stays at a spot I can't explain. Although attractiveness (see later there is a caveat with this) and general liking are still the most important predictors, now we see that the other attributes are relatively less important than before.\n",
        "\n",
        "At last, what this one did wrong?"
      ]
    },
    {
      "cell_type": "code",
      "metadata": {
        "trusted": true,
        "_uuid": "9f564939d97761db3b0d2c02d68c99b4f60a6b26",
        "_kg_hide-input": true,
        "id": "ei65DQNw2Fmo"
      },
      "source": [
        "predictions_both = cross_val_predict(best_both, df_train, target, cv=kfolds)"
      ],
      "execution_count": null,
      "outputs": []
    },
    {
      "cell_type": "code",
      "metadata": {
        "_kg_hide-input": true,
        "trusted": true,
        "_uuid": "0984f4bf89d86fdbe08b923c71421a79a7b367f8",
        "id": "CeBSSpIj2Fmo"
      },
      "source": [
        "both_analysis = pd.concat([df_both, \n",
        "                                   pd.DataFrame({'target':target}), \n",
        "                                   pd.DataFrame({'prediction':predictions_both})], axis=1)\n",
        "\n",
        "FP = both_analysis[(both_analysis.target == 0) & (both_analysis.prediction == 1)].copy()\n",
        "FN = both_analysis[(both_analysis.target == 1) & (both_analysis.prediction == 0)].copy()\n",
        "good_pred = both_analysis[both_analysis.target == both_analysis.prediction].copy()\n",
        "\n",
        "print(\"Target mean for full dataset: {}\".format(round(both_analysis.target.mean(),3)))\n",
        "print(\"Prediction mean for full dataset: {}\".format(round(both_analysis.prediction.mean(),3)))\n",
        "print(\"Target mean for correct predictions: {}\".format(round(good_pred.target.mean(),3)))"
      ],
      "execution_count": null,
      "outputs": []
    },
    {
      "cell_type": "code",
      "metadata": {
        "trusted": true,
        "_uuid": "120674c26084ac2c709f03f2f1978c16cc2dba5e",
        "id": "SbwOHE_82Fmp"
      },
      "source": [
        "to_check = ['age_diff_cat', 'imprace_o', 'museums', 'art', \n",
        "            'clubbing','theater',  'movies', 'concerts', \n",
        "            'attr', 'sinc','like_spread','art_sh']"
      ],
      "execution_count": null,
      "outputs": []
    },
    {
      "cell_type": "code",
      "metadata": {
        "_kg_hide-input": true,
        "trusted": true,
        "_uuid": "e6deb3222bee662f267cc44a3ebc862a29077559",
        "id": "9AxrqOOC2Fmp"
      },
      "source": [
        "col = to_check[8]\n",
        "\n",
        "fig, ax= plt.subplots(2,2, figsize=(15, 12))\n",
        "\n",
        "both_analysis[both_analysis.target==1][col].hist(ax=ax[0][0], label='yes', alpha=0.5)\n",
        "both_analysis[both_analysis.target==0][col].hist(ax=ax[0][0], label='no', alpha=0.5)\n",
        "both_analysis[both_analysis.prediction==1][col].hist(ax=ax[0][1], label='yes', alpha=0.5)\n",
        "both_analysis[both_analysis.prediction==0][col].hist(ax=ax[0][1], label='no', alpha=0.5)\n",
        "FP[FP.target==0][col].hist(ax=ax[1][0], label='FP', alpha=0.5)\n",
        "FN[FN.target==1][col].hist(ax=ax[1][0], label='FN', alpha=0.5)\n",
        "good_pred[good_pred.target==1][col].hist(ax=ax[1][1], label='yes', alpha=0.5)\n",
        "good_pred[good_pred.target==0][col].hist(ax=ax[1][1], label='no', alpha=0.5)\n",
        "ax[0][0].set_title('Dist. '+col+' vs. target')\n",
        "ax[0][1].set_title('Dist. '+col+' vs. prediction')\n",
        "ax[1][0].set_title('Dist. '+col+' FP/FN vs. target')\n",
        "ax[1][1].set_title('Dist. '+col+' Correct predictions vs. target')\n",
        "ax[0][0].legend()\n",
        "ax[1][0].legend()\n",
        "ax[1][1].legend()\n",
        "ax[0][1].legend()\n",
        "ax[0][0].grid(False)\n",
        "ax[0][1].grid(False)\n",
        "ax[1][0].grid(False)\n",
        "ax[1][1].grid(False)"
      ],
      "execution_count": null,
      "outputs": []
    },
    {
      "cell_type": "code",
      "metadata": {
        "_kg_hide-input": true,
        "trusted": true,
        "_uuid": "29c60d78a4f6d29e0e61217f18594bfa1567e790",
        "id": "Jk0jCX5_2Fmp"
      },
      "source": [
        "col = to_check[9]\n",
        "\n",
        "fig, ax= plt.subplots(2,2, figsize=(15, 12))\n",
        "\n",
        "both_analysis[both_analysis.target==1][col].hist(ax=ax[0][0], label='yes', alpha=0.5)\n",
        "both_analysis[both_analysis.target==0][col].hist(ax=ax[0][0], label='no', alpha=0.5)\n",
        "both_analysis[both_analysis.prediction==1][col].hist(ax=ax[0][1], label='yes', alpha=0.5)\n",
        "both_analysis[both_analysis.prediction==0][col].hist(ax=ax[0][1], label='no', alpha=0.5)\n",
        "FP[FP.target==0][col].hist(ax=ax[1][0], label='FP', alpha=0.5)\n",
        "FN[FN.target==1][col].hist(ax=ax[1][0], label='FN', alpha=0.5)\n",
        "good_pred[good_pred.target==1][col].hist(ax=ax[1][1], label='yes', alpha=0.5)\n",
        "good_pred[good_pred.target==0][col].hist(ax=ax[1][1], label='no', alpha=0.5)\n",
        "ax[0][0].set_title('Dist. '+col+' vs. target')\n",
        "ax[0][1].set_title('Dist. '+col+' vs. prediction')\n",
        "ax[1][0].set_title('Dist. '+col+' FP/FN vs. target')\n",
        "ax[1][1].set_title('Dist. '+col+' Correct predictions vs. target')\n",
        "ax[0][0].legend()\n",
        "ax[1][0].legend()\n",
        "ax[1][1].legend()\n",
        "ax[0][1].legend()\n",
        "ax[0][0].grid(False)\n",
        "ax[0][1].grid(False)\n",
        "ax[1][0].grid(False)\n",
        "ax[1][1].grid(False)"
      ],
      "execution_count": null,
      "outputs": []
    },
    {
      "cell_type": "markdown",
      "metadata": {
        "_uuid": "9bfc33a73c4986a8401b64e1137d2b3cd614abe0",
        "id": "t52WzPrx2Fmp"
      },
      "source": [
        "I selected these two features (but you can see how there are patterns for the others in `to_check` too) because I find interesting how the model is **overestimating the importance of attractiveness** by being more inclined that it should and falling into a relatively large number of false positives when this attribute is high and of false negatives for low values of `attr`. On the other hand, the model is **underestimating the importance of sincerity** by getting relatively more false negatives for high values of this attribute.\n",
        "\n",
        "One might argue that this cold, heartless, machine is picking up some human habits very quickly. \n",
        "\n",
        "## Synthetic people in machines, making counterfactual plots.\n",
        "\n",
        "Here we can check what these models have in common in terms of prediction and how they behave if we feed them some date between made up people."
      ]
    },
    {
      "cell_type": "code",
      "metadata": {
        "_kg_hide-input": true,
        "trusted": true,
        "_uuid": "b6b5aa39e2a6b5d68fca9ce2f117dbba2994e897",
        "id": "Jg3-Y0mO2Fmq"
      },
      "source": [
        "full_analysis = pd.concat([df_both,\n",
        "                           pd.DataFrame({'target':target, \n",
        "                                        'pred_partic': predictions_participants_only,\n",
        "                                         'pred_partner': predictions_partner_only, \n",
        "                                         'pred_both': predictions_both})], axis=1)\n",
        "\n",
        "print(\"Correlation between target and models predictions\")\n",
        "full_analysis[['target','pred_partic', 'pred_partner', 'pred_both']].corr()"
      ],
      "execution_count": null,
      "outputs": []
    },
    {
      "cell_type": "code",
      "metadata": {
        "_kg_hide-input": true,
        "trusted": true,
        "_uuid": "8a860a3322b928ef7a0fb0314d4d159e2ec65792",
        "id": "JppP9IZF2Fmq"
      },
      "source": [
        "print('Target mean: {}'.format(round(full_analysis.target.mean(), 2)))\n",
        "print('Mean predictions of the partner model: {}'.format(round(full_analysis.pred_partner.mean(), 2)))\n",
        "print('Mean predictions of the participant model: {}'.format(round(full_analysis.pred_partic.mean(), 2)))\n",
        "print('Mean predictions of the full model: {}'.format(round(full_analysis.pred_both.mean(), 2)))"
      ],
      "execution_count": null,
      "outputs": []
    },
    {
      "cell_type": "markdown",
      "metadata": {
        "_uuid": "60b1a88ef0d0e7a6266ac43895deb7716f480d42",
        "id": "vNV06BI_2Fmq"
      },
      "source": [
        "We see that the full model and the one taking only into consideration the data about the participants are very simila in the way they predict the decisions of the participants (being the participants' evaluations of the date the most important features, this is not surprising). Now I want to see how these models predict and if there are weird behaviors.\n",
        "\n",
        "The idea is to take a typical date (defined in the next cell) and alter the values of each feature to spot the moment when the model changes the prediction. In other words, what does is take to make our model say `yes` or `no`. \n",
        "\n",
        "The typical date is the following."
      ]
    },
    {
      "cell_type": "code",
      "metadata": {
        "_kg_hide-input": true,
        "trusted": true,
        "_uuid": "b87615bb49e941b5458a147021c3006d2c92a75e",
        "id": "X4N6BLVv2Fmq"
      },
      "source": [
        "cats = ['condtn', 'with_book', 'with_magazine', 'on_a_budget', \n",
        "        'met', 'field_cd', 'race', 'goal', 'date', 'go_out', 'field_cd_o', 'race_o',\n",
        "       'goal_o', 'date_o', 'go_out_o', 'high_like', 'samerace', 'met_comp', \n",
        "        'same_field', 'same_goal']\n",
        "modes = full_analysis[cats].mode()\n",
        "cats += ['gender', 'age_diff_cat']\n",
        "means = pd.DataFrame(full_analysis[[col for col in full_analysis.columns if col not in cats]].mean()).transpose()\n",
        "typical = pd.concat([means, modes], axis=1)\n",
        "typical['gender'] = 'Male'\n",
        "typical"
      ],
      "execution_count": null,
      "outputs": []
    },
    {
      "cell_type": "markdown",
      "metadata": {
        "_uuid": "ad6d03a20f05560428efd5f46b989e57e6afb469",
        "id": "aA-6xeZ12Fmq"
      },
      "source": [
        "Now, I need some helper (yet ugly) functions"
      ]
    },
    {
      "cell_type": "code",
      "metadata": {
        "_kg_hide-input": true,
        "trusted": true,
        "_uuid": "1326aace972eaed3375b86475b345236fcbc730b",
        "id": "Ffm-PZ832Fmq"
      },
      "source": [
        "def both_cont_var(data, column, range_list, change_gender=None, change_race=None):\n",
        "    var = []\n",
        "    tmp = data.copy()\n",
        "    for val in range_list:\n",
        "        tmp[column] = val\n",
        "\n",
        "        df_train = pd.get_dummies(tmp, \n",
        "                                  columns=['gender', 'race', 'field_cd', \n",
        "                                           'race_o', 'field_cd_o'])\n",
        "\n",
        "        del df_train['goal']\n",
        "        del df_train['like_spread']\n",
        "        del df_train['go_out_o']\n",
        "        del df_train['date_o']\n",
        "        del df_train['goal_o']\n",
        "        del df_train['date']\n",
        "        del df_train['met_comp']\n",
        "\n",
        "        freq_map = {'Almost_never' : 0,\n",
        "                   'Several_py': 1, \n",
        "                   'Once_pm': 2,\n",
        "                   'Twice_pm': 3,\n",
        "                   'Once_pw': 4,\n",
        "                   'Twice_pw': 5,\n",
        "                   'Several_pw': 6}\n",
        "\n",
        "        df_train.go_out = df_train.go_out.map(freq_map)\n",
        "\n",
        "        df_train['race_Hispanic'] = 0\n",
        "        df_train['race_Other'] = 0\n",
        "        df_train['race_Black'] = 0\n",
        "        df_train['field_cd_Educ.'] = 0\n",
        "        df_train['field_cd_Eng.'] = 0\n",
        "        df_train['field_cd_Film'] = 0\n",
        "        df_train['field_cd_Hist.'] = 0\n",
        "        df_train['field_cd_Journ.'] = 0\n",
        "        df_train['field_cd_Law'] = 0\n",
        "        df_train['field_cd_Math'] = 0\n",
        "        df_train['field_cd_Med. Sc.'] = 0\n",
        "        df_train['field_cd_Nat. Sc.'] = 0\n",
        "        df_train['field_cd_Oth.'] = 0\n",
        "        df_train['field_cd_Pol. Sc.'] = 0\n",
        "        df_train['field_cd_Soc. Sc.'] = 0\n",
        "        df_train['field_cd_Soc. Wr.'] = 0\n",
        "        df_train['race_o_Hispanic'] = 0\n",
        "        df_train['race_o_Other'] = 0\n",
        "        df_train['race_o_Black'] = 0\n",
        "        df_train['field_cd_o_Educ.'] = 0\n",
        "        df_train['field_cd_o_Eng.'] = 0\n",
        "        df_train['field_cd_o_Film'] = 0\n",
        "        df_train['field_cd_o_Hist.'] = 0\n",
        "        df_train['field_cd_o_Journ.'] = 0\n",
        "        df_train['field_cd_o_Law'] = 0\n",
        "        df_train['field_cd_o_Math'] = 0\n",
        "        df_train['field_cd_o_Med. Sc.'] = 0\n",
        "        df_train['field_cd_o_Nat. Sc.'] = 0\n",
        "        df_train['field_cd_o_Oth.'] = 0\n",
        "        df_train['field_cd_o_Pol. Sc.'] = 0\n",
        "        df_train['field_cd_o_Soc. Sc.'] = 0\n",
        "        df_train['field_cd_o_Soc. Wr.'] = 0\n",
        "        \n",
        "        df_train = df_train[both_cols]\n",
        "        \n",
        "        if change_gender:\n",
        "            df_train['gender_Male'] = 0\n",
        "            \n",
        "        if change_race == 'Black':\n",
        "            df_train['race_Hispanic'] = 0\n",
        "            df_train['race_Other'] = 0\n",
        "            df_train['race_Black'] = 1\n",
        "            df_train['race_White'] = 0\n",
        "        elif change_race == 'Other':\n",
        "            df_train['race_Hispanic'] = 0\n",
        "            df_train['race_Other'] = 1\n",
        "            df_train['race_Black'] = 0\n",
        "            df_train['race_White'] = 0\n",
        "        elif change_race == 'Hispanic':\n",
        "            df_train['race_Hispanic'] = 1\n",
        "            df_train['race_Other'] = 0\n",
        "            df_train['race_Black'] = 0\n",
        "            df_train['race_White'] = 0\n",
        "\n",
        "        var.append(best_both.predict(df_train)[0])\n",
        "        \n",
        "    return var\n",
        "\n",
        "\n",
        "def partn_cont_var(data, column, range_list, change_gender=None, change_race=None):\n",
        "    var = []\n",
        "    tmp = data.copy()\n",
        "    for val in range_list:\n",
        "        tmp[column] = val\n",
        "        df_train = pd.get_dummies(tmp, \n",
        "                                  columns=['gender', 'race_o',  'goal_o', 'field_cd_o'])\n",
        "\n",
        "        del df_train['go_out_o']\n",
        "\n",
        "        freq_map = {'Almost_never' : 0,\n",
        "                   'Several_py': 1, \n",
        "                   'Once_pm': 2,\n",
        "                   'Twice_pm': 3,\n",
        "                   'Once_pw': 4,\n",
        "                   'Twice_pw': 5,\n",
        "                   'Several_pw': 6}\n",
        "\n",
        "        df_train.date_o = df_train.date_o.map(freq_map)\n",
        "        \n",
        "        df_train['race_o_Hispanic'] = 0\n",
        "        df_train['race_o_Other'] = 0\n",
        "        df_train['race_o_Black'] = 0\n",
        "        df_train['field_cd_o_Educ.'] = 0\n",
        "        df_train['field_cd_o_Eng.'] = 0\n",
        "        df_train['field_cd_o_Film'] = 0\n",
        "        df_train['field_cd_o_Hist.'] = 0\n",
        "        df_train['field_cd_o_Journ.'] = 0\n",
        "        df_train['field_cd_o_Law'] = 0\n",
        "        df_train['field_cd_o_Math'] = 0\n",
        "        df_train['field_cd_o_Med. Sc.'] = 0\n",
        "        df_train['field_cd_o_Nat. Sc.'] = 0\n",
        "        df_train['field_cd_o_Oth.'] = 0\n",
        "        df_train['field_cd_o_Pol. Sc.'] = 0\n",
        "        df_train['field_cd_o_Soc. Sc.'] = 0\n",
        "        df_train['field_cd_o_Soc. Wr.'] = 0\n",
        "        df_train['goal_o_IdidIt'] = 0\n",
        "        df_train['goal_o_Meet'] = 0\n",
        "        df_train['goal_o_Other'] = 0\n",
        "        df_train['goal_o_Relationship'] = 0\n",
        "\n",
        "        df_train = df_train[col_partn]\n",
        "        \n",
        "        if change_gender:\n",
        "            df_train['gender_Male'] = 0\n",
        "            \n",
        "        if change_race == 'Black':\n",
        "            df_train['race_o_Hispanic'] = 0\n",
        "            df_train['race_o_Other'] = 0\n",
        "            df_train['race_o_Black'] = 1\n",
        "            df_train['race_o_White'] = 0\n",
        "        elif change_race == 'Other':\n",
        "            df_train['race_o_Hispanic'] = 0\n",
        "            df_train['race_o_Other'] = 1\n",
        "            df_train['race_o_Black'] = 0\n",
        "            df_train['race_o_White'] = 0\n",
        "        elif change_race == 'Hispanic':\n",
        "            df_train['race_o_Hispanic'] = 1\n",
        "            df_train['race_o_Other'] = 0\n",
        "            df_train['race_o_Black'] = 0\n",
        "            df_train['race_o_White'] = 0\n",
        "\n",
        "        var.append(best_partner.predict(df_train)[0])\n",
        "        \n",
        "    return var\n",
        "\n",
        "\n",
        "def partic_cont_var(data, column, range_list, change_gender=None, change_race=None):\n",
        "    var = []\n",
        "    tmp = data.copy()\n",
        "    for val in range_list:\n",
        "        tmp[column] = val\n",
        "\n",
        "        df_train = pd.get_dummies(data, \n",
        "                          columns=['gender'])\n",
        "\n",
        "        del df_train['race']\n",
        "        del df_train['like_spread']\n",
        "        del df_train['goal']\n",
        "        del df_train['field_cd']\n",
        "        del df_train['with_book']\n",
        "        del df_train['date'] \n",
        "        del df_train['condtn']\n",
        "\n",
        "\n",
        "        freq_map = {'Almost_never' : 0,\n",
        "                   'Several_py': 1, \n",
        "                   'Once_pm': 2,\n",
        "                   'Twice_pm': 3,\n",
        "                   'Once_pw': 4,\n",
        "                   'Twice_pw': 5,\n",
        "                   'Several_pw': 6}\n",
        "\n",
        "        df_train.go_out = df_train.go_out.map(freq_map)\n",
        "        \n",
        "        df_train = df_train[partic_cols]\n",
        "        \n",
        "        if change_gender:\n",
        "            df_train['gender_Male'] = 0\n",
        "\n",
        "        var.append(best_participant.predict(df_train)[0])\n",
        "        \n",
        "    return var"
      ],
      "execution_count": null,
      "outputs": []
    },
    {
      "cell_type": "markdown",
      "metadata": {
        "_uuid": "1c888a14767cdda9f974058059d4a9e75a64f7d6",
        "id": "VwytnRjI2Fmq"
      },
      "source": [
        "Interestingly, all 3 models will predict `No` in the typical date described above. To see how silly they are, they say `No` regardless of the age, no matter how much we vary it (although it is not silly to say no to an 8 year old, otherwise it is a crime). Every prediction is indipendent of the gender, meaning that varying this feature never brings a change in the decision.\n",
        "\n",
        "The model that takes into consideration only the participants will always predict `No` to every variation of the typical date. **This model is very picky**.\n",
        "\n",
        "The other two models can change their mind in a few cases and for a few combinations of Gender and Race (meaning that if the combination is not in the next 2 graphs, the prediction remains `No`).\n",
        "\n",
        "Here we go, **how to get a yes from a machine on a typical date**:"
      ]
    },
    {
      "cell_type": "code",
      "metadata": {
        "_kg_hide-input": true,
        "trusted": true,
        "_uuid": "0e98bbb6087fdd88673cc671758401418f3e5920",
        "id": "CgCceCOK2Fmr"
      },
      "source": [
        "res_hisp_black = pd.Series(both_cont_var(typical, 'like', np.arange(1, 11), change_race='Hispanic'))\n",
        "res_other = pd.Series(both_cont_var(typical, 'like', np.arange(1, 11), change_race='Other'))\n",
        "\n",
        "res_hisp_black.plot(label='Hispanic and Black', figsize=(12,6))\n",
        "res_other.plot(label='Other race', figsize=(10,6))\n",
        "\n",
        "plt.legend()\n",
        "plt.title('Full model decision: like vs race', fontsize=18)\n",
        "plt.xlabel('Like', fontsize=12)\n",
        "plt.ylabel('Decision', fontsize=12)"
      ],
      "execution_count": null,
      "outputs": []
    },
    {
      "cell_type": "code",
      "metadata": {
        "_kg_hide-input": true,
        "trusted": true,
        "_uuid": "ad1726b2a65723c11cb909957f1602cf220f4ee7",
        "id": "1_dTndEq2Fmr"
      },
      "source": [
        "res_att_H_W = pd.Series(partn_cont_var(typical, 'attr_o', np.arange(1, 11), change_race='Hispanic'))\n",
        "res_att_B = pd.Series(partn_cont_var(typical, 'attr_o', np.arange(1, 11), change_race='Black'))\n",
        "res_att_O = pd.Series(partn_cont_var(typical, 'attr_o', np.arange(1, 11), change_race='Other'))\n",
        "\n",
        "\n",
        "res_att_H_W.plot(label='Hispanic and White', figsize=(12,6))\n",
        "res_att_B.plot(label='Black', figsize=(10,6))\n",
        "res_att_O.plot(label='Other race', figsize=(10,6))\n",
        "\n",
        "plt.legend()\n",
        "plt.title('Partner model decision: attr_o vs race', fontsize=18)\n",
        "plt.xlabel('attr_o', fontsize=12)\n",
        "plt.ylabel('Decision', fontsize=12)"
      ],
      "execution_count": null,
      "outputs": []
    },
    {
      "cell_type": "markdown",
      "metadata": {
        "trusted": false,
        "_uuid": "b8244850bd822b74e4106a8e92c3edef3ab4ab02",
        "id": "2upr099p2Fmr"
      },
      "source": [
        "A model that takes into consideration both participants and partners can change its mind, but only for Hispanic and Black people that like 8 or more. While the *partner model*, the one that wants to predict the decision of someone it has no information about, relying solely on its confidence, will expect a yes only from people it judges attractive 3 at best, then it expect only `No`. In particular, it expect only very unattractive Black participants to say `yes` to it, while White and Hispanic participants can be also mildly unattactive to make it hope for a `yes`.\n",
        "\n",
        "Very sad indeed.\n",
        "\n",
        "We could go on but we are now at version 35 and nobody wants really keep going with this.\n",
        "\n",
        "# Conclusions\n",
        "\n",
        "This kernel allowed me to explore some questionnaire data about a topic we can all more or less relate to. I would like to conclude by summarizing some of the findings.\n",
        "\n",
        "* These events attracted some segments of the population more than others, making this sample most likely not representative of the population.\n",
        "* We observed a relationship between gender, race, and how important are race and religion, with the gender having a much higher weight.\n",
        "* We have seen how the participants generally declared to not give much importance to race but were also generally more inclined to give positive feedback about their date if the partner was of their same race.\n",
        "* People of different races like almost the same things, with some exceptions (see the subsection on interests)\n",
        "* White participants are way more optimistic than their Asians counterparts.\n",
        "* We have a data science-ish way of saying *I like you as a friend* \n",
        "* Participants were fairly confident before the sessions but, in rating their expectations after every date, they looked not so confident if they liked the partner, especially if they were attractive.\n",
        "* How much the participant found their partners attractive (or other key attributes) is way more important of shared interest, race, and field of study.\n",
        "* Not knowing how much the date is appreciated (with respect to the key attributes above) makes a machine guess the outcome of the date with significantly less accuracy. But the more you know about the partner, the better (in terms of accuracy of the prediction)\n",
        "* It is more difficult to predict what an *art lover* (or movies, or clubbing) will decide after 4 minutes of date, while it is very possible, for example, for a *tv lover*.\n",
        "* Predicting the decision of someone without using their information is very hard and even harder if they are males.\n",
        "* Even a machine *thinks* that people will say `yes` if they find their date very attractive and `no` if they don't more than it actually happens. On the other side, it ignores how people actually like very sincere dates.\n",
        "* On a typical date, these models are very negative and picky. \n",
        "* At least they behave in the same way for Males and Females and ignore almost always the race of us human to make their prediction (which can go as high as 86% in accuracy).\n",
        "\n",
        "Thank you for reading this far, it has been a great exercise for my EDA skills and I am very glad of the support while I was drafting my 35 versions.\n",
        "\n",
        "Please keep the feedback coming and improve this kernel as much as you like.\n",
        "\n",
        "It has been a lot of fun for me, I hope for you too\n",
        " \n",
        " Cheers"
      ]
    }
  ]
}