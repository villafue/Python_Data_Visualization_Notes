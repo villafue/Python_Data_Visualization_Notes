{
  "nbformat": 4,
  "nbformat_minor": 0,
  "metadata": {
    "colab": {
      "name": "Women.ipynb",
      "provenance": [],
      "authorship_tag": "ABX9TyODOpCu0MNvL4kzV4TWig6U",
      "include_colab_link": true
    },
    "kernelspec": {
      "name": "python3",
      "display_name": "Python 3"
    }
  },
  "cells": [
    {
      "cell_type": "markdown",
      "metadata": {
        "id": "view-in-github",
        "colab_type": "text"
      },
      "source": [
        "<a href=\"https://colab.research.google.com/github/villafue/Python_Data_Visualization_Notes/blob/master/Data%20Storytelling/Craft%20Story%20Dataset/Women.ipynb\" target=\"_parent\"><img src=\"https://colab.research.google.com/assets/colab-badge.svg\" alt=\"Open In Colab\"/></a>"
      ]
    },
    {
      "cell_type": "markdown",
      "metadata": {
        "id": "hrJeo2iBwFEy"
      },
      "source": [
        "1. [Medium Article](https://towardsdatascience.com/https-medium-com-melanietsang-do-we-feel-undervalued-in-the-dating-market-153c03eb6dc8)\r\n",
        "\r\n",
        "2. [Kaggle Dataset](https://www.kaggle.com/annavictoria/speed-dating-experiment)\r\n",
        "\r\n",
        "3. [EDA in R](https://www.kaggle.com/ambarish/eda-speed-dating-experiment)\r\n",
        "\r\n",
        "4. [Notebook Example](https://www.kaggle.com/aeshen/the-secret-to-getting-the-second-date)\r\n",
        "\r\n",
        "5. [DS Book of Love](https://www.kaggle.com/lucabasa/the-data-science-book-of-love)"
      ]
    },
    {
      "cell_type": "code",
      "metadata": {
        "id": "4Kor_8fnvxiI"
      },
      "source": [
        ""
      ],
      "execution_count": null,
      "outputs": []
    }
  ]
}