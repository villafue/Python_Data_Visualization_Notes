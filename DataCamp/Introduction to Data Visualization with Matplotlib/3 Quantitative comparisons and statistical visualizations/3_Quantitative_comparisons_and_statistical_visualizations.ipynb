{
  "nbformat": 4,
  "nbformat_minor": 0,
  "metadata": {
    "colab": {
      "name": "3 Quantitative comparisons and statistical visualizations.ipynb",
      "provenance": [],
      "authorship_tag": "ABX9TyM6yZ65fsafVsTvnrX/enU3",
      "include_colab_link": true
    },
    "kernelspec": {
      "name": "python3",
      "display_name": "Python 3"
    }
  },
  "cells": [
    {
      "cell_type": "markdown",
      "metadata": {
        "id": "view-in-github",
        "colab_type": "text"
      },
      "source": [
        "<a href=\"https://colab.research.google.com/github/villafue/Python_Data_Visualization_Notes/blob/master/DataCamp/Introduction%20to%20Data%20Visualization%20with%20Matplotlib/3%20Quantitative%20comparisons%20and%20statistical%20visualizations/3_Quantitative_comparisons_and_statistical_visualizations.ipynb\" target=\"_parent\"><img src=\"https://colab.research.google.com/assets/colab-badge.svg\" alt=\"Open In Colab\"/></a>"
      ]
    },
    {
      "cell_type": "markdown",
      "metadata": {
        "id": "QWXFnEfbkQNU"
      },
      "source": [
        "# Quantitative comparisons and statistical visualizations\r\n",
        "\r\n",
        "Visualizations can be used to compare data in a quantitative manner. This chapter explains several methods for quantitative visualizations."
      ]
    },
    {
      "cell_type": "code",
      "metadata": {
        "id": "5Uf54BExkMZb"
      },
      "source": [
        ""
      ],
      "execution_count": null,
      "outputs": []
    }
  ]
}