{
  "nbformat": 4,
  "nbformat_minor": 0,
  "metadata": {
    "colab": {
      "name": "1 Introduction to Matplotlib.ipynb",
      "provenance": [],
      "authorship_tag": "ABX9TyNnzcAoldhn5HrPTtV1pUNq",
      "include_colab_link": true
    },
    "kernelspec": {
      "name": "python3",
      "display_name": "Python 3"
    }
  },
  "cells": [
    {
      "cell_type": "markdown",
      "metadata": {
        "id": "view-in-github",
        "colab_type": "text"
      },
      "source": [
        "<a href=\"https://colab.research.google.com/github/villafue/Python_Data_Visualization_Notes/blob/master/DataCamp/Introduction%20to%20Data%20Visualization%20with%20Matplotlib/1%20Introduction%20to%20Matplotlib/1_Introduction_to_Matplotlib.ipynb\" target=\"_parent\"><img src=\"https://colab.research.google.com/assets/colab-badge.svg\" alt=\"Open In Colab\"/></a>"
      ]
    },
    {
      "cell_type": "markdown",
      "metadata": {
        "id": "F-siRiafEWwJ"
      },
      "source": [
        "Introduction to Matplotlib\r\n",
        "\r\n",
        "This chapter introduces the Matplotlib visualization library and demonstrates how to use it with data."
      ]
    },
    {
      "cell_type": "code",
      "metadata": {
        "id": "dSIZsLyuERCd"
      },
      "source": [
        ""
      ],
      "execution_count": null,
      "outputs": []
    }
  ]
}