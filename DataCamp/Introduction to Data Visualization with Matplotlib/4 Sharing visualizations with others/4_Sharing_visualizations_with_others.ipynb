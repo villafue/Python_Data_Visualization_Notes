{
  "nbformat": 4,
  "nbformat_minor": 0,
  "metadata": {
    "colab": {
      "name": "4 Sharing visualizations with others.ipynb",
      "provenance": [],
      "authorship_tag": "ABX9TyPicWQKGOgDzSCVVYcP87jE",
      "include_colab_link": true
    },
    "kernelspec": {
      "name": "python3",
      "display_name": "Python 3"
    }
  },
  "cells": [
    {
      "cell_type": "markdown",
      "metadata": {
        "id": "view-in-github",
        "colab_type": "text"
      },
      "source": [
        "<a href=\"https://colab.research.google.com/github/villafue/Python_Data_Visualization_Notes/blob/master/DataCamp/Introduction%20to%20Data%20Visualization%20with%20Matplotlib/4%20Sharing%20visualizations%20with%20others/4_Sharing_visualizations_with_others.ipynb\" target=\"_parent\"><img src=\"https://colab.research.google.com/assets/colab-badge.svg\" alt=\"Open In Colab\"/></a>"
      ]
    },
    {
      "cell_type": "markdown",
      "metadata": {
        "id": "6eZQHb1EGMJy"
      },
      "source": [
        "# Sharing visualizations with others"
      ]
    },
    {
      "cell_type": "code",
      "metadata": {
        "id": "JTh3WKylGHx9"
      },
      "source": [
        ""
      ],
      "execution_count": null,
      "outputs": []
    }
  ]
}