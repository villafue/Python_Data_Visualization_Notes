{
  "nbformat": 4,
  "nbformat_minor": 0,
  "metadata": {
    "colab": {
      "name": "Customizing Plots in PLT",
      "provenance": [],
      "toc_visible": true,
      "authorship_tag": "ABX9TyNPqcz+N0WzKLkY0ROohPiK",
      "include_colab_link": true
    },
    "kernelspec": {
      "name": "python3",
      "display_name": "Python 3"
    }
  },
  "cells": [
    {
      "cell_type": "markdown",
      "metadata": {
        "id": "view-in-github",
        "colab_type": "text"
      },
      "source": [
        "<a href=\"https://colab.research.google.com/github/villafue/Python_Data_Visualization_Notes/blob/master/DataCamp/Introduction%20to%20Data%20Visualization%20in%20Python/1%20Customizing%20plots/1%20Customizing%20plots.ipynb\" target=\"_parent\"><img src=\"https://colab.research.google.com/assets/colab-badge.svg\" alt=\"Open In Colab\"/></a>"
      ]
    },
    {
      "cell_type": "markdown",
      "metadata": {
        "id": "yTp28Ybcw-tp"
      },
      "source": [
        "# Using axes()\n",
        "\n",
        "Rather than overlaying line plots on common axes, you may prefer to plot different line plots on distinct axes. The command plt.axes() is one way to do this (but it requires specifying coordinates relative to the size of the figure).\n",
        "\n",
        "In calling plt.axes([xlo, ylo, width, height]), a set of axes is created and made active with lower corner at coordinates (xlo, ylo) of the specified width and height. Note that these coordinates can be passed to plt.axes() in the form of a list or a tuple.\n",
        "\n",
        "The coordinates and lengths are values between 0 and 1 representing lengths relative to the dimensions of the figure. After issuing a plt.axes() command, plots generated are put in that set of axes.\n"
      ]
    },
    {
      "cell_type": "code",
      "metadata": {
        "id": "ls4oLCUTqQIm"
      },
      "source": [
        "# Create plot axes for the first line plot\n",
        "plt.axes([0.05, 0.05, 0.425, 0.9])\n",
        "\n",
        "# Plot in blue the % of degrees awarded to women in the Physical Sciences\n",
        "plt.plot(year, physical_sciences, color='blue')\n",
        "\n",
        "# Create plot axes for the second line plot\n",
        "plt.axes([0.525, 0.05, 0.425, 0.9])\n",
        "\n",
        "# Plot in red the % of degrees awarded to women in Computer Science\n",
        "plt.plot(year, computer_science, color='red')\n",
        "\n",
        "# Display the plot\n",
        "plt.show()"
      ],
      "execution_count": null,
      "outputs": []
    },
    {
      "cell_type": "markdown",
      "metadata": {
        "id": "uTOzg9GtyIX_"
      },
      "source": [
        "# Using subplot() \n",
        "\n",
        "The command plt.axes() requires a lot of effort to use well because the coordinates of the axes need to be set manually. A better alternative is to use plt.subplot() to determine the layout automatically.\n",
        "\n",
        "Rather than using plt.axes() to explicitly lay out the axes, you will use plt.subplot(m, n, k) to make the subplot grid of dimensions m by n and to make the kth subplot active (subplots are numbered starting from 1 row-wise from the top left corner of the subplot grid)."
      ]
    },
    {
      "cell_type": "code",
      "metadata": {
        "id": "ajSajf_Gy0t9"
      },
      "source": [
        "# Create a figure with 1x2 subplot and make the left subplot active\n",
        "plt.subplot(1, 2, 1)\n",
        "\n",
        "# Plot in blue the % of degrees awarded to women in the Physical Sciences\n",
        "plt.plot(year, physical_sciences, color='blue')\n",
        "plt.title('Physical Sciences')\n",
        "\n",
        "# Make the right subplot active in the current 1x2 subplot grid\n",
        "plt.subplot(1, 2, 2)\n",
        "\n",
        "# Plot in red the % of degrees awarded to women in Computer Science\n",
        "plt.plot(year, computer_science, color='red')\n",
        "plt.title('Computer Science')\n",
        "\n",
        "# Use plt.tight_layout() to improve the spacing between subplots\n",
        "plt.tight_layout()\n",
        "plt.show()\n"
      ],
      "execution_count": null,
      "outputs": []
    },
    {
      "cell_type": "code",
      "metadata": {
        "id": "ZnFJD9przlmi"
      },
      "source": [
        "# Create a figure with 2x2 subplot layout and make the top left subplot active\n",
        "plt.subplot(2, 2, 1)\n",
        "\n",
        "# Plot in blue the % of degrees awarded to women in the Physical Sciences\n",
        "plt.plot(year, physical_sciences, color='blue')\n",
        "plt.title('Physical Sciences')\n",
        "\n",
        "# Make the top right subplot active in the current 2x2 subplot grid \n",
        "plt.subplot(2, 2, 2)\n",
        "\n",
        "# Plot in red the % of degrees awarded to women in Computer Science\n",
        "plt.plot(year, computer_science, color='red')\n",
        "plt.title('Computer Science')\n",
        "\n",
        "# Make the bottom left subplot active in the current 2x2 subplot grid\n",
        "plt.subplot(2, 2, 3)\n",
        "\n",
        "# Plot in green the % of degrees awarded to women in Health Professions\n",
        "plt.plot(year, health, color='green')\n",
        "plt.title('Health Professions')\n",
        "\n",
        "# Make the bottom right subplot active in the current 2x2 subplot grid\n",
        "plt.subplot(2, 2, 4)\n",
        "\n",
        "# Plot in yellow the % of degrees awarded to women in Education\n",
        "plt.plot(year, education, color='yellow')\n",
        "plt.title('Education')\n",
        "\n",
        "# Improve the spacing between subplots and display them\n",
        "plt.tight_layout()\n",
        "plt.show()\n"
      ],
      "execution_count": null,
      "outputs": []
    },
    {
      "cell_type": "markdown",
      "metadata": {
        "id": "Ovqe_HtU0O_B"
      },
      "source": [
        "# Using xlim(), ylim()\n",
        "\n",
        "You will now create the same figure as in the previous exercise using plt.plot(), this time setting the axis extents using plt.xlim() and plt.ylim(). These commands allow you to either zoom or expand the plot or to set the axis ranges to include important values (such as the origin)."
      ]
    },
    {
      "cell_type": "code",
      "metadata": {
        "id": "89O9TViQ1M3F"
      },
      "source": [
        "# Plot the % of degrees awarded to women in Computer Science and the Physical Sciences\n",
        "plt.plot(year,computer_science, color='red') \n",
        "plt.plot(year, physical_sciences, color='blue')\n",
        "\n",
        "# Add the axis labels\n",
        "plt.xlabel('Year')\n",
        "plt.ylabel('Degrees awarded to women (%)')\n",
        "\n",
        "# Set the x-axis range\n",
        "plt.xlim((1990, 2010))\n",
        "\n",
        "# Set the y-axis range\n",
        "plt.ylim((0, 50))\n",
        "\n",
        "# Add a title and display the plot\n",
        "plt.title('Degrees awarded to women (1990-2010)\\nComputer Science (red)\\nPhysical Sciences (blue)')\n",
        "plt.show()\n",
        "\n",
        "# Save the image as 'xlim_and_ylim.png'\n",
        "plt.savefig('xlim_and_ylim.png')\n"
      ],
      "execution_count": null,
      "outputs": []
    },
    {
      "cell_type": "markdown",
      "metadata": {
        "id": "6GNAZ2lw1ml1"
      },
      "source": [
        "# Using axis()\n",
        "\n",
        "Using plt.xlim() and plt.ylim() are useful for setting the axis limits individually. In this exercise, you will see how you can pass a 4-tuple to plt.axis() to set limits for both axes at once. For example, plt.axis((1980,1990,0,75)) would set the extent of the x-axis to the period between 1980 and 1990, and would set the y-axis extent from 0 to 75% degrees award.\n"
      ]
    },
    {
      "cell_type": "code",
      "metadata": {
        "id": "lKE_vPRY1uZI"
      },
      "source": [
        "# Plot in blue the % of degrees awarded to women in Computer Science\n",
        "plt.plot(year,computer_science, color='blue')\n",
        "\n",
        "# Plot in red the % of degrees awarded to women in the Physical Sciences\n",
        "plt.plot(year, physical_sciences,color='red')\n",
        "\n",
        "# Set the x-axis and y-axis limits\n",
        "plt.axis((1990, 2010, 0, 50))\n",
        "\n",
        "# Show the figure\n",
        "plt.show()\n",
        "\n",
        "# Save the figure as 'axis_limits.png'\n",
        "plt.savefig('axis_limits.png')\n"
      ],
      "execution_count": null,
      "outputs": []
    },
    {
      "cell_type": "markdown",
      "metadata": {
        "id": "2HhTqXkQ5d27"
      },
      "source": [
        "# Using legend()\n",
        "\n",
        "Legends are useful for distinguishing between multiple datasets displayed on common axes. The relevant data are created using specific line colors or markers in various plot commands. Using the keyword argument label in the plotting function associates a string to use in a legend. Specifying the keyword argument loc determines where the legend will be placed.\n",
        "\n"
      ]
    },
    {
      "cell_type": "code",
      "metadata": {
        "id": "2RnlJ32k6FxL"
      },
      "source": [
        "# Specify the label 'Computer Science'\n",
        "plt.plot(year, computer_science, color='red', label='Computer Science') \n",
        "\n",
        "# Specify the label 'Physical Sciences' \n",
        "plt.plot(year, physical_sciences, color='blue', label='Physical Sciences')\n",
        "\n",
        "# Add a legend at the lower center\n",
        "plt.legend(loc='lower center')\n",
        "\n",
        "# Add axis labels and title\n",
        "plt.xlabel('Year')\n",
        "plt.ylabel('Enrollment (%)')\n",
        "plt.title('Undergraduate enrollment of women')\n",
        "plt.show()\n"
      ],
      "execution_count": null,
      "outputs": []
    },
    {
      "cell_type": "markdown",
      "metadata": {
        "id": "RD0TcgDl6OJ5"
      },
      "source": [
        "# Using annotate()\n",
        "\n",
        "It is often useful to annotate a simple plot to provide context. This makes the plot more readable and can highlight specific aspects of the data. Annotations like text and arrows can be used to emphasize specific observations.\n",
        "\n",
        "To enable an arrow, set arrowprops=dict(facecolor='black'). The arrow will point to the location given by xy and the text will appear at the location given by xytext.\n",
        "\n"
      ]
    },
    {
      "cell_type": "code",
      "metadata": {
        "id": "OX-Wlfi-6Whi"
      },
      "source": [
        "# Compute the maximum enrollment of women in Computer Science: cs_max\n",
        "cs_max = computer_science.max()\n",
        "\n",
        "'''\n",
        "Calculate the year in which there was maximum enrollment of women in Computer Science: yr_max\n",
        "To do so, you will need to retrieve the index of the highest value in the computer_science array using .argmax(), \n",
        "and then use this value to index the year array.\n",
        "'''\n",
        "yr_max = year[computer_science.argmax()]\n",
        "\n",
        "# Plot with legend as before\n",
        "plt.plot(year, computer_science, color='red', label='Computer Science') \n",
        "plt.plot(year, physical_sciences, color='blue', label='Physical Sciences')\n",
        "plt.legend(loc='lower right')\n",
        "\n",
        "'''\n",
        "Add a black arrow annotation\n",
        "s = label text (not needed to specify but ie. \"Maximum\")\n",
        "xy = coordinates to annotate\n",
        "xytext = coordinates of label\n",
        "arrowprops = controls drawing of arrow (use dictionary)\n",
        "'''\n",
        "plt.annotate('Maximum', xy=(yr_max, cs_max), xytext=(yr_max+5, cs_max+5), arrowprops={'facecolor':'black'})\n",
        "\n",
        "# Add axis labels and title\n",
        "plt.xlabel('Year')\n",
        "plt.ylabel('Enrollment (%)')\n",
        "plt.title('Undergraduate enrollment of women')\n",
        "plt.show()\n",
        "\n"
      ],
      "execution_count": null,
      "outputs": []
    },
    {
      "cell_type": "markdown",
      "metadata": {
        "id": "8CSj8lg_9-xx"
      },
      "source": [
        "# Modifying styles\n",
        "\n",
        "Matplotlib comes with a number of different stylesheets to customize the overall look of different plots. To activate a particular stylesheet you can simply call plt.style.use() with the name of the style sheet you want. To list all the available style sheets you can execute: print(plt.style.available)."
      ]
    },
    {
      "cell_type": "markdown",
      "metadata": {
        "id": "PRijSstJ-W2j"
      },
      "source": [
        "# Culmination of Chapter 1 is below\n",
        "![Follow Link to see Plot](https://drive.google.com/file/d/171aB13ZdD1RhOzqZmo3y2yYmwn9-dvw2/view?usp=sharing)\n",
        "\n",
        "[link text](https://drive.google.com/file/d/171aB13ZdD1RhOzqZmo3y2yYmwn9-dvw2/view?usp=sharing)"
      ]
    },
    {
      "cell_type": "code",
      "metadata": {
        "id": "HtWZKRao-HtD"
      },
      "source": [
        "# Import matplotlib.pyplot\n",
        "import matplotlib.pyplot as plt\n",
        "\n",
        "# Set the style to 'ggplot'\n",
        "plt.style.use('ggplot')\n",
        "\n",
        "# Create a figure with 2x2 subplot layout\n",
        "plt.subplot(2, 2, 1) \n",
        "\n",
        "# Plot the enrollment % of women in the Physical Sciences\n",
        "plt.plot(year, physical_sciences, color='blue')\n",
        "plt.title('Physical Sciences')\n",
        "\n",
        "# Plot the enrollment % of women in Computer Science\n",
        "plt.subplot(2, 2, 2)\n",
        "plt.plot(year, computer_science, color='red')\n",
        "plt.title('Computer Science')\n",
        "\n",
        "# Add annotation\n",
        "cs_max = computer_science.max()\n",
        "yr_max = year[computer_science.argmax()]\n",
        "plt.annotate('Maximum', xy=(yr_max, cs_max), xytext=(yr_max-1, cs_max-10), arrowprops=dict(facecolor='black'))\n",
        "\n",
        "# Plot the enrollmment % of women in Health professions\n",
        "plt.subplot(2, 2, 3)\n",
        "plt.plot(year, health, color='green')\n",
        "plt.title('Health Professions')\n",
        "\n",
        "# Plot the enrollment % of women in Education\n",
        "plt.subplot(2, 2, 4)\n",
        "plt.plot(year, education, color='yellow')\n",
        "plt.title('Education')\n",
        "\n",
        "# Improve spacing between subplots and display them\n",
        "plt.tight_layout()\n",
        "plt.show()"
      ],
      "execution_count": null,
      "outputs": []
    }
  ]
}