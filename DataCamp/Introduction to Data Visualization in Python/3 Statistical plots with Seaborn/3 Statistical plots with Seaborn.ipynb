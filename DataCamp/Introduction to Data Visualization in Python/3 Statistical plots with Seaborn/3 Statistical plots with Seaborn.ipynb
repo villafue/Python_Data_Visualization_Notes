{
  "nbformat": 4,
  "nbformat_minor": 0,
  "metadata": {
    "colab": {
      "name": "Visualizing Regressions (SNS).ipynb",
      "provenance": [],
      "toc_visible": true,
      "authorship_tag": "ABX9TyPOsMUjn0XGbtG//ywas7v4",
      "include_colab_link": true
    },
    "kernelspec": {
      "name": "python3",
      "display_name": "Python 3"
    }
  },
  "cells": [
    {
      "cell_type": "markdown",
      "metadata": {
        "id": "view-in-github",
        "colab_type": "text"
      },
      "source": [
        "<a href=\"https://colab.research.google.com/github/villafue/Python_Data_Visualization_Notes/blob/master/DataCamp/Introduction%20to%20Data%20Visualization%20in%20Python/3%20Statistical%20plots%20with%20Seaborn/3%20Statistical%20plots%20with%20Seaborn.ipynb\" target=\"_parent\"><img src=\"https://colab.research.google.com/assets/colab-badge.svg\" alt=\"Open In Colab\"/></a>"
      ]
    },
    {
      "cell_type": "markdown",
      "metadata": {
        "id": "CR8e1665aZoP"
      },
      "source": [
        "# Simple linear regressions\n",
        "\n",
        "As you have seen, seaborn provides a convenient interface to generate complex and great-looking statistical plots. One of the simplest things you can do using seaborn is to fit and visualize a simple linear regression between two variables using sns.lmplot().\n",
        "\n",
        "One difference between seaborn and regular matplotlib plotting is that you can pass pandas DataFrames directly to the plot and refer to each column by name. For example, if you were to plot the column 'price' vs the column 'area' from a DataFrame df, you could call sns.lmplot(x='area', y='price', data=df)."
      ]
    },
    {
      "cell_type": "code",
      "metadata": {
        "id": "AEFxY5moaVJr"
      },
      "source": [
        "# Import plotting modules\n",
        "import matplotlib.pyplot as plt\n",
        "import seaborn as sns\n",
        "\n",
        "# Plot a linear regression between 'weight' and 'hp'\n",
        "sns.lmplot(x='weight', y='hp', data=auto)\n",
        "\n",
        "# Display the plot\n",
        "plt.show()\n"
      ],
      "execution_count": null,
      "outputs": []
    },
    {
      "cell_type": "markdown",
      "metadata": {
        "id": "XSsBbaUlerHo"
      },
      "source": [
        "# Plotting residuals of a regression\n",
        "\n",
        "Often, you don't just want to see the regression itself but also see the residuals to get a better idea how well the regression captured the data. Seaborn provides sns.residplot() for that purpose, visualizing how far datapoints diverge from the regression line.\n",
        "\n",
        "In this exercise, you will visualize the residuals of a regression between the 'hp' column (horse power) and the 'mpg' column (miles per gallon) of the auto DataFrame used previously."
      ]
    },
    {
      "cell_type": "code",
      "metadata": {
        "id": "VqCWnOnhfdbo"
      },
      "source": [
        "# Import plotting modules\n",
        "import matplotlib.pyplot as plt\n",
        "import seaborn as sns\n",
        "\n",
        "# Generate a green residual plot of the regression between 'hp' and 'mpg'\n",
        "sns.residplot(x='hp', y='mpg', data=auto, color='green')\n",
        "\n",
        "# Display the plot\n",
        "plt.show()\n"
      ],
      "execution_count": null,
      "outputs": []
    },
    {
      "cell_type": "markdown",
      "metadata": {
        "id": "O_4jdIPXf0g_"
      },
      "source": [
        "# Higher-order regressions\n",
        "\n",
        "When there are more complex relationships between two variables, a simple first order regression is often not sufficient to accurately capture the relationship between the variables. Seaborn makes it simple to compute and visualize regressions of varying orders.\n",
        "\n",
        "Here, you will plot a second order regression between the horse power ('hp') and miles per gallon ('mpg') using sns.regplot() (the function sns.lmplot() is a higher-level interface to sns.regplot()). However, before plotting this relationship, compare how the residual changes depending on the order of the regression. Does a second order regression perform significantly better than a simple linear regression?\n",
        "\n",
        "A principal difference between sns.lmplot() and sns.regplot() is the way in which matplotlib options are passed (sns.regplot() is more permissive).\n",
        "\n",
        "For both sns.lmplot() and sns.regplot(), the keyword order is used to control the order of polynomial regression.\n",
        "\n",
        "The function sns.regplot() uses the argument scatter=None to prevent plotting the scatter plot points again."
      ]
    },
    {
      "cell_type": "code",
      "metadata": {
        "id": "lHw53iRlf6DP"
      },
      "source": [
        "'''\n",
        "Higher order essentially makes the line curve vs. a first order which is straight.\n",
        "This may fit the data better if it curves or does not follow a neat linear path.\n",
        "'''\n",
        "# Generate a scatter plot of 'weight' and 'mpg' using red circles\n",
        "plt.scatter(auto['weight'], auto['mpg'], label='data', color='red', marker='o')\n",
        "\n",
        "# Plot in blue a linear regression of order 1 between 'weight' and 'mpg'\n",
        "sns.regplot(x='weight', y='mpg', data=auto, scatter=None, color='blue', label='First Order')\n",
        "\n",
        "# Plot in green a linear regression of order 2 between 'weight' and 'mpg'\n",
        "sns.regplot(x='weight', y='mpg', data=auto, scatter=None, color='green', order=2, label='Second Order')\n",
        "\n",
        "# Add a legend and display the plot\n",
        "plt.legend(loc='upper right')\n",
        "plt.show()\n"
      ],
      "execution_count": null,
      "outputs": []
    },
    {
      "cell_type": "markdown",
      "metadata": {
        "id": "HA5TwLR6ircr"
      },
      "source": [
        "# Grouping linear regressions by hue\n",
        "\n",
        "Often it is useful to compare and contrast trends between different groups. Seaborn makes it possible to apply linear regressions separately for subsets of the data by applying a groupby operation. Using the hue argument, you can specify a categorical variable by which to group data observations. The distinct groups of points are used to produce distinct regressions with different hues in the plot.\n",
        "\n",
        "In the automobile dataset - which has been pre-loaded here as auto - you can view the relationship between weight ('weight') and horsepower ('hp') of the cars and group them by their origin ('origin'), giving you a quick visual indication how the relationship differs by continent."
      ]
    },
    {
      "cell_type": "code",
      "metadata": {
        "id": "rKgHVY38iw05"
      },
      "source": [
        "# Plot a linear regression between 'weight' and 'hp', with a hue of 'origin' and palette of 'Set1'\n",
        "sns.lmplot(x='weight', y='hp', data=auto, hue='origin', palette='Set1')\n",
        "\n",
        "# Display the plot\n",
        "plt.show()\n"
      ],
      "execution_count": null,
      "outputs": []
    },
    {
      "cell_type": "markdown",
      "metadata": {
        "id": "rWi7G7Ttjp-t"
      },
      "source": [
        "# Grouping linear regressions by row or column\n",
        "\n",
        "Rather than overlaying linear regressions of grouped data in the same plot, we may want to use a grid of subplots. The sns.lmplot() accepts the arguments row and/or col to arrangements of subplots for regressions.\n",
        "\n",
        "You'll use the automobile dataset again and, this time, you'll use the keyword argument row to display the subplots organized in rows. That is, you'll produce horsepower vs. weight regressions grouped by continent of origin in separate subplots stacked vertically."
      ]
    },
    {
      "cell_type": "code",
      "metadata": {
        "id": "96qOB9bQjtqC"
      },
      "source": [
        "# Plot linear regressions between 'weight' and 'hp' grouped row-wise by 'origin'\n",
        "sns.lmplot(x='weight',y='hp',data=auto,row='origin')\n",
        "# Display the plot\n",
        "plt.show()\n"
      ],
      "execution_count": null,
      "outputs": []
    },
    {
      "cell_type": "markdown",
      "metadata": {
        "id": "rUC4bSbZkrOp"
      },
      "source": [
        "# Constructing strip plots\n",
        "\n",
        "Regressions are useful to understand relationships between two continuous variables. Often we want to explore how the distribution of a single continuous variable is affected by a second categorical variable. Seaborn provides a variety of plot types to perform these types of comparisons between univariate distributions.\n",
        "\n",
        "The strip plot is one way of visualizing this kind of data. It plots the distribution of variables for each category as individual datapoints. For vertical strip plots (the default), distributions of continuous values are laid out parallel to the y-axis and the distinct categories are spaced out along the x-axis.\n",
        "\n",
        "For example, sns.stripplot(x='type', y='length', data=df) produces a sequence of vertical strip plots of length distributions grouped by type (assuming length is a continuous column and type is a categorical column of the DataFrame df).\n",
        "\n",
        "Overlapping points can be difficult to distinguish in strip plots. The argument jitter=True helps spread out overlapping points.\n",
        "\n",
        "Other matplotlib arguments can be passed to sns.stripplot(), e.g., marker, color, size, etc."
      ]
    },
    {
      "cell_type": "code",
      "metadata": {
        "id": "899RkmtI0rSg"
      },
      "source": [
        "# Make a strip plot of 'hp' grouped by 'cyl'\n",
        "plt.subplot(2,1,1)\n",
        "sns.stripplot(x='cyl', y='hp', data=auto)\n",
        "\n",
        "# Make the strip plot again using jitter and a smaller point size\n",
        "'''\n",
        "jitters space the dots around, and size=x makes the dots smaller. Also, x needs\n",
        "to be a categorical column and y continuous to make the group by work\n",
        "'''\n",
        "plt.subplot(2,1,2)\n",
        "sns.stripplot(x='cyl', y='hp', jitter=True, size=3, data=auto)\n",
        "\n",
        "# Display the plot\n",
        "plt.show()\n"
      ],
      "execution_count": null,
      "outputs": []
    },
    {
      "cell_type": "markdown",
      "metadata": {
        "id": "mtfazzW92dNf"
      },
      "source": [
        "# Constructing swarm plots\n",
        "As you have seen, a strip plot can be visually crowded even with jitter applied and smaller point sizes. An alternative is provided by the swarm plot (sns.swarmplot()), which is very similar but spreads out the points to avoid overlap and provides a better visual overview of the data.\n",
        "\n",
        "The syntax for sns.swarmplot() is similar to that of sns.stripplot(), e.g., sns.swarmplot(x='type', y='length', data=df).\n",
        "\n",
        "The orientation for the continuous variable in the strip/swarm plot can be inferred from the choice of the columns x and y from the DataFrame data. The orientation can be set explicitly using orient='h' (horizontal) or orient='v' (vertical).\n",
        "\n",
        "Another grouping can be added in using the hue keyword. For instance, using \n",
        "\n",
        "sns.swarmplot(x='type', y='length', data=df, hue='build year') \n",
        "\n",
        "makes a swarm plot from the DataFrame df with the 'length' column values spread out vertically, horizontally grouped by the column 'type' and each point colored by the categorical column 'build year'.\n",
        "\n",
        "In this exercise, you'll use the auto DataFrame again to illustrate the use of sns.swarmplot() with grouping by hue and with explicit specification of the orientation using the keyword orient."
      ]
    },
    {
      "cell_type": "code",
      "metadata": {
        "id": "Ea-AWnxP27tJ"
      },
      "source": [
        "# Generate a swarm plot of 'hp' grouped horizontally by 'cyl'  \n",
        "plt.subplot(2,1,1)\n",
        "sns.swarmplot(x='cyl', y='hp', data=auto)\n",
        "\n",
        "# Generate a swarm plot of 'hp' grouped vertically by 'cyl' with a hue of 'origin'\n",
        "plt.subplot(2,1,2)\n",
        "sns.swarmplot(x='hp', y='cyl', orient='h', data=auto, hue='origin')\n",
        "\n",
        "# Display the plot\n",
        "plt.show()\n",
        "\n"
      ],
      "execution_count": null,
      "outputs": []
    },
    {
      "cell_type": "markdown",
      "metadata": {
        "id": "lMmmWxac6CDE"
      },
      "source": [
        "# Constructing violin plots\n",
        "\n",
        "Both strip and swarm plots visualize all the datapoints. For large datasets, this can result in significant overplotting. Therefore, it is often useful to use plot types which reduce a dataset to more descriptive statistics and provide a good summary of the data. Box and whisker plots are a classic way of summarizing univariate distributions but seaborn provides a more sophisticated extension of the standard box plot, called a violin plot.\n",
        "\n",
        "Here, you will produce violin plots of the distribution of horse power ('hp') by the number of cylinders ('cyl'). Additionally, you will combine two different plot types by overlaying a strip plot on the violin plot."
      ]
    },
    {
      "cell_type": "code",
      "metadata": {
        "id": "X_KGICQb6GRm"
      },
      "source": [
        "# Generate a violin plot of 'hp' grouped horizontally by 'cyl'\n",
        "plt.subplot(2,1,1)\n",
        "sns.violinplot(x='cyl', y='hp', data=auto)\n",
        "\n",
        "# Generate the same violin plot again with a color of 'lightgray' and without inner annotations\n",
        "plt.subplot(2,1,2)\n",
        "sns.violinplot(x='cyl', y='hp', data=auto, inner=None, color='lightgray')\n",
        "\n",
        "# Overlay a strip plot on the violin plot\n",
        "sns.stripplot(x='cyl', y='hp', data=auto, jitter=True, size=1.5)\n",
        "\n",
        "# Display the plot\n",
        "plt.show()"
      ],
      "execution_count": null,
      "outputs": []
    },
    {
      "cell_type": "markdown",
      "metadata": {
        "id": "7EzwG7kw7Ytd"
      },
      "source": [
        "# Plotting joint distributions (1)\n",
        "\n",
        "There are numerous strategies to visualize how pairs of continuous random variables vary jointly. Regression and residual plots are one strategy. Another is to visualize a bivariate distribution.\n",
        "\n",
        "Seaborn's sns.jointplot() provides means of visualizing bivariate distributions. The basic calling syntax is similar to that of sns.lmplot(). By default, calling sns.jointplot(x, y, data) renders a few things:\n",
        "\n",
        "A scatter plot using the specified columns x and y from the DataFrame data.\n",
        "\n",
        "A (univariate) histogram along the top of the scatter plot showing distribution of the column x.\n",
        "\n",
        "A (univariate) histogram along the right of the scatter plot showing distribution of the column y."
      ]
    },
    {
      "cell_type": "code",
      "metadata": {
        "id": "tk-rfJMy8fVB"
      },
      "source": [
        "# Generate a joint plot of 'hp' and 'mpg'\n",
        "sns.jointplot(x='hp', y='mpg', data=auto,)\n",
        "# Display the plot\n",
        "plt.show()\n"
      ],
      "execution_count": null,
      "outputs": []
    },
    {
      "cell_type": "markdown",
      "metadata": {
        "id": "VIGfmzkY6FK5"
      },
      "source": [
        "# Plotting joint distributions (2)\n",
        "\n",
        "The seaborn function sns.jointplot() has a parameter kind to specify how to visualize the joint variation of two continuous random variables (i.e., two columns of a DataFrame)\n",
        "\n",
        "kind='scatter' uses a scatter plot of the data points\n",
        "\n",
        "kind='reg' uses a regression plot (default order 1)\n",
        "\n",
        "kind='resid' uses a residual plot\n",
        "\n",
        "kind='kde' uses a kernel density estimate of the joint distribution\n",
        "\n",
        "kind='hex' uses a hexbin plot of the joint distribution\n",
        "\n",
        "For this exercise, you will again use sns.jointplot() to display the joint distribution of the hp and mpg columns of the auto DataFrame. This time, you will use kind='hex' to generate a hexbin plot of the joint distribution."
      ]
    },
    {
      "cell_type": "code",
      "metadata": {
        "id": "t_ZV4SJU-i-9"
      },
      "source": [
        "# Generate a joint plot of 'hp' and 'mpg' using a hexbin plot\n",
        "sns.jointplot(x='hp', y='mpg', data=auto, kind='hex')\n",
        "\n",
        "# Display the plot\n",
        "plt.show()\n"
      ],
      "execution_count": null,
      "outputs": []
    },
    {
      "cell_type": "markdown",
      "metadata": {
        "id": "nhfjecKV_-zj"
      },
      "source": [
        "# Plotting distributions pairwise (1)\n",
        "\n",
        "Data sets often contain more than two continuous variables. The function sns.jointplot() is restricted to representing joint variation between only two quantities (i.e., two columns of a DataFrame). Visualizing multivariate relationships is trickier.\n",
        "\n",
        "The function sns.pairplot() constructs a grid of all joint plots pairwise from all pairs of (non-categorical) columns in a DataFrame. The syntax is very simple: sns.pairplot(df), where df is a DataFrame. The non-categorical columns are identified and the corresponding joint plots are plotted in a square grid of subplots. The diagonal of the subplot grid shows the univariate histograms of the individual columns."
      ]
    },
    {
      "cell_type": "code",
      "metadata": {
        "id": "uTM0UB8aACbb"
      },
      "source": [
        "# Print the first 5 rows of the DataFrame\n",
        "print(auto.head())\n",
        "\n",
        "# Plot the pairwise joint distributions from the DataFrame \n",
        "sns.pairplot(auto)\n",
        "\n",
        "# Display the plot\n",
        "plt.show()"
      ],
      "execution_count": null,
      "outputs": []
    },
    {
      "cell_type": "markdown",
      "metadata": {
        "id": "ufnUXTNeAa8r"
      },
      "source": [
        "# Plotting distributions pairwise (2)\n",
        "\n",
        "In this exercise, you will generate pairwise joint distributions again. This time, you will make two particular additions:\n",
        "\n",
        "You will display regressions as well as scatter plots in the off-diagonal subplots. You will do this with the argument kind='reg' (where 'reg' means 'regression'). Another option for kind is 'scatter' (the default) that plots scatter plots in the off-diagonal subplots.\n",
        "\n",
        "You will also visualize the joint distributions separated by continent of origin. You will do this with the keyword argument hue specifying the 'origin'."
      ]
    },
    {
      "cell_type": "code",
      "metadata": {
        "id": "DbZnoPt4BKgW"
      },
      "source": [
        "# Print the first 5 rows of the DataFrame\n",
        "print(auto.head())\n",
        "\n",
        "# Plot the pairwise joint distributions grouped by 'origin' along with regression lines\n",
        "sns.pairplot(auto, kind='reg', hue='origin')\n",
        "\n",
        "# Display the plot\n",
        "plt.show()\n"
      ],
      "execution_count": null,
      "outputs": []
    },
    {
      "cell_type": "markdown",
      "metadata": {
        "id": "PmhRTgdOBjnp"
      },
      "source": [
        "# Visualizing correlations with a heatmap\n",
        "\n",
        "Plotting relationships between many variables using a pair plot can quickly get visually overwhelming. It is therefore often useful to compute covariances between the variables instead. The covariance matrix can then easily be visualized as a heatmap. A heatmap is effectively a pseudocolor plot with labelled rows and columns (i.e., a pseudocolor plot based on a pandas DataFrame rather than a matrix). The DataFrame does not have to be square or symmetric (but, in the context of a covariance matrix, it is both).\n",
        "\n",
        "In this exercise, you will view the covariance matrix between the continuous variables in the auto-mpg dataset. You do not have to know here how the covariance matrix is computed; the important point is that its diagonal entries are all 1s, and the off-diagonal entries are between -1 and +1 (quantifying the degree to which variable pairs vary jointly). It is also, then, a symmetric matrix."
      ]
    },
    {
      "cell_type": "code",
      "metadata": {
        "id": "m1DptFOCCB-k"
      },
      "source": [
        "# Print the covariance matrix\n",
        "print(cov_matrix)\n",
        "\n",
        "# Visualize the covariance matrix using a heatmap\n",
        "sns.heatmap(cov_matrix)\n",
        "\n",
        "# Display the heatmap\n",
        "plt.show()"
      ],
      "execution_count": null,
      "outputs": []
    }
  ]
}