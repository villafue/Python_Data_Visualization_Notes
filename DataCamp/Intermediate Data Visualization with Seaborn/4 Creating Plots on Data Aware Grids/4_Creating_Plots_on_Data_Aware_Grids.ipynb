{
  "nbformat": 4,
  "nbformat_minor": 0,
  "metadata": {
    "colab": {
      "name": "4 Creating Plots on Data Aware Grids.ipynb",
      "provenance": [],
      "authorship_tag": "ABX9TyPPUn0LAT4EJ3sk537nsHZo",
      "include_colab_link": true
    },
    "kernelspec": {
      "name": "python3",
      "display_name": "Python 3"
    }
  },
  "cells": [
    {
      "cell_type": "markdown",
      "metadata": {
        "id": "view-in-github",
        "colab_type": "text"
      },
      "source": [
        "<a href=\"https://colab.research.google.com/github/villafue/Python_Data_Visualization_Notes/blob/master/DataCamp/Intermediate%20Data%20Visualization%20with%20Seaborn/4%20Creating%20Plots%20on%20Data%20Aware%20Grids/4_Creating_Plots_on_Data_Aware_Grids.ipynb\" target=\"_parent\"><img src=\"https://colab.research.google.com/assets/colab-badge.svg\" alt=\"Open In Colab\"/></a>"
      ]
    },
    {
      "cell_type": "code",
      "metadata": {
        "id": "2XHaWy6fv8dN"
      },
      "source": [
        ""
      ],
      "execution_count": null,
      "outputs": []
    }
  ]
}