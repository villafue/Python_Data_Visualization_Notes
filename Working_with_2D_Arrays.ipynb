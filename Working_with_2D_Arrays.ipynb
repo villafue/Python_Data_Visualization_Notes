{
  "nbformat": 4,
  "nbformat_minor": 0,
  "metadata": {
    "colab": {
      "name": "Working with 2D Arrays.ipynb",
      "provenance": [],
      "toc_visible": true,
      "authorship_tag": "ABX9TyMDJHcmFIVT9QjFdoCCZr7q",
      "include_colab_link": true
    },
    "kernelspec": {
      "name": "python3",
      "display_name": "Python 3"
    }
  },
  "cells": [
    {
      "cell_type": "markdown",
      "metadata": {
        "id": "view-in-github",
        "colab_type": "text"
      },
      "source": [
        "<a href=\"https://colab.research.google.com/github/villafue/Python_Data_Visualization_Notes/blob/master/Working_with_2D_Arrays.ipynb\" target=\"_parent\"><img src=\"https://colab.research.google.com/assets/colab-badge.svg\" alt=\"Open In Colab\"/></a>"
      ]
    },
    {
      "cell_type": "markdown",
      "metadata": {
        "id": "TOiG6lAVD-DF",
        "colab_type": "text"
      },
      "source": [
        "# Generating meshes\n",
        "In order to visualize two-dimensional arrays of data, it is necessary to understand how to generate and manipulate 2-D arrays. Many Matplotlib plots support arrays as input and in particular, they support NumPy arrays. The NumPy library is the most widely-supported means for supporting numeric arrays in Python.\n",
        "\n",
        "In this exercise, you will use the meshgrid function in NumPy to generate 2-D arrays which you will then visualize using plt.imshow(). The simplest way to generate a meshgrid is as follows:\n",
        "\n",
        "import numpy as np\n",
        "Y,X = np.meshgrid(range(10),range(20))\n",
        "\n",
        "This will create two arrays with a shape of (20,10), which corresponds to 20 rows along the Y-axis and 10 columns along the X-axis. In this exercise, you will use np.meshgrid() to generate a regular 2-D sampling of a mathematical function."
      ]
    },
    {
      "cell_type": "code",
      "metadata": {
        "id": "9uPNuA2eDlry",
        "colab_type": "code",
        "colab": {}
      },
      "source": [
        "# Import numpy and matplotlib.pyplot\n",
        "import numpy as np\n",
        "import matplotlib.pyplot as plt\n",
        "\n",
        "# Generate two 1-D arrays: u, v\n",
        "u = np.linspace(-2, 2, 41)\n",
        "v = np.linspace(-1, 1, 21)\n",
        "\n",
        "# Generate 2-D arrays from u and v: X, Y\n",
        "X,Y = np.meshgrid(u, v)\n",
        "\n",
        "# Compute Z based on X and Y\n",
        "Z = np.sin(3*np.sqrt(X**2 + Y**2)) \n",
        "\n",
        "# Display the resulting image with pcolor()\n",
        "plt.pcolor(Z)\n",
        "plt.show()\n",
        "\n",
        "# Save the figure to 'sine_mesh.png'\n",
        "plt.savefig('sine_mesh.png')\n"
      ],
      "execution_count": null,
      "outputs": []
    },
    {
      "cell_type": "markdown",
      "metadata": {
        "id": "vR0O6ovWdAx-",
        "colab_type": "text"
      },
      "source": [
        "# Contour & filled contour plots\n",
        "\n",
        "Although plt.imshow() or plt.pcolor() are often used to visualize a 2-D array in entirety, there are other ways of visualizing such data without displaying all of the available sample values. One option is to use the array to compute contours that are visualized instead.\n",
        "\n",
        "Two types of contour plot supported by Matplotlib are plt.contour() and plt.contourf() where the former displays the contours as lines and the latter displayed filled areas between contours. Both these plotting commands accept a two dimensional array from which the appropriate contours are computed.\n",
        "\n",
        "In this exercise, you will visualize a 2-D array repeatedly using both plt.contour() and plt.contourf(). You will use plt.subplot() to display several contour plots in a common figure, using the meshgrid X, Y as the axes. For example, plt.contour(X, Y, Z) generates a default contour map of the array Z.\n",
        "\n",
        "Don't forget to include the meshgrid in each plot for this exercise!"
      ]
    },
    {
      "cell_type": "code",
      "metadata": {
        "id": "0PuAL4QxfJ-U",
        "colab_type": "code",
        "colab": {}
      },
      "source": [
        "# Generate a default contour map of the array Z\n",
        "plt.subplot(2,2,1)\n",
        "plt.contour(X, Y, Z)\n",
        "\n",
        "# Generate a contour map with 20 contours\n",
        "plt.subplot(2,2,2)\n",
        "plt.contour(X, Y, Z, 20)\n",
        "\n",
        "# Generate a default filled contour map of the array Z\n",
        "plt.subplot(2,2,3)\n",
        "plt.contourf(X, Y, Z)\n",
        "\n",
        "# Generate a default filled contour map with 20 contours\n",
        "plt.subplot(2,2,4)\n",
        "plt.contourf(X, Y, Z, 20)\n",
        "\n",
        "# Improve the spacing between subplots\n",
        "plt.tight_layout()\n",
        "\n",
        "# Display the figure\n",
        "plt.show()\n",
        "\n"
      ],
      "execution_count": null,
      "outputs": []
    },
    {
      "cell_type": "markdown",
      "metadata": {
        "id": "8bTLxUKmqp33",
        "colab_type": "text"
      },
      "source": [
        "# Modifying colormaps\n",
        "When displaying a 2-D array with plt.imshow() or plt.pcolor(), the values of the array are mapped to a corresponding color. The set of colors used is determined by a colormap which smoothly maps values to colors, making it easy to understand the structure of the data at a glance.\n",
        "\n",
        "It is often useful to change the colormap from the default 'jet' colormap used by matplotlib. A good colormap is visually pleasing and conveys the structure of the data faithfully and in a way that makes sense for the application.\n",
        "\n",
        "Some matplotlib colormaps have unique names such as 'jet', 'coolwarm', 'magma' and 'viridis'.\n",
        "\n",
        "Others have a naming scheme based on overall color such as 'Greens', 'Blues', 'Reds', and 'Purples'.\n",
        "\n",
        "Another four colormaps are based on the seasons, namely 'summer', 'autumn', 'winter' and 'spring'.\n",
        "\n",
        "You can insert the option cmap=<name> into most matplotlib functions to change the color map of the resulting plot.\n",
        "\n",
        "In this exercise, you will explore four different colormaps together using plt.subplot(). You will use a pregenerated array Z and a meshgrid X, Y to generate the same filled contour plot with four different color maps. Be sure to also add a color bar to each filled contour plot with plt.colorbar()."
      ]
    },
    {
      "cell_type": "code",
      "metadata": {
        "id": "cZXVu6Irqr-U",
        "colab_type": "code",
        "colab": {}
      },
      "source": [
        "# Create a filled contour plot with a color map of 'viridis'\n",
        "plt.subplot(2,2,1)\n",
        "plt.contourf(X,Y,Z,20, cmap='viridis')\n",
        "plt.colorbar()\n",
        "plt.title('Viridis')\n",
        "\n",
        "# Create a filled contour plot with a color map of 'gray'\n",
        "plt.subplot(2,2,2)\n",
        "plt.contourf(X,Y,Z,20, cmap='gray')\n",
        "plt.colorbar()\n",
        "plt.title('Gray')\n",
        "\n",
        "# Create a filled contour plot with a color map of 'autumn'\n",
        "plt.subplot(2,2,3)\n",
        "plt.contourf(X,Y,Z,20, cmap='autumn')\n",
        "plt.colorbar()\n",
        "plt.title('Autumn')\n",
        "\n",
        "# Create a filled contour plot with a color map of 'winter'\n",
        "plt.subplot(2,2,4)\n",
        "plt.contourf(X,Y,Z,20, cmap='winter')\n",
        "plt.colorbar()\n",
        "plt.title('Winter')\n",
        "\n",
        "# Improve the spacing between subplots and display them\n",
        "plt.tight_layout()\n",
        "plt.show()\n"
      ],
      "execution_count": null,
      "outputs": []
    },
    {
      "cell_type": "markdown",
      "metadata": {
        "id": "XCnEjMCQr4H5",
        "colab_type": "text"
      },
      "source": [
        "# Using hist2d()\n",
        "\n",
        "Given a set of ordered pairs describing data points, you can count the number of points with similar values to construct a two-dimensional histogram. This is similar to a one-dimensional histogram, but it describes the joint variation of two random variables rather than just one.\n",
        "\n",
        "In matplotlib, one function to visualize 2-D histograms is plt.hist2d().\n",
        "\n",
        "You specify the coordinates of the points using plt.hist2d(x,y) assuming x and y are two vectors of the same length.\n",
        "\n",
        "You can specify the number of bins with the argument bins=(nx, ny) where nx is the number of bins to use in the horizontal direction and ny is the number of bins to use in the vertical direction.\n",
        "\n",
        "You can specify the rectangular region in which the samples are counted in constructing the 2D histogram. The optional parameter required is range=((xmin, xmax), (ymin, ymax)) where\n",
        "\n",
        "xmin and xmax are the respective lower and upper limits for the variables on the x-axis and\n",
        "\n",
        "ymin and ymax are the respective lower and upper limits for the variables on the y-axis. Notice that the optional range argument can use nested tuples or lists."
      ]
    },
    {
      "cell_type": "code",
      "metadata": {
        "id": "Wj0vF5adAt4k",
        "colab_type": "code",
        "colab": {}
      },
      "source": [
        "# Generate a 2-D histogram\n",
        "plt.hist2d(hp, mpg, bins=(20,20), range=((40, 235), range=(8, 48)))\n",
        "# Add a color bar to the histogram\n",
        "plt.colorbar()\n",
        "\n",
        "# Add labels, title, and display the plot\n",
        "plt.xlabel('Horse power [hp]')\n",
        "plt.ylabel('Miles per gallon [mpg]')\n",
        "plt.title('hist2d() plot')\n",
        "plt.show()\n"
      ],
      "execution_count": null,
      "outputs": []
    },
    {
      "cell_type": "markdown",
      "metadata": {
        "id": "Yma1FrJsB4rv",
        "colab_type": "text"
      },
      "source": [
        "# Using hexbin()\n",
        "\n",
        "The function plt.hist2d() uses rectangular bins to construct a two dimensional histogram. As an alternative, the function plt.hexbin() uses hexagonal bins. The underlying algorithm (based on this article from 1987) constructs a hexagonal tesselation of a planar region and aggregates points inside hexagonal bins.\n",
        "\n",
        "The optional gridsize argument (default 100) gives the number of hexagons across the x-direction used in the hexagonal tiling. If specified as a list or a tuple of length two, gridsize fixes the number of hexagon in the x- and y-directions respectively in the tiling.\n",
        "\n",
        "The optional parameter extent=(xmin, xmax, ymin, ymax) specifies rectangular region covered by the hexagonal tiling. In that case, xmin and xmax are the respective lower and upper limits for the variables on the x-axis and ymin and ymax are the respective lower and upper limits for the variables on the y-axis."
      ]
    },
    {
      "cell_type": "code",
      "metadata": {
        "id": "DflX7mu6B3x0",
        "colab_type": "code",
        "colab": {}
      },
      "source": [
        "# Generate a 2d histogram with hexagonal bins\n",
        "plt.hexbin(hp, mpg, gridsize=(15,12), extent=(40,235,8,48))\n",
        "\n",
        "           \n",
        "# Add a color bar to the histogram\n",
        "plt.colorbar()\n",
        "\n",
        "# Add labels, title, and display the plot\n",
        "plt.xlabel('Horse power [hp]')\n",
        "plt.ylabel('Miles per gallon [mpg]')\n",
        "plt.title('hexbin() plot')\n",
        "plt.show()\n"
      ],
      "execution_count": null,
      "outputs": []
    },
    {
      "cell_type": "markdown",
      "metadata": {
        "id": "XOMe9I9eFSFF",
        "colab_type": "text"
      },
      "source": [
        "# Loading, examining images\n",
        "\n",
        "Color images such as photographs contain the intensity of the red, green and blue color channels.\n",
        "\n",
        "To read an image from file, use plt.imread() by passing the path to a file, such as a PNG or JPG file.\n",
        "\n",
        "The color image can be plotted as usual using plt.imshow().\n",
        "\n",
        "The resulting image loaded is a NumPy array of three dimensions. The array typically has dimensions M×N×3, where M×N is the dimensions of the image. The third dimensions are referred to as color channels (typically red, green, and blue).\n",
        "\n",
        "The color channels can be extracted by Numpy array slicing."
      ]
    },
    {
      "cell_type": "code",
      "metadata": {
        "id": "F3tSPvlmFWr7",
        "colab_type": "code",
        "colab": {}
      },
      "source": [
        "# Load the image into an array: img\n",
        "img = plt.imread('480px-Astronaut-EVA.jpg')\n",
        "\n",
        "# Print the shape of the image\n",
        "print(img.shape)\n",
        "\n",
        "# Display the image\n",
        "plt.imshow(img)\n",
        "\n",
        "# Hide the axes\n",
        "plt.axis('off')\n",
        "plt.show()\n"
      ],
      "execution_count": null,
      "outputs": []
    },
    {
      "cell_type": "markdown",
      "metadata": {
        "id": "Ws_Q58IdFxwe",
        "colab_type": "text"
      },
      "source": [
        "# Pseudocolor plot from image data\n",
        "\n",
        "Image data comes in many forms and it is not always appropriate to display the available channels in RGB space. In many situations, an image may be processed and analysed in some way before it is visualized in pseudocolor, also known as 'false' color.\n",
        "\n",
        "In this exercise, you will perform a simple analysis using the image showing an astronaut as viewed from space. Instead of simply displaying the image, you will compute the total intensity across the red, green and blue channels. The result is a single two dimensional array which you will display using plt.imshow() with the 'gray' colormap."
      ]
    },
    {
      "cell_type": "code",
      "metadata": {
        "id": "mMXd5H9EF7qu",
        "colab_type": "code",
        "colab": {}
      },
      "source": [
        "# Load the image into an array: img\n",
        "img = plt.imread('480px-Astronaut-EVA.jpg')\n",
        "\n",
        "# Print the shape of the image\n",
        "print(img.shape)\n",
        "\n",
        "# Compute the sum of the red, green and blue channels: intensity\n",
        "intensity = img.sum(axis=2)\n",
        "\n",
        "# Print the shape of the intensity\n",
        "print(intensity.shape)\n",
        "\n",
        "# Display the intensity with a colormap of 'gray'\n",
        "plt.imshow(intensity, cmap='gray')\n",
        "\n",
        "# Add a colorbar\n",
        "plt.colorbar()\n",
        "\n",
        "# Hide the axes and show the figure\n",
        "plt.axis('off')\n",
        "plt.show()\n"
      ],
      "execution_count": null,
      "outputs": []
    },
    {
      "cell_type": "markdown",
      "metadata": {
        "id": "l8OOB8bBHBQ_",
        "colab_type": "text"
      },
      "source": [
        "# Extent and aspect\n",
        "\n",
        "When using plt.imshow() to display an array, the default behavior is to keep pixels square so that the height to width ratio of the output matches the ratio determined by the shape of the array. In addition, by default, the x- and y-axes are labeled by the number of samples in each direction.\n",
        "\n",
        "The ratio of the displayed width to height is known as the image aspect and the range used to label the x- and y-axes is known as the image extent. The default aspect value of 'auto' keeps the pixels square and the extents are automatically computed from the shape of the array if not specified otherwise.\n",
        "\n",
        "In this exercise, you will investigate how to set these options explicitly by plotting the same image in a 2 by 2 grid of subplots with distinct aspect and extent options."
      ]
    },
    {
      "cell_type": "code",
      "metadata": {
        "id": "IDV5d4tqHDgO",
        "colab_type": "code",
        "colab": {}
      },
      "source": [
        "# Load the image into an array: img\n",
        "img = plt.imread('480px-Astronaut-EVA.jpg')\n",
        "\n",
        "# Specify the extent and aspect ratio of the top left subplot\n",
        "plt.subplot(2,2,1)\n",
        "plt.title('extent=(-1,1,-1,1),\\naspect=0.5') \n",
        "plt.xticks([-1,0,1])\n",
        "plt.yticks([-1,0,1])\n",
        "plt.imshow(img, extent=(-1,1,-1,1), aspect=0.5)\n",
        "\n",
        "# Specify the extent and aspect ratio of the top right subplot\n",
        "plt.subplot(2,2,2)\n",
        "plt.title('extent=(-1,1,-1,1),\\naspect=1')\n",
        "plt.xticks([-1,0,1])\n",
        "plt.yticks([-1,0,1])\n",
        "plt.imshow(img, extent=(-1,1,-1,1), aspect=1.0)\n",
        "\n",
        "# Specify the extent and aspect ratio of the bottom left subplot\n",
        "plt.subplot(2,2,3)\n",
        "plt.title('extent=(-1,1,-1,1),\\naspect=2')\n",
        "plt.xticks([-1,0,1])\n",
        "plt.yticks([-1,0,1])\n",
        "plt.imshow(img, extent=(-1,1,-1,1), aspect=2.0)\n",
        "\n",
        "# Specify the extent and aspect ratio of the bottom right subplot\n",
        "plt.subplot(2,2,4)\n",
        "plt.title('extent=(-2,2,-1,1),\\naspect=2')\n",
        "plt.xticks([-2,-1,0,1,2])\n",
        "plt.yticks([-1,0,1])\n",
        "plt.imshow(img, extent=(-2,2,-1,1), aspect=2.0)\n",
        "\n",
        "# Improve spacing and display the figure\n",
        "plt.tight_layout()\n",
        "plt.show()"
      ],
      "execution_count": null,
      "outputs": []
    },
    {
      "cell_type": "markdown",
      "metadata": {
        "id": "Q_81OwmSYjqn",
        "colab_type": "text"
      },
      "source": [
        "# Rescaling pixel intensities\n",
        "Sometimes, low contrast images can be improved by rescaling their intensities. \n",
        "\n",
        "For instance, this image of Hawkes Bay, New Zealand has no pixel values near 0 or near 255 (the limits of valid intensities). (originally by Phillip Capper, modified by User:Konstable, via Wikimedia Commons, CC BY 2.0) Hawkes Bay, New Zealand\n",
        "\n",
        "For this exercise, you will do a simple rescaling (remember, an image is NumPy array) to translate and stretch the pixel intensities so that the intensities of the new image fill the range from 0 to 255."
      ]
    },
    {
      "cell_type": "code",
      "metadata": {
        "id": "tRmXnHUsYsK9",
        "colab_type": "code",
        "colab": {}
      },
      "source": [
        "# Load the image into an array: image\n",
        "image = plt.imread('640px-Unequalized_Hawkes_Bay_NZ.jpg')\n",
        "\n",
        "# Extract minimum and maximum values from the image: pmin, pmax\n",
        "pmin, pmax = image.min(), image.max()\n",
        "print(\"The smallest & largest pixel intensities are %d & %d.\" % (pmin, pmax))\n",
        "\n",
        "# Rescale the pixels: rescaled_image\n",
        "rescaled_image = 256*(image - pmin) / (pmax - pmin)\n",
        "print(\"The rescaled smallest & largest pixel intensities are %.1f & %.1f.\" % \n",
        "      (rescaled_image.min(), rescaled_image.max()))\n",
        "\n",
        "# Display the rescaled image\n",
        "plt.title('rescaled image')\n",
        "plt.axis('off')\n",
        "plt.imshow(rescaled_image)\n",
        "\n",
        "plt.show()\n"
      ],
      "execution_count": null,
      "outputs": []
    }
  ]
}